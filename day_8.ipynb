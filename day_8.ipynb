{
 "cells": [
  {
   "cell_type": "markdown",
   "id": "4d6f153a",
   "metadata": {},
   "source": [
    "1) Pattern (Without using list and using List)\n",
    "* \n",
    "* * \n",
    "* * * \n",
    "* * * * \n",
    "* * * * * "
   ]
  },
  {
   "cell_type": "code",
   "execution_count": 15,
   "id": "ddca1322",
   "metadata": {},
   "outputs": [
    {
     "name": "stdout",
     "output_type": "stream",
     "text": [
      "* \n",
      "* * \n",
      "* * * \n",
      "* * * * \n",
      "* * * * * \n"
     ]
    }
   ],
   "source": [
    "i = 1\n",
    "while i<=5:\n",
    "  print ('* '*i)\n",
    "#   print(i)\n",
    "  i = i+1\n",
    "    "
   ]
  },
  {
   "cell_type": "markdown",
   "id": "c08fe70c",
   "metadata": {},
   "source": [
    "Triangle pattern (Use anything , data types , loops)\n",
    "    * \n",
    "   * * \n",
    "  * * * \n",
    " * * * * \n",
    "* * * * *"
   ]
  },
  {
   "cell_type": "code",
   "execution_count": 9,
   "id": "8c704899",
   "metadata": {},
   "outputs": [
    {
     "name": "stdout",
     "output_type": "stream",
     "text": [
      "(0, 0)  \n",
      "(0, 1)  \n",
      "(0, 2)  \n",
      "*\n",
      "(1, 0)  \n",
      "(1, 1)  \n",
      "(1, 2)  \n",
      "*\n",
      "(2, 0)  \n",
      "(2, 1)  \n",
      "(2, 2)  \n",
      "*\n"
     ]
    }
   ],
   "source": [
    "for i in range(3):\n",
    "    for j in range(3):\n",
    "        print((i, j), \" \")\n",
    "    print('*')"
   ]
  },
  {
   "cell_type": "code",
   "execution_count": null,
   "id": "0c22f07d",
   "metadata": {},
   "outputs": [],
   "source": []
  }
 ],
 "metadata": {
  "kernelspec": {
   "display_name": "Python 3 (ipykernel)",
   "language": "python",
   "name": "python3"
  },
  "language_info": {
   "codemirror_mode": {
    "name": "ipython",
    "version": 3
   },
   "file_extension": ".py",
   "mimetype": "text/x-python",
   "name": "python",
   "nbconvert_exporter": "python",
   "pygments_lexer": "ipython3",
   "version": "3.9.12"
  }
 },
 "nbformat": 4,
 "nbformat_minor": 5
}
