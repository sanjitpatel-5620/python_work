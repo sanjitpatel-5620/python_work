{
 "cells": [
  {
   "cell_type": "code",
   "execution_count": 184,
   "id": "3ef84a44",
   "metadata": {},
   "outputs": [
    {
     "name": "stdout",
     "output_type": "stream",
     "text": [
      "*\n",
      "*\n",
      "*\n",
      "*\n",
      "*\n"
     ]
    }
   ],
   "source": [
    "n = 5\n",
    "for i in range(5):\n",
    "    print('*')"
   ]
  },
  {
   "cell_type": "code",
   "execution_count": 185,
   "id": "92117172",
   "metadata": {},
   "outputs": [
    {
     "name": "stdout",
     "output_type": "stream",
     "text": [
      "* * * * * "
     ]
    }
   ],
   "source": [
    "n = 5\n",
    "for i in range(5):\n",
    "    print('*', end=' ')"
   ]
  },
  {
   "cell_type": "code",
   "execution_count": 256,
   "id": "78c1a20c",
   "metadata": {},
   "outputs": [
    {
     "name": "stdout",
     "output_type": "stream",
     "text": [
      "* * * * * \n",
      "* *     * \n",
      "*   *   * \n",
      "*     * * \n",
      "* * * * * \n"
     ]
    }
   ],
   "source": [
    "n= 5\n",
    "for i in range(n):\n",
    "    for j in range(n):\n",
    "        if i== 0 or j==0 or i == n-1 or j==n-1 or i==j:\n",
    "            print('*', end=\" \")\n",
    "        else:\n",
    "            print(\" \",end=' ')\n",
    "    print()"
   ]
  },
  {
   "cell_type": "code",
   "execution_count": 254,
   "id": "0855d40f",
   "metadata": {},
   "outputs": [
    {
     "name": "stdout",
     "output_type": "stream",
     "text": [
      "* * * * * \n",
      "*       * \n",
      "*       * \n",
      "*       * \n",
      "* * * * * \n"
     ]
    }
   ],
   "source": [
    "n= 5\n",
    "a = n-1\n",
    "for i in range(n):\n",
    "    for j in range(n):\n",
    "        if i==0 or j==0 or i== a or j == a:\n",
    "            print('*', end=\" \")\n",
    "        else:\n",
    "            print(\" \",end=' ')\n",
    "    print()"
   ]
  },
  {
   "cell_type": "code",
   "execution_count": 258,
   "id": "39645838",
   "metadata": {},
   "outputs": [
    {
     "name": "stdout",
     "output_type": "stream",
     "text": [
      "* \n",
      "* * \n",
      "* * * \n",
      "* * * * \n",
      "* * * * * \n"
     ]
    }
   ],
   "source": [
    "i = 1\n",
    "while i<=5:  \n",
    "  print ('* '*i)\n",
    "#   print(i)\n",
    "  i = i+1\n",
    "    "
   ]
  },
  {
   "cell_type": "code",
   "execution_count": 261,
   "id": "0107af41",
   "metadata": {},
   "outputs": [
    {
     "name": "stdout",
     "output_type": "stream",
     "text": [
      "eter the number of raw 5\n",
      "* \n",
      "* * \n",
      "* * * \n",
      "* * * * \n",
      "* * * * * \n"
     ]
    }
   ],
   "source": [
    "n = int(input(\"eter the number of raw \"))\n",
    "for i in range(n):\n",
    "    for j in range(i+1):\n",
    "        print(\"*\",end=\" \")\n",
    "    print()"
   ]
  },
  {
   "cell_type": "code",
   "execution_count": 191,
   "id": "9a5b382e",
   "metadata": {},
   "outputs": [
    {
     "name": "stdout",
     "output_type": "stream",
     "text": [
      "eter the number of raw 5\n",
      " *  *  *  *  * \n",
      " *  *  *  * \n",
      " *  *  * \n",
      " *  * \n",
      " * \n"
     ]
    }
   ],
   "source": [
    "n = int(input(\"eter the number of raw \"))\n",
    "for i in range(n,0,-1):\n",
    "#     print(i)\n",
    "    for j in range(i,0,-1):\n",
    "        print(\" *\",end=\" \")\n",
    "    print()"
   ]
  },
  {
   "cell_type": "code",
   "execution_count": 259,
   "id": "25828055",
   "metadata": {},
   "outputs": [
    {
     "name": "stdout",
     "output_type": "stream",
     "text": [
      "eter the number of raw 5\n",
      "            \n",
      "          * \n",
      "        * * \n",
      "      * * * \n",
      "    * * * * \n",
      "  * * * * * \n"
     ]
    }
   ],
   "source": [
    "n = int(input(\"eter the number of raw \"))\n",
    "for i in range(n+1,0,-1):\n",
    "#     print(\"i\",i)\n",
    "    for j in range(i,0,-1):\n",
    "        print(\" \",end=\" \")\n",
    "    for j in range(i,n+1):\n",
    "#         print(\"value of j\",j)\n",
    "        print('*', end=' ')\n",
    "    print()"
   ]
  },
  {
   "cell_type": "code",
   "execution_count": 187,
   "id": "7453c8c9",
   "metadata": {},
   "outputs": [
    {
     "name": "stdout",
     "output_type": "stream",
     "text": [
      "* * * * *  \n",
      "* * * *  \n",
      "* * *  \n",
      "* *  \n",
      "*  \n",
      " \n"
     ]
    }
   ],
   "source": [
    "rows = 5\n",
    "for i in range(rows + 1, 0, -1):    \n",
    "    for j in range(0, i - 1):  \n",
    "        print(\"*\", end=' ')  \n",
    "    print(\" \") "
   ]
  },
  {
   "cell_type": "code",
   "execution_count": 257,
   "id": "13a5652d",
   "metadata": {},
   "outputs": [
    {
     "name": "stdout",
     "output_type": "stream",
     "text": [
      " y 6\n",
      "      *   \n",
      "     *  *   \n",
      "    *  *  *   \n",
      "   *  *  *  *   \n",
      "  *  *  *  *  *   \n"
     ]
    }
   ],
   "source": [
    "n = 5\n",
    "y = n +1\n",
    "print(\" y\", y) \n",
    "for i in range(0, n):\n",
    "    for j in range(0, y):\n",
    "        print(end=\" \")\n",
    "    y = y-1\n",
    "    for j in range(0, i + 1):\n",
    "        print(\"* \", end=' ')\n",
    "    print(\" \")"
   ]
  },
  {
   "cell_type": "code",
   "execution_count": 289,
   "id": "7f9ba649",
   "metadata": {},
   "outputs": [
    {
     "name": "stdout",
     "output_type": "stream",
     "text": [
      "          * \n",
      "        * * * \n",
      "      * * * * * \n",
      "    * * * * * * * \n",
      "  * * * * * * * * * \n"
     ]
    }
   ],
   "source": [
    "n= 5\n",
    "for i in range(n):\n",
    "#     print(i)\n",
    "    for j in range(i,n):\n",
    "        print(' ', end=' ')\n",
    "    for j in range(i):\n",
    "        print('*', end =' ')\n",
    "    for j in range(i+1):\n",
    "        print('*', end=' ')\n",
    "    print()"
   ]
  },
  {
   "cell_type": "code",
   "execution_count": null,
   "id": "72fba596",
   "metadata": {},
   "outputs": [],
   "source": [
    "for j in range(i+1):\n",
    "        print(\"*\",end=\" \")\n",
    "    print()"
   ]
  },
  {
   "cell_type": "markdown",
   "id": "b96385de",
   "metadata": {},
   "source": [
    "        * * * * * * \n",
    "         * * * * * \n",
    "          * * * *   \n",
    "           * * * \n",
    "            * * \n",
    "             * "
   ]
  },
  {
   "cell_type": "code",
   "execution_count": 74,
   "id": "e89fa405",
   "metadata": {},
   "outputs": [
    {
     "name": "stdout",
     "output_type": "stream",
     "text": [
      "Enter the number of rows: 5\n",
      "6\n",
      "      * * * * * * \n",
      "       * * * * * \n",
      "        * * * * \n",
      "         * * * \n",
      "          * * \n",
      "           * \n"
     ]
    }
   ],
   "source": [
    "rows = int(input(\"enter the number of rows: \"))   \n",
    "k = rows +1\n",
    "print(k)\n",
    "for i in range(rows, -1, -1):\n",
    "#     print(\"i\", i)\n",
    "    for j in range(k, 0, -1):\n",
    "#         print(\"j \", j)\n",
    "        print(end=\" \") \n",
    "#         print(\"i and j\",i , j)\n",
    "    k = k + 1   \n",
    "    for j in range(0, i + 1):  \n",
    "        print(\"*\", end=\" \")  \n",
    "    print(\"\")  "
   ]
  },
  {
   "cell_type": "code",
   "execution_count": 81,
   "id": "d360df23",
   "metadata": {},
   "outputs": [
    {
     "name": "stdout",
     "output_type": "stream",
     "text": [
      "* \n",
      "* * \n",
      "* * * \n",
      "* * * * \n",
      "* * * * * \n"
     ]
    }
   ],
   "source": [
    "n = 5\n",
    "for i in range(n):\n",
    "    for j in range(i+1):\n",
    "        print('*', end=' ')\n",
    "    print()\n",
    "        "
   ]
  },
  {
   "cell_type": "code",
   "execution_count": 95,
   "id": "7edf4e62",
   "metadata": {},
   "outputs": [
    {
     "name": "stdout",
     "output_type": "stream",
     "text": [
      "* * * * * \n",
      "* * * * \n",
      "* * * \n",
      "* * \n",
      "* \n"
     ]
    }
   ],
   "source": [
    "n= 5\n",
    "for i in range(n):\n",
    "    for j in range(i,n):\n",
    "        print('*', end=' ')\n",
    "    print()"
   ]
  },
  {
   "cell_type": "code",
   "execution_count": 101,
   "id": "00a8a28d",
   "metadata": {},
   "outputs": [
    {
     "name": "stdout",
     "output_type": "stream",
     "text": [
      "  * * * * * \n",
      "    * * * * \n",
      "      * * * \n",
      "        * * \n",
      "          * \n"
     ]
    }
   ],
   "source": [
    "n = 5\n",
    "for i in range(n):\n",
    "    for j in range(i+1):\n",
    "        print(' ', end=' ')\n",
    "    for j in range(i,n):\n",
    "        print('*', end=' ')\n",
    "    print()"
   ]
  },
  {
   "cell_type": "code",
   "execution_count": 160,
   "id": "1b3766ab",
   "metadata": {},
   "outputs": [
    {
     "name": "stdout",
     "output_type": "stream",
     "text": [
      " * * * * * \n",
      "  * * * * \n",
      "   * * * \n",
      "    * * \n",
      "     * \n"
     ]
    }
   ],
   "source": [
    "n = 5\n",
    "for i in range(n):\n",
    "    for j in range(i+1):\n",
    "        print(\"\", end=' ')\n",
    "    for j in range(i,n):\n",
    "        print('*', end=' ')\n",
    "    print()"
   ]
  },
  {
   "cell_type": "code",
   "execution_count": 156,
   "id": "a4a904e2",
   "metadata": {},
   "outputs": [
    {
     "name": "stdout",
     "output_type": "stream",
     "text": [
      "* * * * * \n",
      "* * * * \n",
      "* * * \n",
      "* * \n",
      "* \n"
     ]
    }
   ],
   "source": [
    "n= 5\n",
    "for i in range(n):\n",
    "    for j in range(i,n):\n",
    "        print('*', end=' ')\n",
    "    print()"
   ]
  },
  {
   "cell_type": "code",
   "execution_count": 130,
   "id": "780cb3de",
   "metadata": {},
   "outputs": [
    {
     "name": "stdout",
     "output_type": "stream",
     "text": [
      "* * * * * \n",
      "* * * * \n",
      "* * * \n",
      "* * \n",
      "* \n"
     ]
    }
   ],
   "source": [
    "n = 5\n",
    "for i in range(n,0,-1):\n",
    "    for j in range(i,0,-1):\n",
    "        print('*',end=\" \")\n",
    "    print()"
   ]
  },
  {
   "cell_type": "code",
   "execution_count": 108,
   "id": "e32c216f",
   "metadata": {},
   "outputs": [
    {
     "name": "stdout",
     "output_type": "stream",
     "text": [
      "          * \n",
      "        * * \n",
      "      * * * \n",
      "    * * * * \n",
      "  * * * * * \n"
     ]
    }
   ],
   "source": [
    "n= 5\n",
    "for i in range(n):\n",
    "    for j in range(i,n):\n",
    "        print(' ', end=' ')\n",
    "    for j in range(i+1):\n",
    "        print('*', end =' ')\n",
    "    print()"
   ]
  },
  {
   "cell_type": "code",
   "execution_count": 110,
   "id": "f359d9d1",
   "metadata": {},
   "outputs": [
    {
     "name": "stdout",
     "output_type": "stream",
     "text": [
      "          * \n",
      "        * * * \n",
      "      * * * * * \n",
      "    * * * * * * * \n",
      "  * * * * * * * * * \n"
     ]
    }
   ],
   "source": [
    "n= 5\n",
    "for i in range(n):\n",
    "    for j in range(i,n):\n",
    "        print(' ', end=' ')\n",
    "    for j in range(i):\n",
    "        print('*', end =' ')\n",
    "    for j in range(i+1):\n",
    "        print('*', end=' ')\n",
    "    print()"
   ]
  },
  {
   "cell_type": "code",
   "execution_count": 171,
   "id": "c9384141",
   "metadata": {},
   "outputs": [
    {
     "name": "stdout",
     "output_type": "stream",
     "text": [
      "Enter the number of rows: 5\n",
      "        * \n",
      "       * * \n",
      "      * * * \n",
      "     * * * * \n",
      "    * * * * * \n"
     ]
    }
   ],
   "source": [
    "rows = int(input(\"enter the number of rows: \"))  \n",
    "  \n",
    "k = 2 * rows - 2  \n",
    "for i in range(0, rows):    \n",
    "    for j in range(0, k):  \n",
    "        print(end=\" \")    \n",
    "    k = k - 1    \n",
    "    for j in range(0, i + 1):  \n",
    "        print(\"* \", end=\"\")  \n",
    "    print(\"\") "
   ]
  },
  {
   "cell_type": "code",
   "execution_count": 178,
   "id": "c774214f",
   "metadata": {},
   "outputs": [
    {
     "name": "stdout",
     "output_type": "stream",
     "text": [
      "Enter the number of rows: 5\n",
      "   * * * * * * \n",
      "    * * * * * \n",
      "     * * * * \n",
      "      * * * \n",
      "       * * \n",
      "        * \n"
     ]
    }
   ],
   "source": [
    "rows = int(input(\"enter the number of rows: \"))  \n",
    "  \n",
    "k = 2 * rows - 2    \n",
    "k = rows - 2   \n",
    "for i in range(rows, -1, -1):   \n",
    "    for j in range(k, 0, -1):  \n",
    "        print(end=\" \")   \n",
    "    k = k + 1   \n",
    "    for j in range(0, i + 1):  \n",
    "        print(\"* \", end=\"\")  \n",
    "    print(\"\") "
   ]
  },
  {
   "cell_type": "code",
   "execution_count": 179,
   "id": "df8ec7ed",
   "metadata": {},
   "outputs": [
    {
     "name": "stdout",
     "output_type": "stream",
     "text": [
      "Enter the number of rows: 5\n",
      "        * \n",
      "       * * \n",
      "      * * * \n",
      "     * * * * \n",
      "    * * * * * \n",
      "   * * * * * * \n",
      "    * * * * * \n",
      "     * * * * \n",
      "      * * * \n",
      "       * * \n",
      "        * \n"
     ]
    }
   ],
   "source": [
    "rows = int(input(\"enter the number of rows: \"))  \n",
    "  \n",
    "k = 2 * rows - 2  \n",
    "for i in range(0, rows):    \n",
    "    for j in range(0, k):  \n",
    "        print(end=\" \")    \n",
    "    k = k - 1    \n",
    "    for j in range(0, i + 1):  \n",
    "        print(\"* \", end=\"\")  \n",
    "    print(\"\")   \n",
    "k = rows - 2   \n",
    "for i in range(rows, -1, -1):   \n",
    "    for j in range(k, 0, -1):  \n",
    "        print(end=\" \")   \n",
    "    k = k + 1   \n",
    "    for j in range(0, i + 1):  \n",
    "        print(\"* \", end=\"\")  \n",
    "    print(\"\")  "
   ]
  },
  {
   "cell_type": "code",
   "execution_count": 207,
   "id": "3e6cb1db",
   "metadata": {},
   "outputs": [
    {
     "name": "stdout",
     "output_type": "stream",
     "text": [
      "* \n",
      "* * \n",
      "* * * \n",
      "* * * * \n",
      "* * * * * \n",
      "* * * * \n",
      "* * * \n",
      "* * \n",
      "* \n",
      "\n"
     ]
    }
   ],
   "source": [
    "n = 5\n",
    "for i in range(n):\n",
    "    for j in range(i+1):\n",
    "        print('*', end=' ')\n",
    "    print()\n",
    "for i in range(n):\n",
    "    for j in range(i,n-1):\n",
    "        print('*', end=' ')\n",
    "    print()"
   ]
  },
  {
   "cell_type": "code",
   "execution_count": null,
   "id": "929b7cae",
   "metadata": {},
   "outputs": [],
   "source": []
  }
 ],
 "metadata": {
  "kernelspec": {
   "display_name": "Python 3 (ipykernel)",
   "language": "python",
   "name": "python3"
  },
  "language_info": {
   "codemirror_mode": {
    "name": "ipython",
    "version": 3
   },
   "file_extension": ".py",
   "mimetype": "text/x-python",
   "name": "python",
   "nbconvert_exporter": "python",
   "pygments_lexer": "ipython3",
   "version": "3.9.12"
  }
 },
 "nbformat": 4,
 "nbformat_minor": 5
}
