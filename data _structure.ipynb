{
 "cells": [
  {
   "cell_type": "markdown",
   "id": "97ea94cf",
   "metadata": {},
   "source": [
    "Data structure \n",
    "string list tuple set dictionary"
   ]
  },
  {
   "cell_type": "code",
   "execution_count": null,
   "id": "c2ebdd0f",
   "metadata": {},
   "outputs": [],
   "source": [
    "1] List is a collection which is ordered and changeable. Allows duplicate members.\n",
    "\n",
    "2] Tuple is a collection which is ordered and unchangeable. Allows duplicate members.\n",
    "\n",
    "3] Set is a collection which is unordered, unchangeable, and unindexed. No duplicate members.\n",
    "\n",
    "4] Dictionary is a collection which is ordered and changeable. No duplicate members.(key value pair)"
   ]
  },
  {
   "cell_type": "markdown",
   "id": "37b13068",
   "metadata": {},
   "source": [
    "# Strings:\n",
    "      \n",
    "\t   >>>>  String is a collection of characters\n",
    "\t   >>>>  ( a - z,  A - Z , 0-9, @#$_-…)\n",
    "\t           Strings in python are surrounded by either single quotation marks, or double quotation marks.\n",
    "\t           'hello' is the same as \"hello\".\n",
    " \n",
    "\t  >>> It is a immutable data type\n",
    "      >>> To concatenate, or combine, two strings you can use the + operator.\n"
   ]
  },
  {
   "cell_type": "code",
   "execution_count": 2,
   "id": "9649c166",
   "metadata": {},
   "outputs": [
    {
     "name": "stdout",
     "output_type": "stream",
     "text": [
      "SANJIT\n"
     ]
    }
   ],
   "source": [
    "a = \"sanjit\"\n",
    "print(a.upper())"
   ]
  },
  {
   "cell_type": "code",
   "execution_count": 3,
   "id": "c27b0172",
   "metadata": {},
   "outputs": [
    {
     "name": "stdout",
     "output_type": "stream",
     "text": [
      "sanjit\n"
     ]
    }
   ],
   "source": [
    "a = \"sanjit\"\n",
    "print(a.lower())"
   ]
  },
  {
   "cell_type": "markdown",
   "id": "a205df46",
   "metadata": {},
   "source": [
    "# list \n",
    ">>> list is collection data type which is contain single value data type as well as hetrogineous value\n",
    ">>> list is mutable data type\n",
    ">>> List items are ordered, changeable, and allow duplicate values.\n",
    "constructor  :  list()\n"
   ]
  },
  {
   "cell_type": "code",
   "execution_count": 50,
   "id": "37e0a846",
   "metadata": {},
   "outputs": [
    {
     "name": "stdout",
     "output_type": "stream",
     "text": [
      "[1, 1.5, [1, 2, 3], 'hai']\n",
      "hai\n",
      "[1, 1.5, [1, 2, 3], 'hello']\n",
      "[1, 1.5, 'sanju', 'hello']\n",
      "<class 'list'>\n"
     ]
    }
   ],
   "source": [
    "b = [1, 1.5, [1, 2, 3], 'hai']\n",
    "print(b)\n",
    "print(b[-1])\n",
    "b[3]='hello'\n",
    "print(b)\n",
    "b[2]='sanju'\n",
    "print(b)\n",
    "print(type(b))"
   ]
  },
  {
   "cell_type": "code",
   "execution_count": 42,
   "id": "1b0282c3",
   "metadata": {},
   "outputs": [
    {
     "name": "stdout",
     "output_type": "stream",
     "text": [
      "4\n",
      "hai\n",
      "i\n"
     ]
    }
   ],
   "source": [
    "print(len(b))\n",
    "print(b[3])\n",
    "print(b[3][-1])"
   ]
  },
  {
   "cell_type": "markdown",
   "id": "273fc770",
   "metadata": {},
   "source": [
    "# Tuple\n",
    ">>> Enclosed Between ( ) and separated by ‘,’\n",
    ">>> Mainly used for data transmission.\n",
    ">>> Faster than the list (Because list allocate extra location in memory i.e Indexing time).\n"
   ]
  },
  {
   "cell_type": "code",
   "execution_count": 55,
   "id": "75df9b57",
   "metadata": {},
   "outputs": [
    {
     "name": "stdout",
     "output_type": "stream",
     "text": [
      "<class 'tuple'>\n",
      "<class 'tuple'>\n"
     ]
    }
   ],
   "source": [
    "a = 1,\n",
    "print(type(a))\n",
    "a = (1,)\n",
    "print(type(a))"
   ]
  },
  {
   "cell_type": "code",
   "execution_count": 60,
   "id": "a623511e",
   "metadata": {},
   "outputs": [
    {
     "name": "stdout",
     "output_type": "stream",
     "text": [
      "(1, 1.5, [1, 2, 3], 'hai')\n",
      "<class 'tuple'>\n",
      "1.5\n",
      "hai\n",
      "(1, 1.5, [1, 'hai', 3], 'hai')\n"
     ]
    }
   ],
   "source": [
    "b = (1, 1.5, [1, 2, 3], 'hai')\n",
    "print(b)\n",
    "print(type(b))\n",
    "print(b[1])\n",
    "print(b[3])\n",
    "b[2][1]='hai' #inside a tuple chnage the value of list\n",
    "print(b)"
   ]
  },
  {
   "cell_type": "code",
   "execution_count": 235,
   "id": "1ddffc90",
   "metadata": {},
   "outputs": [
    {
     "name": "stdout",
     "output_type": "stream",
     "text": [
      "(1, 1.5, [1, 2, 3], 'hai', {1, 2, 3, 4}, {'a': 10, 'b': 20, 'c': 30, 'd': 40})\n"
     ]
    }
   ],
   "source": [
    "b = (1, 1.5, [1, 2, 3], 'hai',{1,2,3,4},{'a':10, 'b':20, 'c':30, 'd':40})\n",
    "print(b)"
   ]
  },
  {
   "cell_type": "markdown",
   "id": "2bfde56a",
   "metadata": {},
   "source": [
    "# Set\n",
    ">>> Enclosed between {} and Separated by ‘ , ’\n",
    ">>> No DUPLICATES are allowed\n",
    ">>> Set is mainly used in data filtering.\n",
    ">>> Set is contain only IMMUTABLE type data items ( int, float, complex, string, tuple).\n",
    "\n",
    ">>> set can not support indexing\n",
    ">>> constructor var = set() \n"
   ]
  },
  {
   "cell_type": "code",
   "execution_count": 71,
   "id": "e52c73e0",
   "metadata": {},
   "outputs": [
    {
     "name": "stdout",
     "output_type": "stream",
     "text": [
      "<class 'set'>\n",
      "{False, 1, 2.3, 'sanju', (5+2j)}\n",
      "{True, 2.3, (5+2j), 'sanju'}\n",
      "{True, 2.3, 'sanju', (5+2j), (1, 2, 3)}\n"
     ]
    }
   ],
   "source": [
    "a = {1.2,3,4, 5}\n",
    "print(type(a))\n",
    "a = {1,2.3,5+2j,False,'sanju'}\n",
    "print(a)\n",
    "a = {2.3,5+2j,True,'sanju'}\n",
    "print(a)\n",
    "a = {2.3,5+2j,True,'sanju',(1, 2, 3)}\n",
    "print(a)\n",
    "# list,set,dictionay in set not acepted"
   ]
  },
  {
   "cell_type": "markdown",
   "id": "e3bc9536",
   "metadata": {},
   "source": [
    "# Dictionary\n",
    ">>> Dictionaries are used to store data values in key:value pairs.\n",
    ">>> Dictionary items are ordered, changeable, and does not allow duplicates.\n",
    ">>> Pair are enclosed between { }\n",
    ">>> Key values are separated by ‘ , ’\n",
    ">>> Key and values are separated by ‘ : ’\n",
    ">>> Key are used to identify values.\n",
    ">>> Key must be of immutable type only (int, float, complex, bool, str, tuple)\n",
    "\n"
   ]
  },
  {
   "cell_type": "code",
   "execution_count": 77,
   "id": "b266603d",
   "metadata": {},
   "outputs": [
    {
     "name": "stdout",
     "output_type": "stream",
     "text": [
      "{'brand': 'Ford', 'model': 'Mustang', 'year': 1964}\n",
      "Mustang\n",
      "<class 'dict'>\n"
     ]
    }
   ],
   "source": [
    "a = {\"brand\": \"Ford\", \"model\": \"Mustang\", \"year\": 1964}\n",
    "print(a)\n",
    "print(a[\"model\"])\n",
    "print(type(a))"
   ]
  },
  {
   "cell_type": "markdown",
   "id": "bd1ecccd",
   "metadata": {},
   "source": [
    "#  Method of all data structure(string, list, tuple, set, dictionary) "
   ]
  },
  {
   "cell_type": "code",
   "execution_count": 137,
   "id": "e5cdd6a1",
   "metadata": {},
   "outputs": [
    {
     "name": "stdout",
     "output_type": "stream",
     "text": [
      "False\n",
      "..................\n",
      "True\n",
      "..................\n",
      "True\n",
      "..................\n",
      "True\n",
      "..................\n",
      "True\n",
      "..................\n",
      "False\n",
      "..................\n",
      "False\n",
      "..................\n",
      "True\n",
      "..................\n",
      "ABCDFFFJ\n",
      "..................\n",
      "abcdfffj\n",
      "Abcdfffj\n",
      "2\n",
      "..................\n",
      "5\n",
      "['hey', 'i', 'am', 'the', 'best']\n",
      "..................\n",
      "h-e-y- -i- -a-m- -t-h-e- -b-e-s-t\n",
      "..................\n",
      "h*e*y* *i* *a*m* *t*h*e* *b*e*s*t\n",
      "hey i #am # the # best\n"
     ]
    }
   ],
   "source": [
    "#islower() check the lower alpbhabet or not  return boolean value\n",
    "a = 'D'\n",
    "print(a.islower())\n",
    "print(\"..................\")\n",
    "print(a.isupper()) #check the upper alphabet or not return boolean value\n",
    "print(\"..................\")\n",
    "b = \"122222234\"  # check the string is number or not return boolean value\n",
    "print(b.isnumeric())\n",
    "print(\"..................\")\n",
    "c = \"abcDFffj\"\n",
    "print(c.isalpha()) #check the string is alphabatiacal or not return boolean value\n",
    "print(\"..................\")\n",
    "print(a.isalpha())\n",
    "print(\"..................\")\n",
    "print(b.isalpha())\n",
    "print(\"..................\")\n",
    "print(b.isalpha())\n",
    "d = \"abc234\"\n",
    "print(\"..................\")\n",
    "print(d.isalnum())\n",
    "print(\"..................\") #convert lower to upper\n",
    "print(c.upper())\n",
    "print(\"..................\") #convert upper to lower\n",
    "print(c.lower())\n",
    "print(c.capitalize()) #lower to upper and upper to lower\n",
    "print(c.count('f')) #number of occurrence \n",
    "print(\"..................\")\n",
    "print(c.find('f')) # return the index\n",
    "a = 'hey i am the best'\n",
    "print(a.split()) #split thw word in list\n",
    "print(\"..................\")\n",
    "print('-'.join(a))\n",
    "print(\"..................\")\n",
    "print('*'.join(a)) #join the any u want\n",
    "b = 'hey i fam f the f best'\n",
    "print(b.replace('f','#'))     #rplace the charachter"
   ]
  },
  {
   "cell_type": "code",
   "execution_count": 240,
   "id": "e5029b79",
   "metadata": {},
   "outputs": [
    {
     "name": "stdout",
     "output_type": "stream",
     "text": [
      "Abcdefgh\n"
     ]
    }
   ],
   "source": [
    "a = 'ABCDefgh'\n",
    "# a.swapcase()\n",
    "print(a.capitalize())"
   ]
  },
  {
   "cell_type": "markdown",
   "id": "9d9a92ed",
   "metadata": {},
   "source": [
    "# List Method\n"
   ]
  },
  {
   "cell_type": "code",
   "execution_count": 151,
   "id": "38cf9da6",
   "metadata": {},
   "outputs": [
    {
     "name": "stdout",
     "output_type": "stream",
     "text": [
      "None\n",
      "['hello', 'hai']\n",
      "[1, 88, 2, 3, 4, [55, 66, 100]]\n",
      "..................\n",
      "[1, 88, 2, 3, 4]\n",
      "[1, 2, 3, 4]\n",
      "[]\n"
     ]
    }
   ],
   "source": [
    "a = ['hello']\n",
    "print(a.append('hai')) # return none but add the value in a a variable\n",
    "print(a)\n",
    "c = [1, 2, 3, 4, [55, 66, 100]]\n",
    "c.insert(1,88)  #defined index you can put the item in list\n",
    "print(c)\n",
    "print(\"..................\")\n",
    "c.pop()    #remove the last element\n",
    "print(c)\n",
    "c.remove(88) #remove the specify element as well take only one argument\n",
    "print(c)\n",
    "c.clear() # clear the list return the empty list\n",
    "print(c)"
   ]
  },
  {
   "cell_type": "code",
   "execution_count": 157,
   "id": "97ae2759",
   "metadata": {},
   "outputs": [
    {
     "data": {
      "text/plain": [
       "4"
      ]
     },
     "execution_count": 157,
     "metadata": {},
     "output_type": "execute_result"
    }
   ],
   "source": [
    "x = \"hello hai hey how \"\n",
    "x.count('h')    #return the count of occurrence\n"
   ]
  },
  {
   "cell_type": "code",
   "execution_count": 159,
   "id": "45a0f4c8",
   "metadata": {},
   "outputs": [
    {
     "data": {
      "text/plain": [
       "2"
      ]
     },
     "execution_count": 159,
     "metadata": {},
     "output_type": "execute_result"
    }
   ],
   "source": [
    "y = [1,2,3,4,5,4,\"hey\",\"coool\"]\n",
    "y.count(4)"
   ]
  },
  {
   "cell_type": "code",
   "execution_count": 161,
   "id": "70f20c01",
   "metadata": {},
   "outputs": [
    {
     "name": "stdout",
     "output_type": "stream",
     "text": [
      "[5, 4, 3, 2, 1]\n"
     ]
    }
   ],
   "source": [
    "a = [1, 2, 3, 4, 5]\n",
    "a.reverse()  #reverse the list\n",
    "print(a) "
   ]
  },
  {
   "cell_type": "code",
   "execution_count": 162,
   "id": "33446c1a",
   "metadata": {},
   "outputs": [
    {
     "name": "stdout",
     "output_type": "stream",
     "text": [
      "[1, 2, 3, 4, 5, 6, 8, 9]\n"
     ]
    }
   ],
   "source": [
    "a =[4, 5, 6, 1, 2, 3 ,8 ,9]\n",
    "a.sort()\n",
    "print(a) #sort of the list ascending order"
   ]
  },
  {
   "cell_type": "markdown",
   "id": "46e5d31a",
   "metadata": {},
   "source": [
    "# Tuple Method"
   ]
  },
  {
   "cell_type": "code",
   "execution_count": 166,
   "id": "a36bc9ce",
   "metadata": {},
   "outputs": [
    {
     "name": "stdout",
     "output_type": "stream",
     "text": [
      " ,,,,,,,\n"
     ]
    },
    {
     "data": {
      "text/plain": [
       "2"
      ]
     },
     "execution_count": 166,
     "metadata": {},
     "output_type": "execute_result"
    }
   ],
   "source": [
    "a = (1,2,3,1,2,3,4,5,6,7,8,2)\n",
    "a.count(1)\n",
    "a.count(2)\n",
    "a.count(3)  # count the nu,mber of occurrence"
   ]
  },
  {
   "cell_type": "code",
   "execution_count": 170,
   "id": "dcf8ee29",
   "metadata": {},
   "outputs": [
    {
     "data": {
      "text/plain": [
       "3"
      ]
     },
     "execution_count": 170,
     "metadata": {},
     "output_type": "execute_result"
    }
   ],
   "source": [
    "a = (1,2,3,4,5,6,7,8)\n",
    "a.index(1) #find index value\n",
    "a.index(5)\n",
    "a.index(4,1) #start index to element "
   ]
  },
  {
   "cell_type": "markdown",
   "id": "45fc0b46",
   "metadata": {},
   "source": [
    "# Set Method"
   ]
  },
  {
   "cell_type": "code",
   "execution_count": 173,
   "id": "8a161a6b",
   "metadata": {},
   "outputs": [
    {
     "name": "stdout",
     "output_type": "stream",
     "text": [
      "{1, 66, 99, 33, 500, 22, 23}\n"
     ]
    }
   ],
   "source": [
    "a = {1,66,99,33,22,23}\n",
    "a.add(500)  #only one element add in set\n",
    "print(a)"
   ]
  },
  {
   "cell_type": "code",
   "execution_count": 184,
   "id": "4b9ea6af",
   "metadata": {},
   "outputs": [
    {
     "name": "stdout",
     "output_type": "stream",
     "text": [
      "{1, 66, 33, 22, 23, 'sanjit'}\n",
      "{1, 66, 33, 22, 23}\n"
     ]
    },
    {
     "ename": "KeyError",
     "evalue": "0",
     "output_type": "error",
     "traceback": [
      "\u001b[1;31m---------------------------------------------------------------------------\u001b[0m",
      "\u001b[1;31mKeyError\u001b[0m                                  Traceback (most recent call last)",
      "Input \u001b[1;32mIn [184]\u001b[0m, in \u001b[0;36m<cell line: 6>\u001b[1;34m()\u001b[0m\n\u001b[0;32m      4\u001b[0m a\u001b[38;5;241m.\u001b[39mremove(\u001b[38;5;124m'\u001b[39m\u001b[38;5;124msanjit\u001b[39m\u001b[38;5;124m'\u001b[39m)\n\u001b[0;32m      5\u001b[0m \u001b[38;5;28mprint\u001b[39m(a)\n\u001b[1;32m----> 6\u001b[0m \u001b[43ma\u001b[49m\u001b[38;5;241;43m.\u001b[39;49m\u001b[43mremove\u001b[49m\u001b[43m(\u001b[49m\u001b[38;5;241;43m0\u001b[39;49m\u001b[43m)\u001b[49m\n\u001b[0;32m      7\u001b[0m \u001b[38;5;28mprint\u001b[39m(a)\n",
      "\u001b[1;31mKeyError\u001b[0m: 0"
     ]
    }
   ],
   "source": [
    "a = {1,66,99,33,22,23,'sanjit'}\n",
    "a.remove(99)  #remove specified element\n",
    "print(a)\n",
    "a.remove('sanjit')\n",
    "print(a)\n",
    "a.remove(0) #if element nit match give the keyerror\n",
    "print(a)"
   ]
  },
  {
   "cell_type": "code",
   "execution_count": 180,
   "id": "69aed617",
   "metadata": {},
   "outputs": [
    {
     "name": "stdout",
     "output_type": "stream",
     "text": [
      "{1, 66, 99, 33, 22, 23}\n",
      "{1, 99, 33, 22, 23}\n",
      "{1, 99, 33, 22, 23}\n"
     ]
    }
   ],
   "source": [
    "a = {1,66,99,33,22,23,'sanjit'}\n",
    "a.discard('sanjit') #remove the specifed element\n",
    "print(a)\n",
    "a.discard(66)\n",
    "print(a)\n",
    "a.discard('hello') #not getting error if not match any element\n",
    "print(a)"
   ]
  },
  {
   "cell_type": "code",
   "execution_count": 187,
   "id": "b0b3ebe7",
   "metadata": {},
   "outputs": [
    {
     "name": "stdout",
     "output_type": "stream",
     "text": [
      "{66, 99, 33, 22, 23, 'sanjit'}\n",
      "..........\n",
      "{99, 33, 22, 23, 'sanjit'}\n"
     ]
    }
   ],
   "source": [
    "a = {1,66,99,33,22,23,'sanjit'}\n",
    "a.pop()      #remove the last element (in set not sure any element remove)\n",
    "print(a)\n",
    "print(\"..........\")\n",
    "a.pop()\n",
    "print(a)  "
   ]
  },
  {
   "cell_type": "code",
   "execution_count": 241,
   "id": "9ed03bac",
   "metadata": {},
   "outputs": [
    {
     "data": {
      "text/plain": [
       "{4, 5}"
      ]
     },
     "execution_count": 241,
     "metadata": {},
     "output_type": "execute_result"
    }
   ],
   "source": [
    "a = {1,2,3,4,5}\n",
    "b = {22, 23, 24, 34,4,5} #common element from specifed set\n",
    "a.intersection(b)\n"
   ]
  },
  {
   "cell_type": "code",
   "execution_count": 244,
   "id": "7756c641",
   "metadata": {},
   "outputs": [
    {
     "name": "stdout",
     "output_type": "stream",
     "text": [
      "{4, 5}\n"
     ]
    }
   ],
   "source": [
    "a = {1,2,3,4,5}\n",
    "b = {22, 23, 24, 34,4,5}\n",
    "a.intersection_update(b)  # update the actual result with exisiting set\n",
    "print(a)\n"
   ]
  },
  {
   "cell_type": "code",
   "execution_count": 192,
   "id": "a789422e",
   "metadata": {},
   "outputs": [
    {
     "name": "stdout",
     "output_type": "stream",
     "text": [
      "set()\n"
     ]
    }
   ],
   "source": [
    "a = {1,2,3,4,5}\n",
    "b = {22, 23, 24, 34,4,5}\n",
    "a.clear()   #clear the all element and return the empty set\n",
    "print(a)"
   ]
  },
  {
   "cell_type": "code",
   "execution_count": 199,
   "id": "a8f6e80c",
   "metadata": {},
   "outputs": [
    {
     "name": "stdout",
     "output_type": "stream",
     "text": [
      "{1, 2, 3, 4, 5, 34, 22, 23, 24}\n"
     ]
    }
   ],
   "source": [
    "a = {1,2,3,4,5}\n",
    "b = {22, 23, 24, 34,4,5}\n",
    "x = a.union(b)       #concatenate list\n",
    "print(x)"
   ]
  },
  {
   "cell_type": "code",
   "execution_count": 200,
   "id": "5ed4144a",
   "metadata": {},
   "outputs": [
    {
     "data": {
      "text/plain": [
       "{1, 2, 3}"
      ]
     },
     "execution_count": 200,
     "metadata": {},
     "output_type": "execute_result"
    }
   ],
   "source": [
    "a = {1,2,3,4,5}\n",
    "b = {22, 23, 24, 34,4,5}\n",
    "a.difference(b)  #find the differince element"
   ]
  },
  {
   "cell_type": "code",
   "execution_count": 201,
   "id": "772d4e6d",
   "metadata": {},
   "outputs": [
    {
     "data": {
      "text/plain": [
       "{22, 23, 24, 34}"
      ]
     },
     "execution_count": 201,
     "metadata": {},
     "output_type": "execute_result"
    }
   ],
   "source": [
    "a = {1,2,3,4,5}\n",
    "b = {22, 23, 24, 34,4,5}\n",
    "b.difference(a)    "
   ]
  },
  {
   "cell_type": "code",
   "execution_count": 209,
   "id": "4636ae93",
   "metadata": {},
   "outputs": [
    {
     "name": "stdout",
     "output_type": "stream",
     "text": [
      "{1, 2, 3}\n",
      "{34, 4, 5, 22, 23, 24}\n"
     ]
    }
   ],
   "source": [
    "a = {1,2,3,4,5}\n",
    "b = {22, 23, 24, 34,4,5}\n",
    "a.difference_update(b)\n",
    "print(a)\n",
    "print(b)"
   ]
  },
  {
   "cell_type": "code",
   "execution_count": 210,
   "id": "743da45b",
   "metadata": {},
   "outputs": [
    {
     "name": "stdout",
     "output_type": "stream",
     "text": [
      "{34, 22, 23, 24}\n",
      "{1, 2, 3, 4, 5}\n"
     ]
    }
   ],
   "source": [
    "a = {1,2,3,4,5}\n",
    "b = {22, 23, 24, 34,4,5}\n",
    "\n",
    "b.difference_update(a)\n",
    "print(b)\n",
    "print(a)"
   ]
  },
  {
   "cell_type": "markdown",
   "id": "bcf86a64",
   "metadata": {},
   "source": [
    "# Dictionary Method"
   ]
  },
  {
   "cell_type": "code",
   "execution_count": 217,
   "id": "798010c6",
   "metadata": {},
   "outputs": [
    {
     "name": "stdout",
     "output_type": "stream",
     "text": [
      "{'a': 10, 'b': 20, 'c': 30, 'd': 40}\n"
     ]
    },
    {
     "data": {
      "text/plain": [
       "20"
      ]
     },
     "execution_count": 217,
     "metadata": {},
     "output_type": "execute_result"
    }
   ],
   "source": [
    "a = {'a':10, 'b':20, 'c':30, 'd':40}\n",
    "print(a)\n",
    "a['b']  #index method"
   ]
  },
  {
   "cell_type": "code",
   "execution_count": 218,
   "id": "ae0e5344",
   "metadata": {},
   "outputs": [
    {
     "name": "stdout",
     "output_type": "stream",
     "text": [
      "{'a': 10, 'b': 20, 'c': 30, 'd': 40}\n"
     ]
    },
    {
     "data": {
      "text/plain": [
       "40"
      ]
     },
     "execution_count": 218,
     "metadata": {},
     "output_type": "execute_result"
    }
   ],
   "source": [
    "a = {'a':10, 'b':20, 'c':30, 'd':40}\n",
    "print(a)\n",
    "a.get('d') #get the value of dictionary"
   ]
  },
  {
   "cell_type": "code",
   "execution_count": 245,
   "id": "ec27e060",
   "metadata": {},
   "outputs": [
    {
     "data": {
      "text/plain": [
       "dict_items([('a', 10), ('b', 20), ('c', 30), ('d', 40)])"
      ]
     },
     "execution_count": 245,
     "metadata": {},
     "output_type": "execute_result"
    }
   ],
   "source": [
    "a = {'a':10, 'b':20, 'c':30, 'd':40}\n",
    "a.items() #key and value both tupple inside the list"
   ]
  },
  {
   "cell_type": "code",
   "execution_count": 220,
   "id": "1ce5f133",
   "metadata": {},
   "outputs": [
    {
     "name": "stdout",
     "output_type": "stream",
     "text": [
      "{'a': 10, 'b': 20, 'c': 30, 'd': 40}\n",
      "{'a': 10, 'b': 20, 'c': 30}\n"
     ]
    }
   ],
   "source": [
    "a = {'a':10, 'b':20, 'c':30, 'd':40}\n",
    "print(a)\n",
    "a.popitem() #remove the last key value pair\n",
    "print(a)"
   ]
  },
  {
   "cell_type": "code",
   "execution_count": 222,
   "id": "411b1c0e",
   "metadata": {},
   "outputs": [
    {
     "name": "stdout",
     "output_type": "stream",
     "text": [
      "{'a': 10, 'b': 20, 'c': 30, 'd': 40}\n",
      "{'b': 20, 'c': 30, 'd': 40}\n"
     ]
    }
   ],
   "source": [
    "a = {'a':10, 'b':20, 'c':30, 'd':40}\n",
    "print(a)\n",
    "a.pop('a')      #remove the specified key \n",
    "print(a)"
   ]
  },
  {
   "cell_type": "code",
   "execution_count": 226,
   "id": "e79417b5",
   "metadata": {},
   "outputs": [
    {
     "name": "stdout",
     "output_type": "stream",
     "text": [
      "{'e': 22, 'f': 33, 'g': 44}\n",
      "{'a': 10, 'b': 20, 'c': 30, 'd': 40, 'e': 22, 'f': 33, 'g': 44}\n"
     ]
    }
   ],
   "source": [
    "a = {'a':10, 'b':20, 'c':30, 'd':40}\n",
    "b = {'e':22, 'f':33, 'g':44}\n",
    "a.update(b) #update the dictionary\n",
    "print(b)\n",
    "print(a)"
   ]
  },
  {
   "cell_type": "code",
   "execution_count": 228,
   "id": "a2db1f07",
   "metadata": {},
   "outputs": [
    {
     "name": "stdout",
     "output_type": "stream",
     "text": [
      "{}\n"
     ]
    }
   ],
   "source": [
    "a = {'a':10, 'b':20, 'c':30, 'd':40}\n",
    "a.clear()     #empty dictionary clear all the data\n",
    "print(a)"
   ]
  },
  {
   "cell_type": "code",
   "execution_count": 230,
   "id": "1f2fca1e",
   "metadata": {},
   "outputs": [
    {
     "data": {
      "text/plain": [
       "dict_keys(['a', 'b', 'c', 'd'])"
      ]
     },
     "execution_count": 230,
     "metadata": {},
     "output_type": "execute_result"
    }
   ],
   "source": [
    "a = {'a':10, 'b':20, 'c':30, 'd':40}\n",
    "a.keys()  #extract the key"
   ]
  },
  {
   "cell_type": "code",
   "execution_count": 233,
   "id": "12b436be",
   "metadata": {},
   "outputs": [
    {
     "data": {
      "text/plain": [
       "dict_values([10, 20, 30, 40])"
      ]
     },
     "execution_count": 233,
     "metadata": {},
     "output_type": "execute_result"
    }
   ],
   "source": [
    "a = {'a':10, 'b':20, 'c':30, 'd':40}\n",
    "a.values()   #extract the value"
   ]
  },
  {
   "cell_type": "code",
   "execution_count": 6,
   "id": "b1162e08",
   "metadata": {},
   "outputs": [
    {
     "name": "stdout",
     "output_type": "stream",
     "text": [
      "29 20 14 10 \n",
      "9 6 4 \n",
      "3 2 \n",
      "1 "
     ]
    }
   ],
   "source": [
    "n = 29\n",
    "s = 4\n",
    "count = 1\n",
    "lis = []\n",
    "for i in range(1, s+1):\n",
    "    if i == 1:\n",
    "        for j in range(s, 0, -1):\n",
    "            n = n - ((s - i) * (j * count - j)) // (i + (count // j)) - (count-i)//(j*j)\n",
    "            print(n, end=' ')\n",
    "            lis.append(n)\n",
    "            count += 1\n",
    "    else:\n",
    "        print()\n",
    "        lis1 = []\n",
    "        for j in range(len(lis)-1):\n",
    "            n = lis[j]-lis[j+1]\n",
    "            print(n, end=' ')\n",
    "            lis1.append(n)\n",
    "        lis = lis1"
   ]
  },
  {
   "cell_type": "code",
   "execution_count": 119,
   "id": "41b22f23",
   "metadata": {},
   "outputs": [
    {
     "name": "stdout",
     "output_type": "stream",
     "text": [
      "   1 \n",
      "  1 2 \n",
      " 3 4 5 \n",
      "7 8 9 10 \n"
     ]
    }
   ],
   "source": [
    "n1 = 1\n",
    "n2 = 0\n",
    "li = 5\n",
    "for i in range(1, li):\n",
    "    for j in range(i):\n",
    "        n = n1 + n2 + j\n",
    "        sep = ' '*(li-1-i-j-j)\n",
    "        print(sep + (str(n)+' '), end='')\n",
    "    print()\n",
    "    n1 = n2\n",
    "    n2 = n"
   ]
  },
  {
   "cell_type": "code",
   "execution_count": null,
   "id": "915a1c13",
   "metadata": {},
   "outputs": [],
   "source": []
  }
 ],
 "metadata": {
  "kernelspec": {
   "display_name": "Python 3 (ipykernel)",
   "language": "python",
   "name": "python3"
  },
  "language_info": {
   "codemirror_mode": {
    "name": "ipython",
    "version": 3
   },
   "file_extension": ".py",
   "mimetype": "text/x-python",
   "name": "python",
   "nbconvert_exporter": "python",
   "pygments_lexer": "ipython3",
   "version": "3.9.12"
  }
 },
 "nbformat": 4,
 "nbformat_minor": 5
}
