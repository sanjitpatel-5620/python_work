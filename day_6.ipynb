{
 "cells": [
  {
   "cell_type": "markdown",
   "id": "90540938",
   "metadata": {},
   "source": [
    "1) Write a Python program to print all natural numbers from 1 to n. - using while loop"
   ]
  },
  {
   "cell_type": "code",
   "execution_count": 1,
   "id": "843ddefa",
   "metadata": {},
   "outputs": [
    {
     "name": "stdout",
     "output_type": "stream",
     "text": [
      "enter the number 8\n",
      "0 1 2 3 4 5 6 7 8 "
     ]
    }
   ],
   "source": [
    "n = int(input(\"enter the number \"))\n",
    "for i in range(n+1):\n",
    "    print(i, end= ' ')"
   ]
  },
  {
   "cell_type": "markdown",
   "id": "f7a06b61",
   "metadata": {},
   "source": [
    "2) Write a Python program to print all natural numbers in reverse (from n to 1). - using while loop"
   ]
  },
  {
   "cell_type": "code",
   "execution_count": 3,
   "id": "db231b12",
   "metadata": {},
   "outputs": [
    {
     "name": "stdout",
     "output_type": "stream",
     "text": [
      "enter the number 15\n",
      "15 14 13 12 11 10 9 8 7 6 5 4 3 2 1 "
     ]
    }
   ],
   "source": [
    "n = int(input(\"enter the number \"))\n",
    "for i in range(n,0,-1):\n",
    "    print(i , end =' ')"
   ]
  },
  {
   "cell_type": "markdown",
   "id": "bacb047f",
   "metadata": {},
   "source": [
    "3) Write a Python program to print all alphabets from a to z. - using while"
   ]
  },
  {
   "cell_type": "code",
   "execution_count": 8,
   "id": "127d95a7",
   "metadata": {},
   "outputs": [
    {
     "name": "stdout",
     "output_type": "stream",
     "text": [
      "A B C D E F G H I J K L M N O P Q R S T U V W X Y Z "
     ]
    }
   ],
   "source": [
    "for i in range(65,91):\n",
    "    print(chr(i), end = ' ')"
   ]
  },
  {
   "cell_type": "markdown",
   "id": "c70d9749",
   "metadata": {},
   "source": [
    "4) Write a Python program to print all odd number between 1 to 100."
   ]
  },
  {
   "cell_type": "code",
   "execution_count": 9,
   "id": "9ce1c3df",
   "metadata": {},
   "outputs": [
    {
     "name": "stdout",
     "output_type": "stream",
     "text": [
      "enter the number 60\n",
      "1 3 5 7 9 11 13 15 17 19 21 23 25 27 29 31 33 35 37 39 41 43 45 47 49 51 53 55 57 59 "
     ]
    }
   ],
   "source": [
    "n = int(input(\"enter the number \"))\n",
    "for i in range(n):\n",
    "    if i % 2 != 0:\n",
    "        print(i , end = ' ')"
   ]
  },
  {
   "cell_type": "code",
   "execution_count": 17,
   "id": "a2f1b08e",
   "metadata": {},
   "outputs": [
    {
     "name": "stdout",
     "output_type": "stream",
     "text": [
      "enter the number 50\n",
      "1 3 5 7 9 11 13 15 17 19 21 23 25 27 29 31 33 35 37 39 41 43 45 47 49 "
     ]
    }
   ],
   "source": [
    "n = int(input(\"enter the number \"))\n",
    "for i in range(1,n,+2):\n",
    "    print(i , end = ' ')"
   ]
  },
  {
   "cell_type": "markdown",
   "id": "e3c68b8e",
   "metadata": {},
   "source": [
    "5) Write a Python program to find sum of all natural numbers between 1 to n."
   ]
  },
  {
   "cell_type": "code",
   "execution_count": 20,
   "id": "88fac9d9",
   "metadata": {},
   "outputs": [
    {
     "name": "stdout",
     "output_type": "stream",
     "text": [
      "enter the number 15\n",
      "120\n"
     ]
    }
   ],
   "source": [
    "n = int(input(\"enter the number \"))\n",
    "out = 0\n",
    "for i in range(1, n+1):\n",
    "        out = out + i\n",
    "print(out)\n",
    "        "
   ]
  },
  {
   "cell_type": "markdown",
   "id": "e191ed3d",
   "metadata": {},
   "source": [
    "6) Write a Python program to find sum of all even numbers between 1 to n."
   ]
  },
  {
   "cell_type": "code",
   "execution_count": 21,
   "id": "ef35710f",
   "metadata": {},
   "outputs": [
    {
     "name": "stdout",
     "output_type": "stream",
     "text": [
      "enter the number 20\n",
      "110\n"
     ]
    }
   ],
   "source": [
    "n = int(input(\"enter the number \"))\n",
    "out = 0\n",
    "for i in range(1,n+1):\n",
    "    if i % 2 == 0:\n",
    "        out = out + i\n",
    "print(out)"
   ]
  },
  {
   "cell_type": "code",
   "execution_count": 24,
   "id": "e2e7196e",
   "metadata": {},
   "outputs": [
    {
     "name": "stdout",
     "output_type": "stream",
     "text": [
      "enter the number 20\n",
      "110\n"
     ]
    }
   ],
   "source": [
    "n = int(input(\"enter the number \"))\n",
    "out = 0\n",
    "for i in range(0,n+1,+2):\n",
    "    out = out + i\n",
    "print(out)"
   ]
  },
  {
   "cell_type": "markdown",
   "id": "74fbae26",
   "metadata": {},
   "source": [
    "7) Write a Python program to find sum of all odd numbers between 1 to n."
   ]
  },
  {
   "cell_type": "code",
   "execution_count": 34,
   "id": "968e39b8",
   "metadata": {},
   "outputs": [
    {
     "name": "stdout",
     "output_type": "stream",
     "text": [
      "enter he number 5\n",
      "1 3 5 9\n"
     ]
    }
   ],
   "source": [
    "n = int(input(\"enter he number \"))\n",
    "out = 0\n",
    "for i in range(1,n+1):\n",
    "    if i % 2 != 0:\n",
    "        print(i, end = ' ')\n",
    "        out = out + i\n",
    "print(out)"
   ]
  },
  {
   "cell_type": "code",
   "execution_count": 31,
   "id": "25ec40a4",
   "metadata": {},
   "outputs": [
    {
     "name": "stdout",
     "output_type": "stream",
     "text": [
      "enter the number 5\n",
      "1 3 5 9\n"
     ]
    }
   ],
   "source": [
    "n = int(input(\"enter the number \"))\n",
    "out = 0\n",
    "for i in range(1,n+1,+2):\n",
    "    print(i , end = ' ')\n",
    "    out = out + i\n",
    "print(out)"
   ]
  },
  {
   "cell_type": "markdown",
   "id": "580e41df",
   "metadata": {},
   "source": [
    "8) Write a Python program to print multiplication table of any number."
   ]
  },
  {
   "cell_type": "code",
   "execution_count": 38,
   "id": "afa0f0b3",
   "metadata": {},
   "outputs": [
    {
     "name": "stdout",
     "output_type": "stream",
     "text": [
      "enter the number 15\n",
      "15 x 1 = 15 \n",
      "15 x 2 = 30 \n",
      "15 x 3 = 45 \n",
      "15 x 4 = 60 \n",
      "15 x 5 = 75 \n",
      "15 x 6 = 90 \n",
      "15 x 7 = 105 \n",
      "15 x 8 = 120 \n",
      "15 x 9 = 135 \n",
      "15 x 10 = 150 \n"
     ]
    }
   ],
   "source": [
    "n = int(input(\"enter the number \"))\n",
    "for i in range(1,11):\n",
    "    print(f\"{n} x {i} = {i*n} \")"
   ]
  },
  {
   "cell_type": "code",
   "execution_count": 42,
   "id": "571eb536",
   "metadata": {},
   "outputs": [
    {
     "name": "stdout",
     "output_type": "stream",
     "text": [
      "enter the number 15\n",
      "15 x 1 = 15\n",
      "15 x 2 = 30\n",
      "15 x 3 = 45\n",
      "15 x 4 = 60\n",
      "15 x 5 = 75\n",
      "15 x 6 = 90\n",
      "15 x 7 = 105\n",
      "15 x 8 = 120\n",
      "15 x 9 = 135\n",
      "15 x 10 = 150\n"
     ]
    }
   ],
   "source": [
    "n = int(input(\"enter the number \"))\n",
    "i = 1\n",
    "while i<=10:\n",
    "    print(f\"{n} x {i} = {i*n}\")\n",
    "    i+=1\n",
    "    "
   ]
  },
  {
   "cell_type": "code",
   "execution_count": null,
   "id": "af6b4f13",
   "metadata": {},
   "outputs": [],
   "source": [
    "9) Write a Python program to count number of digits in a number."
   ]
  },
  {
   "cell_type": "code",
   "execution_count": 51,
   "id": "ee9441d2",
   "metadata": {},
   "outputs": [
    {
     "name": "stdout",
     "output_type": "stream",
     "text": [
      "enter the number 123\n",
      "3\n"
     ]
    }
   ],
   "source": [
    "n = int(input(\"enter the number \"))\n",
    "count = 0\n",
    "while n != 0:\n",
    "    n = n//10 \n",
    "    count = count + 1\n",
    "print(count)\n"
   ]
  },
  {
   "cell_type": "code",
   "execution_count": 54,
   "id": "42413ac8",
   "metadata": {},
   "outputs": [
    {
     "name": "stdout",
     "output_type": "stream",
     "text": [
      "False\n"
     ]
    }
   ],
   "source": [
    "print(0 != 0)"
   ]
  },
  {
   "cell_type": "markdown",
   "id": "cc84fa26",
   "metadata": {},
   "source": [
    "10) Write a Python program to find first and last digit of a number."
   ]
  },
  {
   "cell_type": "code",
   "execution_count": 69,
   "id": "4f45da66",
   "metadata": {},
   "outputs": [
    {
     "name": "stdout",
     "output_type": "stream",
     "text": [
      "enter the number: 2315\n",
      "first digit 2\n",
      "last digit 5\n"
     ]
    }
   ],
   "source": [
    "n = int(input(\"enter the number: \"))\n",
    "l = n % 10\n",
    "while n >= 10: \n",
    "    n = n // 10\n",
    "print(\"first digit\", n)\n",
    "print(\"last digit\", l)"
   ]
  },
  {
   "cell_type": "markdown",
   "id": "2a2fb881",
   "metadata": {},
   "source": [
    "14). Write a Python program to calculate product of digits of a number."
   ]
  },
  {
   "cell_type": "code",
   "execution_count": 70,
   "id": "132b5fe0",
   "metadata": {},
   "outputs": [
    {
     "name": "stdout",
     "output_type": "stream",
     "text": [
      "enter the number1234\n",
      "24\n"
     ]
    }
   ],
   "source": [
    "n = int(input(\"enter the number\"))\n",
    "product = 1\n",
    "while n!= 0:\n",
    "    product = product* (n % 10)\n",
    "    n = n // 10\n",
    "print(product)"
   ]
  },
  {
   "cell_type": "markdown",
   "id": "97a484e4",
   "metadata": {},
   "source": [
    "19) Write a Python program to print all AScII character with their values."
   ]
  },
  {
   "cell_type": "code",
   "execution_count": 71,
   "id": "f88b239e",
   "metadata": {},
   "outputs": [
    {
     "name": "stdout",
     "output_type": "stream",
     "text": [
      "  ! \" # $ % & ' ( ) * + , - . / 0 1 2 3 4 5 6 7 8 9 : ; < = > ? @ A B C D E F G H I J K L M N O P Q R S T U V W X Y Z [ \\ ] ^ _ ` a b c d e f g h i j k l m n o p q r s t u v w x y z { | } ~  "
     ]
    }
   ],
   "source": [
    "for i in range(32,128):\n",
    "    print(chr(i),end=' ')"
   ]
  },
  {
   "cell_type": "markdown",
   "id": "7ccf339b",
   "metadata": {},
   "source": [
    "20) Write a Python program to find power of a number using for loop."
   ]
  },
  {
   "cell_type": "code",
   "execution_count": 72,
   "id": "5af2c5ab",
   "metadata": {},
   "outputs": [
    {
     "name": "stdout",
     "output_type": "stream",
     "text": [
      "enter the number to find power5\n",
      "enter the power2\n",
      "25\n"
     ]
    }
   ],
   "source": [
    "n = int(input(\"enter the number to find power\"))\n",
    "p = int(input(\"enter the power\"))\n",
    "power = 1\n",
    "i = 1\n",
    "while i <= p:\n",
    "    power = power * n\n",
    "    i = i +1\n",
    "print(power)\n",
    "    "
   ]
  },
  {
   "cell_type": "markdown",
   "id": "05aca0bf",
   "metadata": {},
   "source": [
    "21) Write a Python program to find all factors of a number."
   ]
  },
  {
   "cell_type": "code",
   "execution_count": 74,
   "id": "6f799c3c",
   "metadata": {},
   "outputs": [
    {
     "name": "stdout",
     "output_type": "stream",
     "text": [
      "find all factors number to enter the number12\n",
      "1\n",
      "2\n",
      "3\n",
      "4\n",
      "6\n",
      "12\n"
     ]
    }
   ],
   "source": [
    "n = int(input(\"find all factors number to enter the number \"))\n",
    "i = 1\n",
    "while i <= n:\n",
    "    if n % i == 0:\n",
    "        print(i)\n",
    "    i+= 1   "
   ]
  },
  {
   "cell_type": "markdown",
   "id": "e391e22e",
   "metadata": {},
   "source": [
    "22) Write a Python program to calculate factorial of a number."
   ]
  },
  {
   "cell_type": "code",
   "execution_count": 80,
   "id": "877f6371",
   "metadata": {},
   "outputs": [
    {
     "name": "stdout",
     "output_type": "stream",
     "text": [
      "enter the number 5\n",
      "120\n"
     ]
    }
   ],
   "source": [
    "n = int(input(\"enter the number \"))\n",
    "fact = 1\n",
    "i = 1\n",
    "while i <= n:\n",
    "    fact = fact* i\n",
    "    i += 1\n",
    "print(fact)"
   ]
  },
  {
   "cell_type": "markdown",
   "id": "4af510f1",
   "metadata": {},
   "source": [
    "25) Write a Python program to check whether a number is Prime number or not."
   ]
  },
  {
   "cell_type": "code",
   "execution_count": 133,
   "id": "1012d4eb",
   "metadata": {},
   "outputs": [
    {
     "name": "stdout",
     "output_type": "stream",
     "text": [
      "enter the number 12\n",
      "not a prime number\n"
     ]
    }
   ],
   "source": [
    "n = int(input(\"enter the number \"))\n",
    "i = 2\n",
    "while i <= n:\n",
    "    if n % i == 0:\n",
    "        print(\"not a prime number\")\n",
    "        break\n",
    "    else:\n",
    "        print(\"number is prime\")\n",
    "    i += 1   "
   ]
  },
  {
   "cell_type": "markdown",
   "id": "7d0f0aee",
   "metadata": {},
   "source": [
    "27). Write a Python program to find sum of all prime numbers between 1 to n."
   ]
  },
  {
   "cell_type": "code",
   "execution_count": 132,
   "id": "dc6886e6",
   "metadata": {},
   "outputs": [
    {
     "name": "stdout",
     "output_type": "stream",
     "text": [
      "enter the number 5\n",
      "11\n"
     ]
    }
   ],
   "source": [
    "n = int(input(\"enter the number \"))\n",
    "i = 2\n",
    "sum = 0\n",
    "while i <= n:\n",
    "    j = 2\n",
    "#     print(i)\n",
    "    while j < i:\n",
    "#         print(j)\n",
    "        if i % j == 0:\n",
    "#             print(i,j)\n",
    "            break\n",
    "        else:\n",
    "            sum = sum + j \n",
    "        j+= 1\n",
    "    i+= 1\n",
    "print(sum)"
   ]
  },
  {
   "cell_type": "markdown",
   "id": "9cd5ee7a",
   "metadata": {},
   "source": [
    "28) Write a Python program to find all prime factors of a number."
   ]
  },
  {
   "cell_type": "code",
   "execution_count": 126,
   "id": "e4f925ae",
   "metadata": {},
   "outputs": [
    {
     "name": "stdout",
     "output_type": "stream",
     "text": [
      "enter the number: 12\n"
     ]
    }
   ],
   "source": [
    "n = int(input(\"enter the number: \"))\n",
    "l = []\n",
    "i = 1\n",
    "while i <= n:\n",
    "    if n % i == 0:\n",
    "        l.append(i)\n",
    "    i += 1\n",
    "for i in l:\n",
    "    if i > 1:\n",
    "        for j in range(2, i):\n",
    "            if i % j == 0:\n",
    "                break\n",
    "        else:\n",
    "            print(f\"{i} is a prime factors number\")"
   ]
  },
  {
   "cell_type": "markdown",
   "id": "f03c6bdd",
   "metadata": {},
   "source": [
    "29) Write a Python program to check whether a number is Armstrong number or not."
   ]
  },
  {
   "cell_type": "code",
   "execution_count": 127,
   "id": "75882a42",
   "metadata": {},
   "outputs": [
    {
     "name": "stdout",
     "output_type": "stream",
     "text": [
      "153 armstrong number\n"
     ]
    }
   ],
   "source": [
    "n = 153\n",
    "size = len(str(n))\n",
    "out = 0\n",
    "for chr in str(n):\n",
    "    out += int(chr)**size\n",
    "if out == n:\n",
    "    print(f\"{n} armstrong number\")\n",
    "else:\n",
    "    print(f\"{n}not armstrong number\")\n",
    "    "
   ]
  },
  {
   "cell_type": "code",
   "execution_count": null,
   "id": "8149837f",
   "metadata": {},
   "outputs": [],
   "source": []
  }
 ],
 "metadata": {
  "kernelspec": {
   "display_name": "Python 3 (ipykernel)",
   "language": "python",
   "name": "python3"
  },
  "language_info": {
   "codemirror_mode": {
    "name": "ipython",
    "version": 3
   },
   "file_extension": ".py",
   "mimetype": "text/x-python",
   "name": "python",
   "nbconvert_exporter": "python",
   "pygments_lexer": "ipython3",
   "version": "3.9.12"
  }
 },
 "nbformat": 4,
 "nbformat_minor": 5
}
