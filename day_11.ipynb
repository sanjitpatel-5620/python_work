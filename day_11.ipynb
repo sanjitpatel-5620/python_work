{
 "cells": [
  {
   "cell_type": "code",
   "execution_count": 69,
   "id": "7b67a3a3",
   "metadata": {},
   "outputs": [
    {
     "name": "stdout",
     "output_type": "stream",
     "text": [
      "enter the raw number3\n",
      "1 \n",
      "1 2 1 \n",
      "1 2 3 2 1 \n"
     ]
    }
   ],
   "source": [
    "n = int(input(\"enter the raw number\"))\n",
    "# print('*',end=' ')\n",
    "# print()\n",
    "for i in range(n):\n",
    "#     print('*',end=' ')\n",
    "    for j in range(i+1):\n",
    "        print(j+1, end=' ')\n",
    "    for j in range(i,0,-1):\n",
    "        print(j, end=' ')\n",
    "#     print('*',end=' ')\n",
    "    print()"
   ]
  },
  {
   "cell_type": "code",
   "execution_count": 70,
   "id": "a21e105b",
   "metadata": {},
   "outputs": [
    {
     "name": "stdout",
     "output_type": "stream",
     "text": [
      "enter the raw number3\n",
      "* \n",
      "* 1 * \n",
      "* 1 2 1 * \n",
      "* 1 2 3 2 1 * \n"
     ]
    }
   ],
   "source": [
    "n = int(input(\"enter the raw number\" ))\n",
    "print('*',end=' ')\n",
    "print()\n",
    "for i in range(1,n+1):\n",
    "    print('*',end=' ')\n",
    "    for j in range(1,i+1):\n",
    "#         print(i,j, end=\",\")\n",
    "        print(j,end=' ')\n",
    "    for j in range(i-1,0,-1):\n",
    "#         print(i,j,end=',')\n",
    "        print(j,end=' ')\n",
    "    print('*',end=' ')\n",
    "    print()"
   ]
  },
  {
   "cell_type": "code",
   "execution_count": 71,
   "id": "06e91d9c",
   "metadata": {},
   "outputs": [
    {
     "name": "stdout",
     "output_type": "stream",
     "text": [
      "pelase enter the raw number 3\n",
      "* 1 2 1 * \n",
      "* 1 * \n",
      "* \n"
     ]
    }
   ],
   "source": [
    "n =int(input(\"pelase enter the raw number \"))\n",
    "for i in range(n-1,0,-1):\n",
    "    print('*',end=' ')\n",
    "    for j in range(1,i):\n",
    "        print(j, end=' ')\n",
    "    for j in range(i,0,-1):\n",
    "        print(j, end=' ')\n",
    "    print('*',end=' ')\n",
    "    print()\n",
    "print('*',end=' ')\n",
    "print()"
   ]
  },
  {
   "cell_type": "code",
   "execution_count": 89,
   "id": "8bb0178e",
   "metadata": {},
   "outputs": [
    {
     "name": "stdout",
     "output_type": "stream",
     "text": [
      "enter the raw number 3\n",
      "* \n",
      "* 1 * \n",
      "* 1 2 1 * \n",
      "* 1 2 3 2 1 * \n",
      "* 1 2 1 * \n",
      "* 1 * \n",
      "* \n"
     ]
    }
   ],
   "source": [
    "## 01\n",
    "n = int(input(\"enter the raw number \"))\n",
    "print('*',end=' ')\n",
    "print()\n",
    "for i in range(n):\n",
    "    print('*',end=' ')\n",
    "    for j in range(i+1):\n",
    "        print(j+1, end=' ')\n",
    "    for j in range(i,0,-1):\n",
    "        print(j, end=' ')\n",
    "    print('*',end=' ')\n",
    "    print()\n",
    "for i in range(n-1,0,-1):\n",
    "    print('*',end=' ')\n",
    "    for j in range(1,i):\n",
    "        print(j, end=' ')\n",
    "    for j in range(i,0,-1):\n",
    "        print(j, end=' ')\n",
    "    print('*',end=' ')\n",
    "    print()\n",
    "print('*',end=' ')\n",
    "print()"
   ]
  },
  {
   "cell_type": "code",
   "execution_count": 86,
   "id": "4ba6edd2",
   "metadata": {},
   "outputs": [
    {
     "name": "stdout",
     "output_type": "stream",
     "text": [
      "pelase enter the raw number 5\n",
      "1\n",
      "2*3\n",
      "4*5*6\n",
      "7*8*9*10\n",
      "11*12*13*14*15\n"
     ]
    }
   ],
   "source": [
    "n =int(input(\"pelase enter the raw number \"))\n",
    "sum=0\n",
    "for i in range(n):\n",
    "    for j in range(i+1):\n",
    "        sum+=1\n",
    "        if j == 0:\n",
    "            print(sum,end='')\n",
    "        else:\n",
    "            print('*',end='')\n",
    "            print(sum,end='')\n",
    "    print()"
   ]
  },
  {
   "cell_type": "code",
   "execution_count": 83,
   "id": "ef895a5a",
   "metadata": {},
   "outputs": [
    {
     "name": "stdout",
     "output_type": "stream",
     "text": [
      "pelase enter the raw number 5\n",
      "1\n",
      "2*3\n",
      "4*5*6\n",
      "7*8*9*10\n",
      "11*12*13*14*15\n",
      "15*14*13*12*11\n",
      "10*9*8*7\n",
      "6*5*4\n",
      "3*2\n",
      "1\n"
     ]
    }
   ],
   "source": [
    "## 02\n",
    "n =int(input(\"pelase enter the raw number \"))\n",
    "sum=0\n",
    "for i in range(n):\n",
    "    for j in range(i+1):\n",
    "        sum+=1\n",
    "        if j == 0:\n",
    "            print(sum,end='')\n",
    "        else:\n",
    "            print('*',end='')\n",
    "            print(sum,end='')\n",
    "    print()\n",
    "# sum = 16\n",
    "for i in range(n,0,-1):\n",
    "    for j in range(i,0,-1):\n",
    "        sum-=1\n",
    "        if j == i:\n",
    "            print(sum+1,end='')\n",
    "        else:\n",
    "            print('*',end='')\n",
    "            print(sum+1,end='')\n",
    "    print()"
   ]
  },
  {
   "cell_type": "code",
   "execution_count": 45,
   "id": "82433488",
   "metadata": {},
   "outputs": [
    {
     "name": "stdout",
     "output_type": "stream",
     "text": [
      "1 2 3 4 5 \n",
      "1 2 3 4 \n",
      "1 2 3 \n",
      "1 2 \n",
      "1 \n"
     ]
    }
   ],
   "source": [
    "n = 5\n",
    "for i in range(n,0,-1):\n",
    "    for j in range(1,i+1):\n",
    "        print(j, end=' ')\n",
    "    print()"
   ]
  },
  {
   "cell_type": "code",
   "execution_count": 20,
   "id": "c96c8deb",
   "metadata": {},
   "outputs": [
    {
     "name": "stdout",
     "output_type": "stream",
     "text": [
      "          * \n",
      "        * * \n",
      "      * * * \n",
      "    * * * * \n",
      "  * * * * * \n"
     ]
    }
   ],
   "source": [
    "n = 5\n",
    "for i in range(n):\n",
    "    for j in range(i,n):\n",
    "        print(' ',end=' ')\n",
    "    for j in range(0,i+1):\n",
    "        print('*',end=' ')\n",
    "    print()"
   ]
  },
  {
   "cell_type": "code",
   "execution_count": 21,
   "id": "6c975894",
   "metadata": {},
   "outputs": [
    {
     "name": "stdout",
     "output_type": "stream",
     "text": [
      "0  1  2  \n",
      "1  2  3  \n",
      "2  3  4  \n"
     ]
    }
   ],
   "source": [
    "for i in range(3):\n",
    "\n",
    "    for j in range(3):\n",
    "        print(j+i,\" \", end = \"\")\n",
    "    print()"
   ]
  },
  {
   "cell_type": "code",
   "execution_count": 22,
   "id": "593b624d",
   "metadata": {},
   "outputs": [
    {
     "name": "stdout",
     "output_type": "stream",
     "text": [
      "0 0 0 0 \n",
      "1 1 1 1 \n",
      "0 0 0 0 \n",
      "1 1 1 1 \n"
     ]
    }
   ],
   "source": [
    "for i in range(4):\n",
    "    for j in range(4):\n",
    "        print(i%2, \"\", end = \"\")\n",
    "    print()\n"
   ]
  },
  {
   "cell_type": "code",
   "execution_count": 92,
   "id": "cebfd34e",
   "metadata": {},
   "outputs": [
    {
     "name": "stdout",
     "output_type": "stream",
     "text": [
      "0 1 0 1 \n",
      "0 1 0 1 \n",
      "0 1 0 1 \n",
      "0 1 0 1 \n"
     ]
    }
   ],
   "source": [
    " for i in range(4):\n",
    "    for j in range(4):\n",
    "        print(j%2, end=\" \")\n",
    "    print()"
   ]
  },
  {
   "cell_type": "code",
   "execution_count": 24,
   "id": "24e7d3c7",
   "metadata": {},
   "outputs": [
    {
     "name": "stdout",
     "output_type": "stream",
     "text": [
      "0 1 0 1 \n",
      "0 1 0 1 \n",
      "0 1 0 1 \n",
      "0 1 0 1 \n"
     ]
    }
   ],
   "source": [
    "for i in range(4):\n",
    "    for j in range(2):\n",
    "        print(j, \"\" ,end=\"\")\n",
    "    for k in range(2):\n",
    "        print(k ,\"\",end=\"\")\n",
    "    print()"
   ]
  },
  {
   "cell_type": "code",
   "execution_count": 25,
   "id": "b1a6f696",
   "metadata": {},
   "outputs": [
    {
     "name": "stdout",
     "output_type": "stream",
     "text": [
      "0 1 \n",
      "0 1 \n",
      "0 1 \n",
      "0 1 \n"
     ]
    }
   ],
   "source": [
    "for i in range(4):\n",
    "    for j in range(2):\n",
    "        print(j, \"\" ,end=\"\")\n",
    "    print()"
   ]
  },
  {
   "cell_type": "code",
   "execution_count": 26,
   "id": "aebd98e3",
   "metadata": {},
   "outputs": [
    {
     "name": "stdout",
     "output_type": "stream",
     "text": [
      "1 2 3 4 \n",
      "2 3 4 1 \n",
      "3 4 1 2 \n",
      "4 1 2 3 \n"
     ]
    }
   ],
   "source": [
    "for i in range(1, 5):\n",
    "    for j in range(i, i+4):\n",
    "        print(j%5+j//5, \"\", end=\"\")\n",
    "    print()\n"
   ]
  }
 ],
 "metadata": {
  "kernelspec": {
   "display_name": "Python 3 (ipykernel)",
   "language": "python",
   "name": "python3"
  },
  "language_info": {
   "codemirror_mode": {
    "name": "ipython",
    "version": 3
   },
   "file_extension": ".py",
   "mimetype": "text/x-python",
   "name": "python",
   "nbconvert_exporter": "python",
   "pygments_lexer": "ipython3",
   "version": "3.9.12"
  }
 },
 "nbformat": 4,
 "nbformat_minor": 5
}
