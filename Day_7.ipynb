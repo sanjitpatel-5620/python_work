{
 "cells": [
  {
   "cell_type": "markdown",
   "id": "a155845b",
   "metadata": {},
   "source": [
    "26 ) Write a Python program to print all Prime numbers between 1 to n."
   ]
  },
  {
   "cell_type": "code",
   "execution_count": 32,
   "id": "f3bbbfa7",
   "metadata": {},
   "outputs": [
    {
     "name": "stdout",
     "output_type": "stream",
     "text": [
      "enter the number 5\n",
      "a 2\n",
      "prime number  2\n",
      "a 3\n",
      "prime number  3\n",
      "a 4\n",
      "a in while  4\n",
      "a 5\n",
      "a in while  5\n",
      "prime number  5\n"
     ]
    }
   ],
   "source": [
    "n = int(input(\"enter the number \"))\n",
    "a = 1\n",
    "\n",
    "while a <= n:\n",
    "    if a > 1:\n",
    "        i = 2\n",
    "        print(\"a\", a)\n",
    "        while i <= (a // 2):\n",
    "            print(\"a in while \", a)\n",
    "            if a % i == 0:\n",
    "                break\n",
    "            i += 1\n",
    "        else:\n",
    "            print(\"prime number \",a)\n",
    "    a += 1"
   ]
  },
  {
   "cell_type": "code",
   "execution_count": 66,
   "id": "0ae5b29a",
   "metadata": {},
   "outputs": [
    {
     "name": "stdout",
     "output_type": "stream",
     "text": [
      "Enter the number to find Prime:20\n",
      "\n",
      "The Prime Numbers between 1 and 20 are: \n",
      "2 3 5 7 11 13 17 19 "
     ]
    }
   ],
   "source": [
    "num = int(input(\"Enter the number to find Prime:\"))\n",
    "print (\"\\nThe Prime Numbers between 1 and {} are: \".format(num))\n",
    "i = 2\n",
    "while (i<=num):\n",
    "    for j in range(2, i):\n",
    "        if (i % j == 0):\n",
    "            break\n",
    "    else:\n",
    "          print(i, end = ' ')\n",
    "    i+=1"
   ]
  },
  {
   "cell_type": "code",
   "execution_count": 27,
   "id": "e72897b1",
   "metadata": {},
   "outputs": [
    {
     "name": "stdout",
     "output_type": "stream",
     "text": [
      "1\n"
     ]
    }
   ],
   "source": [
    "print( 3 // 2)"
   ]
  },
  {
   "cell_type": "markdown",
   "id": "2f74f9f7",
   "metadata": {},
   "source": [
    "29) Write a Python program to check whether a number is Armstrong number or not."
   ]
  },
  {
   "cell_type": "code",
   "execution_count": 1,
   "id": "1deab7e0",
   "metadata": {},
   "outputs": [
    {
     "name": "stdout",
     "output_type": "stream",
     "text": [
      "Enter a number: 153\n",
      "153\n",
      "153 is armstrong number\n"
     ]
    }
   ],
   "source": [
    "n = int(input(\"Enter a number: \"))\n",
    "out =  0\n",
    "tem = n\n",
    "while tem > 0:\n",
    "    r = tem % 10\n",
    "    out += r**3\n",
    "    tem = tem // 10\n",
    "print(out)\n",
    "if out == n:\n",
    "    print(f\"{out} is armstrong number\")\n",
    "else:\n",
    "    print(f\"{out} is not armstrong number\")"
   ]
  },
  {
   "cell_type": "markdown",
   "id": "cca34822",
   "metadata": {},
   "source": [
    "31).Write a Python program to check whether a number is Perfect number or not."
   ]
  },
  {
   "cell_type": "code",
   "execution_count": 35,
   "id": "abb8089e",
   "metadata": {},
   "outputs": [
    {
     "name": "stdout",
     "output_type": "stream",
     "text": [
      "enter the number 28\n",
      "given number is perfect number\n",
      "28\n"
     ]
    }
   ],
   "source": [
    "n = int(input(\"enter the number \"))\n",
    "i = 1\n",
    "sum = 0\n",
    "while i < n:\n",
    "    if n % i == 0:\n",
    "        sum = sum + i\n",
    "    i += 1\n",
    "if sum == n:\n",
    "    print(\"given number is perfect number\")\n",
    "else:\n",
    "    print(\"given number is not a perfect number \")\n",
    "print(sum)"
   ]
  },
  {
   "cell_type": "markdown",
   "id": "783386b4",
   "metadata": {},
   "source": [
    "33) Write a Python program to check whether a number is Strong number or not."
   ]
  },
  {
   "cell_type": "code",
   "execution_count": 17,
   "id": "3ad2ba2b",
   "metadata": {},
   "outputs": [
    {
     "name": "stdout",
     "output_type": "stream",
     "text": [
      "Enter a number:145\n",
      "Given number is a strong number\n",
      "145\n"
     ]
    }
   ],
   "source": [
    "n=int(input(\"Enter a number:\"))\n",
    "sum = 0\n",
    "temp=n    \n",
    "while n:   \n",
    "    i=1   \n",
    "    fact=1  \n",
    "    rem=n%10\n",
    "#     print(\"value of rem\",rem)\n",
    "    while(i<=rem):\n",
    "#         print(\"value of i\", i)\n",
    "        fact=fact*i\n",
    "        i=i+1  \n",
    "    sum=sum+fact\n",
    "    n=n//10\n",
    "#     print(n)\n",
    "#     print(\"factorial\", fact)\n",
    "if(sum==temp):  \n",
    "    print(\"given number is a strong number\")  \n",
    "else:  \n",
    "    print(\"given number is not a strong number\")\n",
    "print(sum)"
   ]
  },
  {
   "cell_type": "code",
   "execution_count": 56,
   "id": "1af3b1e5",
   "metadata": {},
   "outputs": [
    {
     "name": "stdout",
     "output_type": "stream",
     "text": [
      "5\n"
     ]
    }
   ],
   "source": [
    "print( 125 % 10)"
   ]
  },
  {
   "cell_type": "code",
   "execution_count": null,
   "id": "41c070bf",
   "metadata": {},
   "outputs": [],
   "source": [
    "32).Write a Python program to print all Perfect numbers between 1 to n."
   ]
  },
  {
   "cell_type": "code",
   "execution_count": 52,
   "id": "7d8d1231",
   "metadata": {},
   "outputs": [
    {
     "name": "stdout",
     "output_type": "stream",
     "text": [
      "enter the number 50\n",
      "6\n",
      "28\n"
     ]
    }
   ],
   "source": [
    "a = int(input(\"enter the number \"))\n",
    "i = 1\n",
    "while i <= a:\n",
    "    sum = 0\n",
    "    j = 1\n",
    "    while j < i:\n",
    "        if i % j == 0:\n",
    "            sum = sum + j\n",
    "        j+= 1\n",
    "    if i == sum:\n",
    "        print(i)\n",
    "    i += 1"
   ]
  },
  {
   "cell_type": "markdown",
   "id": "391fc815",
   "metadata": {},
   "source": [
    "35). Write a Python program to print Fibonacci series up to n terms."
   ]
  },
  {
   "cell_type": "code",
   "execution_count": 58,
   "id": "c4e7bf13",
   "metadata": {},
   "outputs": [
    {
     "name": "stdout",
     "output_type": "stream",
     "text": [
      "enter the number 15\n",
      "0 1 1 2 3 5 8 13 21 34 55 89 144 233 377 "
     ]
    }
   ],
   "source": [
    "n = int(input(\"enter the number \"))\n",
    "a = 0\n",
    "b = 1\n",
    "sum = 0\n",
    "count = 1\n",
    "while(count <= n):\n",
    "  print(sum, end = \" \")\n",
    "  count += 1\n",
    "  a = b\n",
    "  b = sum\n",
    "  sum = a + b"
   ]
  },
  {
   "cell_type": "markdown",
   "id": "313ee182",
   "metadata": {},
   "source": [
    "38). Write a Python program to convert Binary to Octal number system."
   ]
  },
  {
   "cell_type": "code",
   "execution_count": 71,
   "id": "8553f354",
   "metadata": {},
   "outputs": [
    {
     "name": "stdout",
     "output_type": "stream",
     "text": [
      "enter the binary number 1010\n",
      "decimal number is :  10\n",
      "decimal number is :  12\n"
     ]
    }
   ],
   "source": [
    "n = int(input(\"enter the binary number \"))\n",
    "decimal = 0\n",
    "a = 1\n",
    "length = len(str(n))\n",
    "for i in range(length):\n",
    "    rem = n % 10\n",
    "    decimal = decimal + (rem * a)\n",
    "    a = a * 2\n",
    "    n = int(n/10)\n",
    "print(\"decimal number is : \", decimal)\n",
    "n = decimal\n",
    "octal = 0\n",
    "a = 1\n",
    "length = len(str(n))\n",
    "for i in range(length):\n",
    "    octal = octal + (n % 8) * a\n",
    "    n = n // 8\n",
    "    a = a * 10\n",
    "print(\"octal number is : \", octal)"
   ]
  },
  {
   "cell_type": "markdown",
   "id": "5b7a686c",
   "metadata": {},
   "source": [
    "39).Write a Python program to convert Binary to Decimal number system."
   ]
  },
  {
   "cell_type": "code",
   "execution_count": null,
   "id": "f7aaefbd",
   "metadata": {},
   "outputs": [],
   "source": [
    "n = int(input(\"enter the binary number \"))\n",
    "decimal = 0\n",
    "a = 1\n",
    "length = len(str(n))\n",
    "print(\"varibale length \" , length)\n",
    "for i in range(length):\n",
    "    rem = n % 10\n",
    "    print(\"remainder\", rem)\n",
    "    decimal = decimal + (rem * a)\n",
    "    print(\"decimal\", decimal)\n",
    "    a = a * 2\n",
    "    n = int(n/10)\n",
    "    print(\"chnged value of n \", n)\n",
    "print(\"decimal number is : \", decimal)"
   ]
  },
  {
   "cell_type": "markdown",
   "id": "87398cee",
   "metadata": {},
   "source": [
    "40) Write a Python program to convert Binary to Hexadecimal number system."
   ]
  },
  {
   "cell_type": "code",
   "execution_count": 72,
   "id": "ff19f470",
   "metadata": {},
   "outputs": [
    {
     "name": "stdout",
     "output_type": "stream",
     "text": [
      "enter the binary number 1010\n",
      "varibale length  4\n",
      "remainder 0\n",
      "decimal 0\n",
      "chnged value of n  101\n",
      "remainder 1\n",
      "decimal 2\n",
      "chnged value of n  10\n",
      "remainder 0\n",
      "decimal 2\n",
      "chnged value of n  1\n",
      "remainder 1\n",
      "decimal 10\n",
      "chnged value of n  0\n",
      "decimal number is :  10\n",
      "heax decimal number : 10\n"
     ]
    }
   ],
   "source": [
    "n = int(input(\"enter the binary number \"))\n",
    "decimal = 0\n",
    "a = 1\n",
    "length = len(str(n))\n",
    "print(\"varibale length \" , length)\n",
    "for i in range(length):\n",
    "    rem = n % 10\n",
    "    print(\"remainder\", rem)\n",
    "    decimal = decimal + (rem * a)\n",
    "    print(\"decimal\", decimal)\n",
    "    a = a * 2\n",
    "    n = int(n/10)\n",
    "    print(\"chnged value of n \", n)\n",
    "print(\"decimal number is : \", decimal)\n",
    "n = decimal\n",
    "hexa_decimal = 0\n",
    "j = 1\n",
    "length = len(str(n))\n",
    "for i in range(length):\n",
    "    hexa_decimal = hexa_decimal + (n % 16)*j\n",
    "    n = n // 16\n",
    "    j = j * 10\n",
    "print(\"heax decimal number :\", hexa_decimal)"
   ]
  },
  {
   "cell_type": "markdown",
   "id": "94b69193",
   "metadata": {},
   "source": [
    "41). Write a Python program to convert Octal to Binary number system."
   ]
  },
  {
   "cell_type": "code",
   "execution_count": 79,
   "id": "dd12b514",
   "metadata": {},
   "outputs": [
    {
     "name": "stdout",
     "output_type": "stream",
     "text": [
      "enter the number50\n",
      "decimal number is :  40\n",
      "value of decimal 40\n",
      "value of remainder  0\n",
      "value of binary 0\n",
      "value of decimal 20\n",
      "1\n",
      "value of decimal 20\n",
      "value of remainder  0\n",
      "value of binary 0\n",
      "value of decimal 10\n",
      "2\n",
      "value of decimal 10\n",
      "value of remainder  0\n",
      "value of binary 0\n",
      "value of decimal 5\n",
      "3\n",
      "value of decimal 5\n",
      "value of remainder  1\n",
      "value of binary 1000\n",
      "value of decimal 2\n",
      "4\n",
      "value of decimal 2\n",
      "value of remainder  0\n",
      "value of binary 1000\n",
      "value of decimal 1\n",
      "5\n",
      "value of decimal 1\n",
      "value of remainder  1\n",
      "value of binary 101000\n",
      "value of decimal 0\n",
      "6\n",
      "101000\n"
     ]
    }
   ],
   "source": [
    "n = int(input(\"enter the number\"))\n",
    "decimal = 0\n",
    "a = 0\n",
    "length = len(str(n))\n",
    "for i in range(length):\n",
    "    r = n % 10\n",
    "#     print(\"value of r\", r)\n",
    "    decimal=decimal+(r * (8**a))\n",
    "#     print(\"value of decimal\", decimal)\n",
    "    n = n // 10\n",
    "#     print(\"value of n \" ,n)\n",
    "    a += 1\n",
    "#     print(\"value of a \", a)\n",
    "print(\"decimal number is : \", decimal)\n",
    "binary = 0\n",
    "a = 0\n",
    "while decimal!=0:\n",
    "    print(\"value of decimal\", decimal)\n",
    "    r=decimal%2\n",
    "    print(\"value of remainder \", r)\n",
    "    binary=binary+(r * (10**a))\n",
    "    print(\"value of binary\", binary)\n",
    "    decimal=decimal//2\n",
    "    print(\"value of decimal\", decimal)\n",
    "    a += 1\n",
    "    print(a)\n",
    "print(binary)\n"
   ]
  },
  {
   "cell_type": "markdown",
   "id": "fa07942f",
   "metadata": {},
   "source": [
    "42).Write a Python program to convert Octal to Decimal number system."
   ]
  },
  {
   "cell_type": "code",
   "execution_count": 80,
   "id": "41fc63b3",
   "metadata": {},
   "outputs": [
    {
     "name": "stdout",
     "output_type": "stream",
     "text": [
      "enter the number50\n",
      "decimal number is :  40\n"
     ]
    }
   ],
   "source": [
    "n = int(input(\"enter the number\"))\n",
    "decimal = 0\n",
    "a = 0\n",
    "length = len(str(n))\n",
    "for i in range(length):\n",
    "    r = n % 10\n",
    "#     print(\"value of r\", r)\n",
    "    decimal=decimal+(r * (8**a))\n",
    "#     print(\"value of decimal\", decimal)\n",
    "    n = n // 10\n",
    "#     print(\"value of n \" ,n)\n",
    "    a += 1\n",
    "#     print(\"value of a \", a)\n",
    "print(\"decimal number is : \", decimal)"
   ]
  },
  {
   "cell_type": "markdown",
   "id": "37d1d14f",
   "metadata": {},
   "source": [
    "43).Write a Python program to convert Octal to Hexadecimal number system."
   ]
  },
  {
   "cell_type": "code",
   "execution_count": 82,
   "id": "60409030",
   "metadata": {},
   "outputs": [
    {
     "name": "stdout",
     "output_type": "stream",
     "text": [
      "enter the number10101\n",
      "decimal number is :  4161\n",
      "heax decimal number : 1041\n"
     ]
    }
   ],
   "source": [
    "n = int(input(\"enter the number\"))\n",
    "decimal = 0\n",
    "a = 0\n",
    "length = len(str(n))\n",
    "for i in range(length):\n",
    "    r = n % 10\n",
    "#     print(\"value of r\", r)\n",
    "    decimal=decimal+(r * (8**a))\n",
    "#     print(\"value of decimal\", decimal)\n",
    "    n = n // 10\n",
    "#     print(\"value of n \" ,n)\n",
    "    a += 1\n",
    "#     print(\"value of a \", a)\n",
    "print(\"decimal number is : \", decimal)\n",
    "n = decimal\n",
    "hexa_decimal = 0\n",
    "j = 1\n",
    "length = len(str(n))\n",
    "for i in range(length):\n",
    "    hexa_decimal = hexa_decimal + (n % 16)*j\n",
    "    n = n // 16\n",
    "    j = j * 10\n",
    "print(\"heax decimal number :\", hexa_decimal)\n"
   ]
  },
  {
   "cell_type": "markdown",
   "id": "264a12ac",
   "metadata": {},
   "source": [
    "44).Write a Python program to convert Decimal to Binary number system."
   ]
  },
  {
   "cell_type": "code",
   "execution_count": 4,
   "id": "6c6e6dcb",
   "metadata": {},
   "outputs": [
    {
     "name": "stdout",
     "output_type": "stream",
     "text": [
      "Enter a binary NO:24\n",
      "remanider r  0\n",
      "binary value  0\n",
      "decimal value  12\n",
      "valueb of a  1\n",
      "remanider r  0\n",
      "binary value  0\n",
      "decimal value  6\n",
      "valueb of a  2\n",
      "remanider r  0\n",
      "binary value  0\n",
      "decimal value  3\n",
      "valueb of a  3\n",
      "remanider r  1\n",
      "binary value  1000\n",
      "decimal value  1\n",
      "valueb of a  4\n",
      "remanider r  1\n",
      "binary value  11000\n",
      "decimal value  0\n",
      "valueb of a  5\n",
      "11000\n"
     ]
    }
   ],
   "source": [
    "decimal=int(input(\"Enter a binary NO:\"))\n",
    "binary = 0\n",
    "a = 0\n",
    "while decimal!=0:\n",
    "    r=decimal%2 \n",
    "    print(\"remanider r \", r)\n",
    "    binary=binary+(r * (10**a))\n",
    "    print(\"binary value \", binary)\n",
    "    decimal=decimal//2\n",
    "    print(\"decimal value \", decimal)\n",
    "    a += 1 \n",
    "    print(\"valueb of a \", a)\n",
    "print(binary)"
   ]
  },
  {
   "cell_type": "markdown",
   "id": "6d774359",
   "metadata": {},
   "source": [
    "45). Write a Python program to convert Decimal to Octal number system."
   ]
  },
  {
   "cell_type": "code",
   "execution_count": 84,
   "id": "6f482d07",
   "metadata": {},
   "outputs": [
    {
     "name": "stdout",
     "output_type": "stream",
     "text": [
      "enter the decimal number1010\n",
      "decimal number is :  1762\n"
     ]
    }
   ],
   "source": [
    "n = int(input(\"enter the decimal number\"))\n",
    "octal = 0\n",
    "a = 1\n",
    "length = len(str(n))\n",
    "for i in range(length):\n",
    "    octal = octal + (n % 8) * a\n",
    "    n = n // 8\n",
    "    a = a * 10\n",
    "print(\"decimal number is : \", octal)"
   ]
  },
  {
   "cell_type": "markdown",
   "id": "902bc10a",
   "metadata": {},
   "source": [
    "46. Write a Python program to convert Decimal to Hexadecimal number system."
   ]
  },
  {
   "cell_type": "code",
   "execution_count": 89,
   "id": "25eb04ea",
   "metadata": {},
   "outputs": [
    {
     "name": "stdout",
     "output_type": "stream",
     "text": [
      "enter the number101\n",
      "decimal number is :  65\n",
      "heax decimal number : 41\n"
     ]
    }
   ],
   "source": [
    "n = int(input(\"enter the number\"))\n",
    "decimal = 0\n",
    "a = 0\n",
    "length = len(str(n))\n",
    "for i in range(length):\n",
    "    r = n % 10\n",
    "#     print(\"value of r\", r)\n",
    "    decimal=decimal+(r * (8**a))\n",
    "#     print(\"value of decimal\", decimal)\n",
    "    n = n // 10\n",
    "#     print(\"value of n \" ,n)\n",
    "    a += 1\n",
    "#     print(\"value of a \", a)\n",
    "print(\"decimal number is : \", decimal)\n",
    "n = decimal\n",
    "hexa_decimal = 0\n",
    "j = 1\n",
    "length = len(str(n))\n",
    "for i in range(length):\n",
    "    hexa_decimal = hexa_decimal + (n % 16)*j\n",
    "    n = n // 16\n",
    "    j = j * 10\n",
    "print(\"heax decimal number :\", hexa_decimal)"
   ]
  },
  {
   "cell_type": "markdown",
   "id": "17dbd2cb",
   "metadata": {},
   "source": [
    "47).Write a Python program to convert Hexadecimal to Binary number system."
   ]
  },
  {
   "cell_type": "code",
   "execution_count": 2,
   "id": "f082fddb",
   "metadata": {},
   "outputs": [
    {
     "name": "stdout",
     "output_type": "stream",
     "text": [
      "Enter a binary NO:15\n",
      "value of r 5\n",
      "value of decimal 5\n",
      "value of n 1\n",
      "value of r 1\n",
      "value of decimal 21\n",
      "value of n 0\n",
      "21\n",
      "10101\n"
     ]
    }
   ],
   "source": [
    "n=int(input(\"Enter a hexadecimal NO:\"))\n",
    "decimal=0\n",
    "b=0\n",
    "while n!=0:\n",
    "    r=n%10\n",
    "    print(\"value of r\", r)\n",
    "    decimal=decimal+(r * (16**b))\n",
    "    print(\"value of decimal\", decimal)\n",
    "    n=n//10\n",
    "    print(\"value of n\", n)\n",
    "    b += 1\n",
    "print(decimal)\n",
    "binary = 0\n",
    "a = 0\n",
    "while decimal!=0:\n",
    "    r=decimal%2 \n",
    "    binary=binary+(r * (10**a))\n",
    "    decimal=decimal//2\n",
    "    a += 1\n",
    "print(binary)"
   ]
  },
  {
   "cell_type": "markdown",
   "id": "093c0b41",
   "metadata": {},
   "source": [
    "48) Write a Python program to convert Hexadecimal to Octal number system."
   ]
  },
  {
   "cell_type": "code",
   "execution_count": 3,
   "id": "95ce9b5a",
   "metadata": {},
   "outputs": [
    {
     "name": "stdout",
     "output_type": "stream",
     "text": [
      "Enter a hexadecimal NO:15\n",
      "value of r 5\n",
      "value of decimal 5\n",
      "value of n 1\n",
      "value of r 1\n",
      "value of decimal 21\n",
      "value of n 0\n",
      "21\n",
      "decimal number is :  25\n"
     ]
    }
   ],
   "source": [
    "n=int(input(\"Enter a hexadecimal NO:\"))\n",
    "decimal=0\n",
    "b=0\n",
    "while n!=0:\n",
    "    r=n%10\n",
    "    print(\"value of r\", r)\n",
    "    decimal=decimal+(r * (16**b))\n",
    "    print(\"value of decimal\", decimal)\n",
    "    n=n//10\n",
    "    print(\"value of n\", n)\n",
    "    b += 1\n",
    "print(decimal)\n",
    "n = decimal\n",
    "octal = 0\n",
    "a = 1\n",
    "length = len(str(n))\n",
    "for i in range(length):\n",
    "    octal = octal + (n % 8) * a\n",
    "    n = n // 8\n",
    "    a = a * 10\n",
    "print(\"octal number is : \", octal)"
   ]
  }
 ],
 "metadata": {
  "kernelspec": {
   "display_name": "Python 3 (ipykernel)",
   "language": "python",
   "name": "python3"
  },
  "language_info": {
   "codemirror_mode": {
    "name": "ipython",
    "version": 3
   },
   "file_extension": ".py",
   "mimetype": "text/x-python",
   "name": "python",
   "nbconvert_exporter": "python",
   "pygments_lexer": "ipython3",
   "version": "3.9.12"
  }
 },
 "nbformat": 4,
 "nbformat_minor": 5
}
