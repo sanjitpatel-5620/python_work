{
 "cells": [
  {
   "cell_type": "code",
   "execution_count": null,
   "id": "ce6cd38e",
   "metadata": {},
   "outputs": [],
   "source": [
    "10). Write a Python program to print Fibonacci series up to n terms."
   ]
  },
  {
   "cell_type": "code",
   "execution_count": 43,
   "id": "7238d19b",
   "metadata": {},
   "outputs": [
    {
     "name": "stdout",
     "output_type": "stream",
     "text": [
      "enter the number to fibonacci series 12\n",
      "0\n",
      "1\n",
      "1\n",
      "2\n",
      "3\n",
      "5\n",
      "8\n",
      "13\n",
      "21\n",
      "34\n",
      "55\n",
      "89\n"
     ]
    }
   ],
   "source": [
    "n = int(input(\"enter the number to fibonacci series \"))\n",
    "a,b= 0 , 1\n",
    "\n",
    "if n == 1:\n",
    "    print(a)\n",
    "else:\n",
    "    print(a)\n",
    "    print(b)\n",
    "    for i in range(2,n):\n",
    "        c = a + b\n",
    "        a = b\n",
    "        b = c\n",
    "        print(c)"
   ]
  },
  {
   "cell_type": "markdown",
   "id": "58a43262",
   "metadata": {},
   "source": [
    "6)Write a Python program to calculate sum of digits of a number"
   ]
  },
  {
   "cell_type": "code",
   "execution_count": 30,
   "id": "07eb8bbe",
   "metadata": {},
   "outputs": [
    {
     "name": "stdout",
     "output_type": "stream",
     "text": [
      "1234\n",
      "10\n"
     ]
    }
   ],
   "source": [
    "n = int(input())\n",
    "sum = 0\n",
    "while n!=0:\n",
    "    out = divmod(n, 10)\n",
    "    dig = out[1]\n",
    "    sum += dig\n",
    "    n = out[0]\n",
    "print(sum)"
   ]
  },
  {
   "cell_type": "code",
   "execution_count": 7,
   "id": "f34c0703",
   "metadata": {},
   "outputs": [
    {
     "name": "stdout",
     "output_type": "stream",
     "text": [
      "(123, 4)\n"
     ]
    }
   ],
   "source": [
    "a = divmod(1234, 10)#tupple valle (quastion, remainder)\n",
    "print(a)"
   ]
  },
  {
   "cell_type": "code",
   "execution_count": null,
   "id": "a1d59405",
   "metadata": {},
   "outputs": [],
   "source": [
    "Write a Python program to convert Hexadecimal to Decimal number system."
   ]
  },
  {
   "cell_type": "code",
   "execution_count": null,
   "id": "c911a1a9",
   "metadata": {},
   "outputs": [],
   "source": [
    "n=int(input(\"Enter a binary NO:\"))\n",
    "decimal=0\n",
    "b=0\n",
    "while n!=0:\n",
    "    r=n%10\n",
    "    decimal=decimal+(r * (16**b))\n",
    "    n=n//10\n",
    "    b += 1\n",
    "print(decimal)"
   ]
  },
  {
   "cell_type": "code",
   "execution_count": null,
   "id": "5388ea42",
   "metadata": {},
   "outputs": [],
   "source": [
    "Write a Python program to find frequency of each digit in a given integer"
   ]
  },
  {
   "cell_type": "code",
   "execution_count": 16,
   "id": "943ce58e",
   "metadata": {},
   "outputs": [
    {
     "name": "stdout",
     "output_type": "stream",
     "text": [
      "enter the number14234512\n",
      "1 2\n",
      "2 2\n",
      "3 1\n",
      "4 2\n",
      "5 1\n"
     ]
    }
   ],
   "source": [
    "n=int(input(\"enter the number\"))\n",
    "for i in range(0,10):\n",
    "    count=0\n",
    "    out=n\n",
    "    while out>0:\n",
    "        digit=out%10\n",
    "        if digit==i:\n",
    "            count=count+1\n",
    "        out=out//10\n",
    "    if count>0:\n",
    "        print(i,count)"
   ]
  },
  {
   "cell_type": "markdown",
   "id": "ad612f87",
   "metadata": {},
   "source": [
    "23. Write a Python program to find HcF (GcD) of two numbers."
   ]
  },
  {
   "cell_type": "code",
   "execution_count": 11,
   "id": "176683bf",
   "metadata": {},
   "outputs": [
    {
     "name": "stdout",
     "output_type": "stream",
     "text": [
      "enter the number 1 12\n",
      "enter the number 2  5\n",
      "Hcf of 12 and 5 is 1\n"
     ]
    }
   ],
   "source": [
    "n1 = int(input(\"enter the number 1 \"))\n",
    "n2 = int(input(\"enter the number 2  \"))\n",
    "a = n1\n",
    "b = n2\n",
    "\n",
    "while n1 != n2:\n",
    "    if n1 > n2:\n",
    "        n1 -= n2\n",
    "    else:\n",
    "        n2 -= n1\n",
    "\n",
    "print(\"Hcf of\", a, \"and\", b, \"is\", n1)"
   ]
  },
  {
   "cell_type": "markdown",
   "id": "39a4c19d",
   "metadata": {},
   "source": [
    "24. Write a Python program to find LcM of two numbers."
   ]
  },
  {
   "cell_type": "code",
   "execution_count": 15,
   "id": "7ea63715",
   "metadata": {},
   "outputs": [
    {
     "name": "stdout",
     "output_type": "stream",
     "text": [
      "10\n",
      "5\n",
      "10\n"
     ]
    }
   ],
   "source": [
    "n1 = int(input())\n",
    "n2 = int(input())\n",
    "if n1 > n2:  \n",
    "    out= n1\n",
    "else:\n",
    "    out= n2\n",
    "while True:\n",
    "    if(out % n1 == 0 and out % n2 == 0):   \n",
    "        print(out)\n",
    "        break\n",
    "    out= out+ 1"
   ]
  },
  {
   "cell_type": "markdown",
   "id": "dbb79f9b",
   "metadata": {},
   "source": [
    "# while loop"
   ]
  },
  {
   "cell_type": "code",
   "execution_count": 9,
   "id": "c0a41af6",
   "metadata": {},
   "outputs": [
    {
     "name": "stdout",
     "output_type": "stream",
     "text": [
      "enter the raw number5\n",
      "0\n",
      "1\n",
      "2\n",
      "3\n",
      "4\n",
      "5\n"
     ]
    }
   ],
   "source": [
    "n = int(input(\"enter the raw number\"))\n",
    "i = 0\n",
    "while i <= n:\n",
    "    print(i)\n",
    "    i += 1"
   ]
  },
  {
   "cell_type": "code",
   "execution_count": 10,
   "id": "33930a7d",
   "metadata": {},
   "outputs": [
    {
     "name": "stdout",
     "output_type": "stream",
     "text": [
      "enter the raw number5\n",
      "2\n",
      "4\n"
     ]
    }
   ],
   "source": [
    "#Even number\n",
    "n = int(input(\"enter the raw number\"))\n",
    "i = 1\n",
    "while i <= n:\n",
    "    if i %2 == 0:\n",
    "        print(i)\n",
    "    i += 1\n"
   ]
  },
  {
   "cell_type": "code",
   "execution_count": 11,
   "id": "927223fd",
   "metadata": {},
   "outputs": [
    {
     "name": "stdout",
     "output_type": "stream",
     "text": [
      "enter the raw number5\n",
      "1\n",
      "3\n",
      "5\n"
     ]
    }
   ],
   "source": [
    "#odd number\n",
    "n = int(input(\"enter the raw number\"))\n",
    "i = 1\n",
    "while i <= n:\n",
    "    if i %2 != 0:\n",
    "        print(i)\n",
    "    i += 1"
   ]
  },
  {
   "cell_type": "code",
   "execution_count": 12,
   "id": "5b744bcc",
   "metadata": {},
   "outputs": [
    {
     "name": "stdout",
     "output_type": "stream",
     "text": [
      "Enter an integer: 5\n",
      "5\n",
      "10\n",
      "15\n",
      "20\n",
      "25\n"
     ]
    }
   ],
   "source": [
    "#multiplication\n",
    "n = int(input(\"Enter an integer: \"))\n",
    "\n",
    "i = 1\n",
    "while i <= n:\n",
    "    m = i*n\n",
    "    i += 1\n",
    "    print(m)"
   ]
  },
  {
   "cell_type": "markdown",
   "id": "f4009afa",
   "metadata": {},
   "source": [
    "# pattern programing"
   ]
  },
  {
   "cell_type": "markdown",
   "id": "93dbfab1",
   "metadata": {},
   "source": [
    "* \n",
    "* * \n",
    "* * * \n",
    "* * * * \n",
    "* * * * * "
   ]
  },
  {
   "cell_type": "code",
   "execution_count": 39,
   "id": "ec92089d",
   "metadata": {},
   "outputs": [
    {
     "name": "stdout",
     "output_type": "stream",
     "text": [
      " *\n",
      " * *\n",
      " * * *\n",
      " * * * *\n",
      " * * * * *\n"
     ]
    }
   ],
   "source": [
    "i = 1\n",
    "while i<=5:\n",
    "  print (\" *\" *i)\n",
    "  i = i+1"
   ]
  }
 ],
 "metadata": {
  "kernelspec": {
   "display_name": "Python 3 (ipykernel)",
   "language": "python",
   "name": "python3"
  },
  "language_info": {
   "codemirror_mode": {
    "name": "ipython",
    "version": 3
   },
   "file_extension": ".py",
   "mimetype": "text/x-python",
   "name": "python",
   "nbconvert_exporter": "python",
   "pygments_lexer": "ipython3",
   "version": "3.9.12"
  }
 },
 "nbformat": 4,
 "nbformat_minor": 5
}
