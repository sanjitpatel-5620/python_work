{
 "cells": [
  {
   "cell_type": "markdown",
   "id": "0622bdb0",
   "metadata": {},
   "source": [
    "101010\n",
    "010101\n",
    "101010\n",
    "010101\n",
    "101010\n",
    "010101"
   ]
  },
  {
   "cell_type": "code",
   "execution_count": 36,
   "id": "32803cb5",
   "metadata": {},
   "outputs": [
    {
     "name": "stdout",
     "output_type": "stream",
     "text": [
      "0101010\n",
      "0101010\n",
      "0101010\n",
      "0101010\n",
      "0101010\n",
      "0101010\n",
      "0101010\n"
     ]
    }
   ],
   "source": [
    "for i in range(6+1):\n",
    "    for j in range(6+1):\n",
    "        print(j%2,end='')\n",
    "    print()"
   ]
  },
  {
   "cell_type": "code",
   "execution_count": 38,
   "id": "f6fbf339",
   "metadata": {},
   "outputs": [
    {
     "name": "stdout",
     "output_type": "stream",
     "text": [
      "0000\n",
      "1111\n",
      "0000\n",
      "1111\n",
      "0000\n",
      "1111\n",
      "0000\n"
     ]
    }
   ],
   "source": [
    "for i in range(6+1):\n",
    "    for j in range(6+1):\n",
    "        if j%2 == 0:\n",
    "            print(i%2,end='')\n",
    "    print()"
   ]
  },
  {
   "cell_type": "code",
   "execution_count": 49,
   "id": "14b75ac3",
   "metadata": {},
   "outputs": [
    {
     "name": "stdout",
     "output_type": "stream",
     "text": [
      "101010\n",
      "010101\n",
      "101010\n",
      "010101\n",
      "101010\n",
      "010101\n"
     ]
    }
   ],
   "source": [
    "n = 6\n",
    "for i in range(n):\n",
    "#     print(\"value of i\",i)\n",
    "    if i%2==0:\n",
    "#         print(\"value of i\",i)\n",
    "        for j in range(n):\n",
    "#             print(\"value of j\",j)\n",
    "            if j%2==0:\n",
    "#                 print('value of j',j)\n",
    "                print(1,end='')\n",
    "            else:\n",
    "                print(0, end='')\n",
    "    else:\n",
    "        for j in range(n):\n",
    "#             print('value of j',j)\n",
    "            if j%2==0:\n",
    "#                 print(\"value of j\",j)\n",
    "                print(0,end='')\n",
    "            else:\n",
    "                print(1, end='')\n",
    "    print()"
   ]
  },
  {
   "cell_type": "code",
   "execution_count": 51,
   "id": "6683ac88",
   "metadata": {},
   "outputs": [
    {
     "name": "stdout",
     "output_type": "stream",
     "text": [
      "29 20 14 10 \n",
      "9 6 4 \n",
      "3 2 \n",
      "1 "
     ]
    }
   ],
   "source": [
    "n = 29\n",
    "s = 4\n",
    "count = 1\n",
    "lis = []\n",
    "for i in range(1, s+1):\n",
    "    if i == 1:\n",
    "        for j in range(s, 0, -1):\n",
    "            n = n - ((s - i) * (j * count - j)) // (i + (count // j)) - (count-i)//(j*j)\n",
    "            print(n, end=' ')\n",
    "            lis.append(n)\n",
    "            count += 1\n",
    "    else:\n",
    "        print()\n",
    "        lis1 = []\n",
    "        for j in range(len(lis)-1):\n",
    "            n = lis[j]-lis[j+1]\n",
    "            print(n, end=' ')\n",
    "            lis1.append(n)\n",
    "        lis = lis1"
   ]
  },
  {
   "cell_type": "code",
   "execution_count": 80,
   "id": "2aebb685",
   "metadata": {},
   "outputs": [
    {
     "name": "stdout",
     "output_type": "stream",
     "text": [
      "    1 \n",
      "   1  2 \n",
      "  3 4 5 \n",
      " 7 8 9 10 \n",
      "15 16 17 18 19 \n"
     ]
    }
   ],
   "source": [
    "n1 = 1\n",
    "n2 = 0\n",
    "for i in range(1,6):\n",
    "    for j in range(i):\n",
    "        n = n1 + n2 + j\n",
    "        sep = ' '*(6-1-i-j-j)\n",
    "        print(sep + (str(n)+' '), end='')\n",
    "    print()\n",
    "    n1 = n2\n",
    "    n2 = n"
   ]
  },
  {
   "cell_type": "code",
   "execution_count": null,
   "id": "012110fa",
   "metadata": {},
   "outputs": [],
   "source": []
  }
 ],
 "metadata": {
  "kernelspec": {
   "display_name": "Python 3 (ipykernel)",
   "language": "python",
   "name": "python3"
  },
  "language_info": {
   "codemirror_mode": {
    "name": "ipython",
    "version": 3
   },
   "file_extension": ".py",
   "mimetype": "text/x-python",
   "name": "python",
   "nbconvert_exporter": "python",
   "pygments_lexer": "ipython3",
   "version": "3.9.12"
  }
 },
 "nbformat": 4,
 "nbformat_minor": 5
}
