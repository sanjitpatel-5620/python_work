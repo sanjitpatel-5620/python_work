{
 "cells": [
  {
   "cell_type": "markdown",
   "id": "895046ff",
   "metadata": {},
   "source": [
    "1. Write a Python program to print all natural numbers from 1 to n. - using while loop"
   ]
  },
  {
   "cell_type": "code",
   "execution_count": 77,
   "id": "3ba27133",
   "metadata": {},
   "outputs": [
    {
     "name": "stdout",
     "output_type": "stream",
     "text": [
      "enter the number25\n",
      "0 1 2 3 4 5 6 7 8 9 10 11 12 13 14 15 16 17 18 19 20 21 22 23 24 25 "
     ]
    }
   ],
   "source": [
    "n = int(input(\"enter the number\"))\n",
    "i = 0\n",
    "while i <= n: \n",
    "    print(i, end = \" \")\n",
    "    i+= 1"
   ]
  },
  {
   "cell_type": "markdown",
   "id": "b1becec4",
   "metadata": {},
   "source": [
    "2. Write a Python program to print all natural numbers in reverse (from n to 1). - using while\n",
    "loop"
   ]
  },
  {
   "cell_type": "code",
   "execution_count": 25,
   "id": "2cc56f02",
   "metadata": {},
   "outputs": [
    {
     "name": "stdout",
     "output_type": "stream",
     "text": [
      "enter the number5\n",
      "5 4 3 2 1 "
     ]
    }
   ],
   "source": [
    "n = int(input(\"enter the number\"))\n",
    "i = 1\n",
    "while n >= i:\n",
    "    print(n)\n",
    "    n-= 1\n",
    "    \n"
   ]
  },
  {
   "cell_type": "markdown",
   "id": "f6c0dcba",
   "metadata": {},
   "source": [
    "3. Write a Python program to print all alphabets from a to z. - using while "
   ]
  },
  {
   "cell_type": "code",
   "execution_count": 26,
   "id": "356ac651",
   "metadata": {},
   "outputs": [
    {
     "name": "stdout",
     "output_type": "stream",
     "text": [
      "A B C D E F G H I J K L M N O P Q R S T U V W X Y Z "
     ]
    }
   ],
   "source": [
    "#capital A ascii value 65 and using chr function\n",
    "i = 65\n",
    "while i < 91:\n",
    "    print(chr(i),end=\" \")\n",
    "    i += 1"
   ]
  },
  {
   "cell_type": "markdown",
   "id": "e156b839",
   "metadata": {},
   "source": [
    "4. Write a Python program to print all odd number between 1 to 100."
   ]
  },
  {
   "cell_type": "code",
   "execution_count": 36,
   "id": "b6bb15d0",
   "metadata": {},
   "outputs": [
    {
     "name": "stdout",
     "output_type": "stream",
     "text": [
      "1 3 5 7 9 11 13 15 17 19 21 23 25 27 29 31 33 35 37 39 41 43 45 47 49 51 53 55 57 59 61 63 65 67 69 71 73 75 77 79 81 83 85 87 89 91 93 95 97 99 "
     ]
    }
   ],
   "source": [
    "\n",
    "i = 1\n",
    "while i <= 100:\n",
    "    if i%2 != 0:\n",
    "        print(i, end=\" \")\n",
    "    i += 1"
   ]
  },
  {
   "cell_type": "markdown",
   "id": "5c9eabb9",
   "metadata": {},
   "source": [
    "5. Write a Python program to find sum of all natural numbers between 1 to n."
   ]
  },
  {
   "cell_type": "code",
   "execution_count": 43,
   "id": "babb1031",
   "metadata": {},
   "outputs": [
    {
     "name": "stdout",
     "output_type": "stream",
     "text": [
      "enter the number: 6\n",
      "The sum is 21\n"
     ]
    }
   ],
   "source": [
    "num = int(input(\"enter the number: \"))\n",
    "\n",
    "if num < 0:\n",
    "   print(\"Enter a positive number\")\n",
    "else:\n",
    "   sum = 0\n",
    "   while(num > 0):\n",
    "       sum += num\n",
    "       num -= 1\n",
    "   print(\"The sum is\", sum)"
   ]
  },
  {
   "cell_type": "markdown",
   "id": "ea05b1f1",
   "metadata": {},
   "source": [
    "6. Write a Python program to find sum of all even numbers between 1 to n."
   ]
  },
  {
   "cell_type": "code",
   "execution_count": 52,
   "id": "93c1800f",
   "metadata": {},
   "outputs": [
    {
     "name": "stdout",
     "output_type": "stream",
     "text": [
      "enter the number: 20\n",
      "sum is  110\n"
     ]
    }
   ],
   "source": [
    "num = int(input(\"enter the number: \"))\n",
    "sum = 0\n",
    "i = 1\n",
    "while num >= i:\n",
    "    if num % 2 == 0:\n",
    "        sum += num\n",
    "    num-= 1\n",
    "print(\"sum is \",sum)"
   ]
  },
  {
   "cell_type": "markdown",
   "id": "d56f8ec9",
   "metadata": {},
   "source": [
    "7. Write a Python program to find sum of all odd numbers between 1 to n."
   ]
  },
  {
   "cell_type": "code",
   "execution_count": 57,
   "id": "e7615859",
   "metadata": {},
   "outputs": [
    {
     "name": "stdout",
     "output_type": "stream",
     "text": [
      "enter the number: 5\n",
      "sum is  9\n"
     ]
    }
   ],
   "source": [
    "n = int(input(\"enter the number: \"))\n",
    "sum = 0\n",
    "i = 1\n",
    "while n >= i:\n",
    "    if n % 2  != 0:\n",
    "        sum += n\n",
    "    n-= 1\n",
    "print(\"sum is \",sum)"
   ]
  },
  {
   "cell_type": "markdown",
   "id": "eeaf9326",
   "metadata": {},
   "source": [
    "8. Write a Python program to print multiplication table of any number."
   ]
  },
  {
   "cell_type": "code",
   "execution_count": 166,
   "id": "03c3aa77",
   "metadata": {},
   "outputs": [
    {
     "name": "stdout",
     "output_type": "stream",
     "text": [
      "Enter the number to print the multiplication table: 14\n",
      "14 x 1 = 14\n",
      "14 x 2 = 28\n",
      "14 x 3 = 42\n",
      "14 x 4 = 56\n",
      "14 x 5 = 70\n",
      "14 x 6 = 84\n",
      "14 x 7 = 98\n",
      "14 x 8 = 112\n",
      "14 x 9 = 126\n",
      "14 x 10 = 140\n"
     ]
    }
   ],
   "source": [
    "n = int(input (\"Enter the number to print the multiplication table: \"))      \n",
    "for i in range(1, 11):      \n",
    "   print (n, 'x', i, '=', n * i )  "
   ]
  },
  {
   "cell_type": "markdown",
   "id": "07806986",
   "metadata": {},
   "source": [
    "9. Write a Python program to count number of digits in a number."
   ]
  },
  {
   "cell_type": "code",
   "execution_count": 62,
   "id": "a3400506",
   "metadata": {},
   "outputs": [
    {
     "name": "stdout",
     "output_type": "stream",
     "text": [
      "enter the  number 4561\n",
      "4\n"
     ]
    }
   ],
   "source": [
    "num = int(input(\"enter the  number \"))\n",
    "print(len(str(num)))"
   ]
  },
  {
   "cell_type": "markdown",
   "id": "8daaecc9",
   "metadata": {},
   "source": [
    "10. Write a Python program to find first and last digit of a number."
   ]
  },
  {
   "cell_type": "code",
   "execution_count": 65,
   "id": "db742dcd",
   "metadata": {},
   "outputs": [
    {
     "name": "stdout",
     "output_type": "stream",
     "text": [
      "enter the number143\n",
      "first digit 1 and last digit 3\n"
     ]
    }
   ],
   "source": [
    "n = int(input(\"enter the number\"))\n",
    "b = str(n)\n",
    "print(f\"first digit {(b[0])} and last digit {(b[-1])}\")"
   ]
  },
  {
   "cell_type": "markdown",
   "id": "0645af43",
   "metadata": {},
   "source": [
    "11. Write a Python program to find sum of first and last digit of a number."
   ]
  },
  {
   "cell_type": "code",
   "execution_count": 66,
   "id": "b9805a49",
   "metadata": {},
   "outputs": [
    {
     "name": "stdout",
     "output_type": "stream",
     "text": [
      "enter the number121\n",
      "sum of first and last digit 2\n"
     ]
    }
   ],
   "source": [
    "n = int(input(\"enter the number\"))\n",
    "b = str(n)\n",
    "a = int(b[0])+ int(b[-1])\n",
    "print(\"sum of first and last digit\",a)"
   ]
  },
  {
   "cell_type": "markdown",
   "id": "bd26af77",
   "metadata": {},
   "source": [
    "12. Write a Python program to swap first and last digits of a number.\n"
   ]
  },
  {
   "cell_type": "code",
   "execution_count": 72,
   "id": "b70d5b5c",
   "metadata": {},
   "outputs": [
    {
     "name": "stdout",
     "output_type": "stream",
     "text": [
      "enter the number123456\n",
      "623451\n"
     ]
    }
   ],
   "source": [
    "a = int(input(\"enter the number\"))\n",
    "b = str(a)\n",
    "print(b[-1]+b[1:-1]+b[0])\n"
   ]
  },
  {
   "cell_type": "markdown",
   "id": "edcbe901",
   "metadata": {},
   "source": [
    "13. Write a Python program to calculate sum of digits of a number."
   ]
  },
  {
   "cell_type": "code",
   "execution_count": 74,
   "id": "fba83666",
   "metadata": {},
   "outputs": [
    {
     "name": "stdout",
     "output_type": "stream",
     "text": [
      "15\n"
     ]
    }
   ],
   "source": [
    "a = 12345\n",
    "sum = 0\n",
    "b = str(a)\n",
    "for i in b:\n",
    "    sum += int(i)\n",
    "print(sum)\n"
   ]
  },
  {
   "cell_type": "markdown",
   "id": "f6ac3a50",
   "metadata": {},
   "source": [
    "14. Write a Python program to calculate product of digits of a number."
   ]
  },
  {
   "cell_type": "code",
   "execution_count": 75,
   "id": "22f89480",
   "metadata": {},
   "outputs": [
    {
     "name": "stdout",
     "output_type": "stream",
     "text": [
      "120\n"
     ]
    }
   ],
   "source": [
    "a = 12345\n",
    "product = 1\n",
    "b = str(a)\n",
    "for i in b:\n",
    "    product *= int(i)\n",
    "print(product)"
   ]
  },
  {
   "cell_type": "markdown",
   "id": "8d5bb28f",
   "metadata": {},
   "source": [
    "15. Write a Python program to enter a number and print its reverse.\n"
   ]
  },
  {
   "cell_type": "code",
   "execution_count": 81,
   "id": "0e82bf09",
   "metadata": {},
   "outputs": [
    {
     "name": "stdout",
     "output_type": "stream",
     "text": [
      "enter the number: 123654\n",
      "456321\n"
     ]
    }
   ],
   "source": [
    "a = int(input(\"enter the number: \"))\n",
    "c = str(a)\n",
    "print(c[::-1])"
   ]
  },
  {
   "cell_type": "code",
   "execution_count": 84,
   "id": "3b2d041b",
   "metadata": {},
   "outputs": [
    {
     "name": "stdout",
     "output_type": "stream",
     "text": [
      "enter the number :123594\n",
      "495321\n"
     ]
    }
   ],
   "source": [
    "a = int(input(\"enter the number :\"))\n",
    "c = str(a)\n",
    "string = c\n",
    "res = \"\"\n",
    "for char in string:\n",
    "    res = char + res\n",
    "print(res)"
   ]
  },
  {
   "cell_type": "markdown",
   "id": "23b887be",
   "metadata": {},
   "source": [
    "16. Write a Python program to check whether a number is palindrome or not."
   ]
  },
  {
   "cell_type": "code",
   "execution_count": 88,
   "id": "5d6573ee",
   "metadata": {},
   "outputs": [
    {
     "name": "stdout",
     "output_type": "stream",
     "text": [
      "enter the number: 121\n",
      "given number is palidrom\n"
     ]
    }
   ],
   "source": [
    "a = int(input(\"enter the number: \"))\n",
    "c = str(a)\n",
    "d = c[::-1]\n",
    "if a == int(d):\n",
    "    print(\"given number is palidrom\")\n",
    "else:\n",
    "    print(\"given number not a palidome\")"
   ]
  },
  {
   "cell_type": "markdown",
   "id": "4e5b7d40",
   "metadata": {},
   "source": [
    "18. Write a Python program to enter a number and print it in words."
   ]
  },
  {
   "cell_type": "code",
   "execution_count": 117,
   "id": "bd5e4abe",
   "metadata": {},
   "outputs": [
    {
     "ename": "SyntaxError",
     "evalue": "unexpected EOF while parsing (1787785315.py, line 3)",
     "output_type": "error",
     "traceback": [
      "\u001b[1;36m  Input \u001b[1;32mIn [117]\u001b[1;36m\u001b[0m\n\u001b[1;33m    \u001b[0m\n\u001b[1;37m    ^\u001b[0m\n\u001b[1;31mSyntaxError\u001b[0m\u001b[1;31m:\u001b[0m unexpected EOF while parsing\n"
     ]
    }
   ],
   "source": [
    "a = [ \"zero\", \"one\", \"two\", \"three\", \"four\",\n",
    "            \"five\", \"six\", \"seven\", \"eight\", \"nine\"     \n",
    "    \n"
   ]
  },
  {
   "cell_type": "markdown",
   "id": "dc89460c",
   "metadata": {},
   "source": [
    "19. Write a Python program to print all AScII character with their values."
   ]
  },
  {
   "cell_type": "code",
   "execution_count": 120,
   "id": "b1d4912a",
   "metadata": {},
   "outputs": [
    {
     "name": "stdout",
     "output_type": "stream",
     "text": [
      "  ! \" # $ % & ' ( ) * + , - . / 0 1 2 3 4 5 6 7 8 9 : ; < = > ? @ A B C D E F G H I J K L M N O P Q R S T U V W X Y Z [ \\ ] ^ _ ` a b c d e f g h i j k l m n o p q r s t u v w x y z { | } ~ "
     ]
    }
   ],
   "source": [
    "i = 32\n",
    "while i < 127:\n",
    "    print(chr(i),end=\" \")\n",
    "    i += 1"
   ]
  },
  {
   "cell_type": "markdown",
   "id": "3232fb1a",
   "metadata": {},
   "source": [
    "20. Write a Python program to find power of a number using for loop."
   ]
  },
  {
   "cell_type": "code",
   "execution_count": 126,
   "id": "49bb7514",
   "metadata": {},
   "outputs": [
    {
     "name": "stdout",
     "output_type": "stream",
     "text": [
      "enter the number to find power 5\n",
      "enter the how many times to want 3\n",
      "125\n"
     ]
    }
   ],
   "source": [
    "n = int(input(\"enter the number to find power \"))\n",
    "p = int(input(\"enter the how many times to want \"))\n",
    "out = 1\n",
    "for i in range(p):\n",
    "    out = out*n\n",
    "print(out)\n",
    "    "
   ]
  },
  {
   "cell_type": "markdown",
   "id": "b58bd5fb",
   "metadata": {},
   "source": [
    "21. Write a Python program to find all factors of a number."
   ]
  },
  {
   "cell_type": "code",
   "execution_count": 127,
   "id": "f7346ae9",
   "metadata": {},
   "outputs": [
    {
     "name": "stdout",
     "output_type": "stream",
     "text": [
      "enter the number: 12\n",
      "1\n",
      "2\n",
      "3\n",
      "4\n",
      "6\n",
      "12\n"
     ]
    }
   ],
   "source": [
    "n = int(input(\"enter the number: \"))\n",
    "\n",
    "for i in range(1, n+1):\n",
    "    if n% i == 0:\n",
    "        print(i)"
   ]
  },
  {
   "cell_type": "markdown",
   "id": "d2b5f3a0",
   "metadata": {},
   "source": [
    "22. Write a Python program to calculate factorial of a number."
   ]
  },
  {
   "cell_type": "code",
   "execution_count": 128,
   "id": "50ff1cd6",
   "metadata": {},
   "outputs": [
    {
     "name": "stdout",
     "output_type": "stream",
     "text": [
      "enter number : !5\n",
      "120\n"
     ]
    }
   ],
   "source": [
    "num = int(input(\"enter number : !\"))\n",
    "fact = 1\n",
    "for i in range(1, num+1):\n",
    "    fact = fact * i\n",
    "\n",
    "print(fact)"
   ]
  },
  {
   "cell_type": "markdown",
   "id": "4a5e522a",
   "metadata": {},
   "source": [
    "25. Write a Python program to check whether a number is Prime number or not."
   ]
  },
  {
   "cell_type": "code",
   "execution_count": 129,
   "id": "92791e54",
   "metadata": {},
   "outputs": [
    {
     "name": "stdout",
     "output_type": "stream",
     "text": [
      "enter number : 25\n",
      "25 is not prime number\n"
     ]
    }
   ],
   "source": [
    "num = int(input(\"enter number : \"))\n",
    "for i in range(2, num):\n",
    "    if num % i == 0:\n",
    "        print(f\"{num} is not prime number\")\n",
    "        break\n",
    "else:\n",
    "    print(f\"{num} is a prime number\")"
   ]
  },
  {
   "cell_type": "markdown",
   "id": "596ea58b",
   "metadata": {},
   "source": [
    "26. Write a Python program to print all Prime numbers between 1 to n."
   ]
  },
  {
   "cell_type": "code",
   "execution_count": 135,
   "id": "774768f0",
   "metadata": {},
   "outputs": [
    {
     "name": "stdout",
     "output_type": "stream",
     "text": [
      "enter number : 50\n",
      "2 is a prime number\n",
      "3 is a prime number\n",
      "5 is a prime number\n",
      "7 is a prime number\n",
      "11 is a prime number\n",
      "13 is a prime number\n",
      "17 is a prime number\n",
      "19 is a prime number\n",
      "23 is a prime number\n",
      "29 is a prime number\n",
      "31 is a prime number\n",
      "37 is a prime number\n",
      "41 is a prime number\n",
      "43 is a prime number\n",
      "47 is a prime number\n"
     ]
    }
   ],
   "source": [
    "num = int(input(\"enter number : \"))\n",
    "\n",
    "for i in range(2, num+1):\n",
    "    for j in range(2, i):\n",
    "        if i % j == 0:\n",
    "            break\n",
    "    else:\n",
    "        print(f\"{i} is a prime number\")"
   ]
  },
  {
   "cell_type": "markdown",
   "id": "04cbf346",
   "metadata": {},
   "source": [
    "27. Write a Python program to find sum of all prime numbers between 1 to n."
   ]
  },
  {
   "cell_type": "code",
   "execution_count": 145,
   "id": "30a919b9",
   "metadata": {},
   "outputs": [
    {
     "name": "stdout",
     "output_type": "stream",
     "text": [
      "5\n",
      "10\n"
     ]
    }
   ],
   "source": [
    "n = int(input(\"enter the number \"))\n",
    "sum = 0\n",
    "for i in range(2, n+1):\n",
    "    for j in range(2, i):\n",
    "        if i % j == 0:\n",
    "           break\n",
    "    else:\n",
    "        sum = sum + i\n",
    "print(sum)         "
   ]
  },
  {
   "cell_type": "markdown",
   "id": "a317756b",
   "metadata": {},
   "source": [
    "28. Write a Python program to find all prime factors of a number."
   ]
  },
  {
   "cell_type": "code",
   "execution_count": null,
   "id": "cd5f0d1e",
   "metadata": {},
   "outputs": [],
   "source": []
  },
  {
   "cell_type": "markdown",
   "id": "2fe94679",
   "metadata": {},
   "source": [
    "29. Write a Python program to check whether a number is Armstrong number or not."
   ]
  },
  {
   "cell_type": "code",
   "execution_count": 146,
   "id": "92680bfe",
   "metadata": {},
   "outputs": [
    {
     "name": "stdout",
     "output_type": "stream",
     "text": [
      "153 armstrong number\n"
     ]
    }
   ],
   "source": [
    "n = 153\n",
    "size = len(str(n))\n",
    "out = 0\n",
    "for chr in str(n):\n",
    "    out += int(chr)**size\n",
    "if out == n:\n",
    "    print(f\"{n} armstrong number\")\n",
    "else:\n",
    "    print(f\"{n}not armstrong number\")\n"
   ]
  },
  {
   "cell_type": "markdown",
   "id": "c679b943",
   "metadata": {},
   "source": [
    "30. Write a Python program to print all Armstrong numbers between 1 to n."
   ]
  },
  {
   "cell_type": "code",
   "execution_count": null,
   "id": "a95a8156",
   "metadata": {},
   "outputs": [],
   "source": []
  },
  {
   "cell_type": "markdown",
   "id": "961330a3",
   "metadata": {},
   "source": [
    "31. Write a Python program to check whether a number is Perfect number or not."
   ]
  },
  {
   "cell_type": "code",
   "execution_count": 152,
   "id": "d5f0cb04",
   "metadata": {},
   "outputs": [
    {
     "name": "stdout",
     "output_type": "stream",
     "text": [
      "enter the number 6\n",
      "given number is perfect number\n"
     ]
    }
   ],
   "source": [
    "n = int(input(\"enter the number \"))\n",
    "sum = 0\n",
    "for i in range(1, n):\n",
    "    if n%i == 0:\n",
    "        sum =  sum + i\n",
    "if sum == n:\n",
    "    print(\"given number is perfect number\")32. Write a Python program to print all Perfect numbers between 1 to n.\n",
    "else:\n",
    "    print(\"given number is not perfect number\")"
   ]
  },
  {
   "cell_type": "markdown",
   "id": "f3ae1823",
   "metadata": {},
   "source": [
    "32. Write a Python program to print all Perfect numbers between 1 to n."
   ]
  },
  {
   "cell_type": "code",
   "execution_count": 163,
   "id": "61059980",
   "metadata": {},
   "outputs": [
    {
     "name": "stdout",
     "output_type": "stream",
     "text": [
      "enter the number 50\n",
      "6\n",
      "28\n"
     ]
    }
   ],
   "source": [
    "a = int(input(\"enter the number \"))\n",
    "for n in range(1, a+1):\n",
    "    sum = 0\n",
    "    for i in range(1, n):\n",
    "        if n % i == 0:\n",
    "            sum =  sum + i\n",
    "    if n == sum:\n",
    "        print(n)\n",
    "        \n"
   ]
  },
  {
   "cell_type": "markdown",
   "id": "d34478a1",
   "metadata": {},
   "source": [
    "33. Write a Python program to check whether a number is Strong number or not."
   ]
  },
  {
   "cell_type": "code",
   "execution_count": 165,
   "id": "c8d9f0ad",
   "metadata": {},
   "outputs": [
    {
     "name": "stdout",
     "output_type": "stream",
     "text": [
      " Enter the Number:145\n",
      "Factorial of 5 = 120\n",
      "Factorial of 4 = 24\n",
      "Factorial of 1 = 1\n",
      " The given number is a Strong Number\n"
     ]
    }
   ],
   "source": [
    "n = int(input(\" Enter the Number:\"))  \n",
    "sum = 0  \n",
    "temp = n  \n",
    "  \n",
    "while(temp > 0):  \n",
    "    fact = 1  \n",
    "    rem = temp % 10  \n",
    "  \n",
    "    for i in range(1, rem + 1):  \n",
    "        fact = fact * i  \n",
    "  \n",
    "    print(\"Factorial of %d = %d\" %(rem, fact))  \n",
    "    sum = sum + fact  \n",
    "    temp = temp // 10       \n",
    "if (sum == n):  \n",
    "    print(\" The given number is a Strong Number\")  \n",
    "else:  \n",
    "    print(\" The given number is not a Strong Number\")  "
   ]
  },
  {
   "cell_type": "code",
   "execution_count": null,
   "id": "d179d2e8",
   "metadata": {},
   "outputs": [],
   "source": []
  }
 ],
 "metadata": {
  "kernelspec": {
   "display_name": "Python 3 (ipykernel)",
   "language": "python",
   "name": "python3"
  },
  "language_info": {
   "codemirror_mode": {
    "name": "ipython",
    "version": 3
   },
   "file_extension": ".py",
   "mimetype": "text/x-python",
   "name": "python",
   "nbconvert_exporter": "python",
   "pygments_lexer": "ipython3",
   "version": "3.9.12"
  }
 },
 "nbformat": 4,
 "nbformat_minor": 5
}
