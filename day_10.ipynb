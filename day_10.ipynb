{
 "cells": [
  {
   "cell_type": "code",
   "execution_count": 119,
   "id": "9800bd64",
   "metadata": {},
   "outputs": [
    {
     "name": "stdout",
     "output_type": "stream",
     "text": [
      "enter the raw number 5\n",
      "1 \n",
      "1 2 \n",
      "1 2 3 \n",
      "1 2 3 4 \n",
      "1 2 3 4 5 \n"
     ]
    }
   ],
   "source": [
    "n = int(input(\"enter the raw number \"))\n",
    "for i in range(n):\n",
    "    for j in range(i+1):\n",
    "#         print(i)\n",
    "#         print(i,j,end=',')\n",
    "        print(j+1,end=' ')\n",
    "    print()"
   ]
  },
  {
   "cell_type": "code",
   "execution_count": 2,
   "id": "5631badc",
   "metadata": {},
   "outputs": [
    {
     "name": "stdout",
     "output_type": "stream",
     "text": [
      "enter the raw number: 5\n",
      "1 \n",
      "2 1 \n",
      "3 2 1 \n",
      "4 3 2 1 \n",
      "5 4 3 2 1 \n"
     ]
    }
   ],
   "source": [
    "n = int(input(\"enter the raw number: \"))\n",
    "for i in range(n):\n",
    "    for j in range(i,-1,-1):\n",
    "        print(j+1,end=' ')\n",
    "    print()\n",
    "    "
   ]
  },
  {
   "cell_type": "code",
   "execution_count": 6,
   "id": "93e09887",
   "metadata": {},
   "outputs": [
    {
     "name": "stdout",
     "output_type": "stream",
     "text": [
      "enter the raw number 5\n",
      "1 \n",
      "2 2 \n",
      "3 3 3 \n",
      "4 4 4 4 \n",
      "5 5 5 5 5 \n"
     ]
    }
   ],
   "source": [
    "n = int(input(\"enter the raw number \"))\n",
    "for i in range(n):\n",
    "    for j in range(i+1):\n",
    "        print(i+1,end=' ')\n",
    "    print()"
   ]
  },
  {
   "cell_type": "code",
   "execution_count": 8,
   "id": "be0c66ea",
   "metadata": {},
   "outputs": [
    {
     "name": "stdout",
     "output_type": "stream",
     "text": [
      "enter the raw number 5\n",
      "5 \n",
      "4 4 \n",
      "3 3 3 \n",
      "2 2 2 2 \n",
      "1 1 1 1 1 \n"
     ]
    }
   ],
   "source": [
    "n = int(input(\"enter the raw number \"))\n",
    "for i in range(n):\n",
    "    for j in range(i+1):\n",
    "        print(n-i,end=' ')\n",
    "    print()"
   ]
  },
  {
   "cell_type": "code",
   "execution_count": 9,
   "id": "f14fff50",
   "metadata": {},
   "outputs": [
    {
     "name": "stdout",
     "output_type": "stream",
     "text": [
      "enter the raw number 5\n",
      "5 \n",
      "5 4 \n",
      "5 4 3 \n",
      "5 4 3 2 \n",
      "5 4 3 2 1 \n"
     ]
    }
   ],
   "source": [
    "n = int(input(\"enter the raw number \"))\n",
    "for i in range(n):\n",
    "    for j in range(i+1):\n",
    "        print(n-j,end=' ')\n",
    "    print()"
   ]
  },
  {
   "cell_type": "code",
   "execution_count": 10,
   "id": "70622079",
   "metadata": {},
   "outputs": [
    {
     "name": "stdout",
     "output_type": "stream",
     "text": [
      "enter the raw number 5\n",
      "5 \n",
      "4 5 \n",
      "3 4 5 \n",
      "2 3 4 5 \n",
      "1 2 3 4 5 \n"
     ]
    }
   ],
   "source": [
    "n = int(input(\"enter the raw number \"))\n",
    "for i in range(n):\n",
    "    for j in range(i,-1,-1):\n",
    "        print(n-j,end=' ')\n",
    "    print()"
   ]
  },
  {
   "cell_type": "code",
   "execution_count": 14,
   "id": "de0cb5a9",
   "metadata": {},
   "outputs": [
    {
     "name": "stdout",
     "output_type": "stream",
     "text": [
      "enter the raw number 5\n",
      "        1 \n",
      "      1 2 \n",
      "    1 2 3 \n",
      "  1 2 3 4 \n",
      "1 2 3 4 5 \n"
     ]
    }
   ],
   "source": [
    "n = int(input(\"enter the raw number \"))\n",
    "for i in range(n):\n",
    "    for j in range(n-i-1):\n",
    "        print(' ',end=' ')\n",
    "    for j in range(i+1):\n",
    "        print(j+1,end=' ')\n",
    "    print()"
   ]
  },
  {
   "cell_type": "code",
   "execution_count": 120,
   "id": "01785d71",
   "metadata": {},
   "outputs": [
    {
     "name": "stdout",
     "output_type": "stream",
     "text": [
      "1 2 3 4 5 \n",
      "2 3 4 5 \n",
      "3 4 5 \n",
      "4 5 \n",
      "5 \n",
      "\n"
     ]
    }
   ],
   "source": [
    "n = 5\n",
    "for i in range(0,n+1,1):\n",
    "#     print(i)\n",
    "    for j in range(i+1,n+1,1):\n",
    "            print(j, end=' ')\n",
    "    print()"
   ]
  },
  {
   "cell_type": "code",
   "execution_count": 211,
   "id": "edbd41d3",
   "metadata": {},
   "outputs": [
    {
     "name": "stdout",
     "output_type": "stream",
     "text": [
      "enter the raw number5\n",
      "1 \n",
      "1 2 1 \n",
      "1 2 3 2 1 \n",
      "1 2 3 4 3 2 1 \n",
      "1 2 3 4 5 4 3 2 1 \n"
     ]
    }
   ],
   "source": [
    "## 01\n",
    "n = int(input(\"enter the raw number\" ))\n",
    "for i in range(1,n+1):\n",
    "    for j in range(1,i+1):\n",
    "#         print(i,j, end=\",\")\n",
    "        print(j,end=' ')\n",
    "    for j in range(i-1,0,-1):\n",
    "#         print(i,j,end=',')\n",
    "        print(j,end=' ')\n",
    "    print()"
   ]
  },
  {
   "cell_type": "code",
   "execution_count": 126,
   "id": "53009893",
   "metadata": {},
   "outputs": [
    {
     "name": "stdout",
     "output_type": "stream",
     "text": [
      "enter the raw number5\n",
      "        1 \n",
      "      1 2 1 \n",
      "    1 2 3 2 1 \n",
      "  1 2 3 4 3 2 1 \n",
      "1 2 3 4 5 4 3 2 1 \n"
     ]
    }
   ],
   "source": [
    "## 02\n",
    "n = int(input(\"enter the raw number\" ))\n",
    "for i in range(1,n+1):\n",
    "    for j in range((n-i-1)+1):\n",
    "        print(' ',end=' ')\n",
    "    for j in range(1,i+1):\n",
    "        print(j,end=' ')\n",
    "    for j in range(i-1,0,-1):\n",
    "#         print(i,j,end=',')\n",
    "        print(j,end=' ')\n",
    "    print()"
   ]
  },
  {
   "cell_type": "code",
   "execution_count": 220,
   "id": "e69cdfe0",
   "metadata": {},
   "outputs": [
    {
     "name": "stdout",
     "output_type": "stream",
     "text": [
      "enter the number 5\n",
      "        1 \n",
      "      2 3 2 \n",
      "    3 4 5 4 3 \n",
      "  4 5 6 7 6 5 4 \n",
      "5 6 7 8 9 8 7 6 5 \n"
     ]
    }
   ],
   "source": [
    "## 03\n",
    "n = int(input(\"enter the number \"))\n",
    "for i in range(1,n+1):\n",
    "    for j in range(((n-i)-1)+1):\n",
    "        print(' ',end=' ')\n",
    "    for j in range(i,2*i):\n",
    "        print(j,end=' ')\n",
    "    for j in range(2*i-2,i-1,-1):\n",
    "#         print(i,j,end=',')\n",
    "        print(j,end=' ')\n",
    "    print()"
   ]
  },
  {
   "cell_type": "code",
   "execution_count": 124,
   "id": "4132ed49",
   "metadata": {},
   "outputs": [
    {
     "name": "stdout",
     "output_type": "stream",
     "text": [
      "enter the raw number 4\n",
      "\n",
      "1*\n",
      "2*2*\n",
      "3*3*3*\n",
      "4*4*4*4*\n",
      "4*4*4*\n",
      "3*3*\n",
      "2*\n"
     ]
    }
   ],
   "source": [
    "\n",
    "n = int(input(\"enter the raw number \"))\n",
    "for i in range(n+1):\n",
    "    for j in range(1,i+1):\n",
    "        print(i,end='*')\n",
    "    print()\n",
    "for i in range(n-1,0,-1):\n",
    "    for j in range(1,i+1):\n",
    "        print(i+1, end='*')\n",
    "    print()"
   ]
  },
  {
   "cell_type": "code",
   "execution_count": 99,
   "id": "480d7346",
   "metadata": {},
   "outputs": [
    {
     "name": "stdout",
     "output_type": "stream",
     "text": [
      "5*5*5*5*\n",
      "4*4*4*\n",
      "3*3*\n",
      "2*\n"
     ]
    }
   ],
   "source": [
    "n=5\n",
    "for i in range(n-1,0,-1):\n",
    "    for j in range(1,i+1):\n",
    "        print(i+1, end='*')\n",
    "    print()"
   ]
  },
  {
   "cell_type": "code",
   "execution_count": 146,
   "id": "3e198252",
   "metadata": {},
   "outputs": [
    {
     "name": "stdout",
     "output_type": "stream",
     "text": [
      "please enter the number4\n",
      "1 \n",
      "2 * 2 \n",
      "3 * 3 * 3 \n",
      "4 * 4 * 4 * 4 \n"
     ]
    }
   ],
   "source": [
    "n =int(input(\"please enter the number\"))\n",
    "for i in range(n):\n",
    "    for j in range(i+1):\n",
    "#         print(i,j,end=',')\n",
    "        if j == 0: \n",
    "            print(i+1,end=' ')\n",
    "        else:\n",
    "            print('*',end=' ')\n",
    "            print(i+1,end=' ')\n",
    "    print()"
   ]
  },
  {
   "cell_type": "code",
   "execution_count": 147,
   "id": "784df971",
   "metadata": {},
   "outputs": [
    {
     "name": "stdout",
     "output_type": "stream",
     "text": [
      "enter the number 5\n",
      "5 * 5 * 5 * 5 * 5 \n",
      "4 * 4 * 4 * 4 \n",
      "3 * 3 * 3 \n",
      "2 * 2 \n",
      "1 \n"
     ]
    }
   ],
   "source": [
    "n = int(input(\"enter the number \"))\n",
    "for i in range(n,0,-1):\n",
    "    for j in range(i,0,-1):\n",
    "#         print(i,j,end=',')\n",
    "        if j == i:\n",
    "            print(i,end=' ')\n",
    "        else:\n",
    "            print('*',end=' ')\n",
    "            print(i,end=' ')\n",
    "    print()"
   ]
  },
  {
   "cell_type": "code",
   "execution_count": 145,
   "id": "cb80cdfa",
   "metadata": {},
   "outputs": [
    {
     "name": "stdout",
     "output_type": "stream",
     "text": [
      "1*\n",
      "2*3*\n",
      "4*5*6*\n",
      "7*8*9*10*\n",
      "10*9*8*7*\n",
      "6*5*4*\n",
      "3*2*\n"
     ]
    }
   ],
   "source": [
    "sum = 1\n",
    "n = 4\n",
    "\n",
    "for i in range(n):\n",
    "    for j in range(i+1):\n",
    "        print(sum, end='*')\n",
    "        sum += 1\n",
    "    print()\n",
    "sum = 10\n",
    "for i in range(n-1,0,-1):\n",
    "    for j in range(i+1):\n",
    "        print(sum, end='*')\n",
    "        sum -= 1\n",
    "    print()"
   ]
  },
  {
   "cell_type": "code",
   "execution_count": 128,
   "id": "25cf524f",
   "metadata": {},
   "outputs": [
    {
     "name": "stdout",
     "output_type": "stream",
     "text": [
      "10*9*8*7*\n",
      "6*5*4*\n",
      "3*2*\n"
     ]
    }
   ],
   "source": [
    "sum = 10\n",
    "n = 4\n",
    "\n",
    "for i in range(n-1,0,-1):\n",
    "    for j in range(i+1):\n",
    "        print(sum, end='*')\n",
    "        sum -= 1\n",
    "    print()"
   ]
  },
  {
   "cell_type": "code",
   "execution_count": 52,
   "id": "19f82004",
   "metadata": {},
   "outputs": [
    {
     "name": "stdout",
     "output_type": "stream",
     "text": [
      "enter the raw number5\n",
      "A \n",
      "A B A \n",
      "A B C B A \n",
      "A B C D C B A \n",
      "A B C D E D C B A \n"
     ]
    }
   ],
   "source": [
    "## 04\n",
    "n = int(input(\"enter the raw number\" ))\n",
    "a= 64\n",
    "for i in range(1,n+1):\n",
    "    for j in range(1,i+1):\n",
    "        print(chr(j+a),end=' ')\n",
    "    for j in range(i-1,0,-1):\n",
    "        print(chr(j+a),end=' ')\n",
    "    print()"
   ]
  },
  {
   "cell_type": "code",
   "execution_count": 55,
   "id": "a707eb00",
   "metadata": {},
   "outputs": [
    {
     "name": "stdout",
     "output_type": "stream",
     "text": [
      "enter the raw number 5\n",
      "A \n",
      "B B \n",
      "C C C \n",
      "D D D D \n",
      "E E E E E \n"
     ]
    }
   ],
   "source": [
    "## 05\n",
    "n = int(input(\"enter the raw number \"))\n",
    "a = 64\n",
    "for i in range(n):\n",
    "    for j in range(i+1):\n",
    "        print(chr(a+(i+1)),end=' ')\n",
    "    print()"
   ]
  },
  {
   "cell_type": "code",
   "execution_count": 123,
   "id": "546986f0",
   "metadata": {},
   "outputs": [
    {
     "name": "stdout",
     "output_type": "stream",
     "text": [
      "A \n",
      "B C \n",
      "D E F \n",
      "G H I J \n",
      "K L M N O \n",
      "P Q R S T U \n",
      "V W X Y Z [ \\ \n"
     ]
    }
   ],
   "source": [
    "## 06\n",
    "sum = 1\n",
    "n = 7\n",
    "a= 64\n",
    "for i in range(n):\n",
    "    for j in range(i+1):\n",
    "        print(chr(a+(sum)), end=' ')\n",
    "        sum += 1\n",
    "    print()"
   ]
  },
  {
   "cell_type": "code",
   "execution_count": 112,
   "id": "09d3d779",
   "metadata": {},
   "outputs": [
    {
     "name": "stdout",
     "output_type": "stream",
     "text": [
      "enter the raw number: 5\n",
      "          0 \n",
      "        0   1 \n",
      "      0       2 \n",
      "    0           3 \n",
      "  0 1 2 3 0 1 2 3 4 \n"
     ]
    }
   ],
   "source": [
    "## 07\n",
    "n =int(input('enter the raw number: '))\n",
    "for i in range(n):\n",
    "    for j in range(i,n):\n",
    "        print(' ',end=' ')\n",
    "    for j in range(i):\n",
    "        if i == n-1 or j==0:\n",
    "            print(j,end=' ')\n",
    "        else:\n",
    "            print(' ',end=' ' )\n",
    "    for j in range(i+1):\n",
    "#         print(i,j,end=',')\n",
    "        if i == n-1 or j == i:\n",
    "            print(j, end=' ')\n",
    "        else:\n",
    "            print(' ',end=' ')\n",
    "    print()"
   ]
  },
  {
   "cell_type": "code",
   "execution_count": 143,
   "id": "cae4ea22",
   "metadata": {},
   "outputs": [
    {
     "name": "stdout",
     "output_type": "stream",
     "text": [
      "enter the number 5\n",
      "* * * * 2 * 2 \n",
      "* * * 3 * 3 * 3 \n",
      "* * 4 * 4 * 4 * 4 \n",
      "* 5 * 5 * 5 * 5 * 5 \n",
      "6 * 6 * 6 * 6 * 6 * 6 \n"
     ]
    }
   ],
   "source": [
    "n = int(input(\"enter the number \"))\n",
    "for i in range(1,n+1):\n",
    "    for j in range(i,n):\n",
    "        print('*', end=' ')\n",
    "    for j in range(i+1):\n",
    "        if j == 0: \n",
    "            print(i+1,end=' ')\n",
    "        else:\n",
    "            print('*',end=' ')\n",
    "            print(i+1,end=' ')\n",
    "    print()\n",
    "        "
   ]
  },
  {
   "cell_type": "code",
   "execution_count": 139,
   "id": "17a38a08",
   "metadata": {},
   "outputs": [
    {
     "name": "stdout",
     "output_type": "stream",
     "text": [
      "please enter the number5\n",
      "1 \n",
      "2 * 2 \n",
      "3 * 3 * 3 \n",
      "4 * 4 * 4 * 4 \n",
      "5 * 5 * 5 * 5 * 5 \n",
      "5 * 5 * 5 * 5 * 5 \n",
      "4 * 4 * 4 * 4 \n",
      "3 * 3 * 3 \n",
      "2 * 2 \n",
      "1 \n"
     ]
    }
   ],
   "source": [
    "## 08\n",
    "n =int(input(\"please enter the number\"))\n",
    "for i in range(n):\n",
    "    for j in range(i+1):\n",
    "        if j == 0: \n",
    "            print(i+1,end=' ')\n",
    "        else:\n",
    "            print('*',end=' ')\n",
    "            print(i+1,end=' ')\n",
    "    print()\n",
    "for i in range(n,0,-1):\n",
    "    for j in range(i,0,-1):\n",
    "        if j == i:\n",
    "            print(i,end=' ')\n",
    "        else:\n",
    "            print('*',end=' ')\n",
    "            print(i,end=' ')\n",
    "    print()"
   ]
  },
  {
   "cell_type": "code",
   "execution_count": 195,
   "id": "a133f03c",
   "metadata": {},
   "outputs": [
    {
     "name": "stdout",
     "output_type": "stream",
     "text": [
      "enter the raw number 5\n",
      "1 \n",
      "1 2 \n",
      "1 2 3 \n",
      "1 2 3 4 \n",
      "1 2 3 4 5 \n",
      "1 2 3 4 \n",
      "1 2 3 \n",
      "1 2 \n",
      "1 \n",
      "\n"
     ]
    }
   ],
   "source": [
    "n = int(input(\"enter the raw number \"))\n",
    "for i in range(n):\n",
    "    for j in range(i+1):\n",
    "        print(j+1,end=' ')\n",
    "    print()\n",
    "for i in range(n):\n",
    "    for j in range(n-i-1):\n",
    "        print(j+1, end=' ')\n",
    "    print()"
   ]
  },
  {
   "cell_type": "code",
   "execution_count": 192,
   "id": "2e5a0f63",
   "metadata": {},
   "outputs": [
    {
     "name": "stdout",
     "output_type": "stream",
     "text": [
      "please enter the number5\n",
      "\n",
      "2 \n",
      "3 3 \n",
      "4 4 4 \n",
      "5 5 5 5 \n"
     ]
    }
   ],
   "source": [
    "n =int(input(\"please enter the number\"))\n",
    "for i in range(n):\n",
    "    for j in range(1,i+1): \n",
    "        print(i+1,end=' ')\n",
    "    print()"
   ]
  },
  {
   "cell_type": "code",
   "execution_count": 204,
   "id": "ba45f182",
   "metadata": {},
   "outputs": [
    {
     "name": "stdout",
     "output_type": "stream",
     "text": [
      "5 5 5 \n",
      "4 4 \n",
      "3 \n",
      "\n",
      "\n"
     ]
    }
   ],
   "source": [
    "n = 5\n",
    "for i in range(n,0,-1):\n",
    "    n = i\n",
    "    for j in range(2,i):\n",
    "        print(n,end=' ')\n",
    "    print()"
   ]
  },
  {
   "cell_type": "code",
   "execution_count": 202,
   "id": "5ff4deaf",
   "metadata": {},
   "outputs": [
    {
     "name": "stdout",
     "output_type": "stream",
     "text": [
      "please enter the number5\n",
      "\n",
      "\n",
      "3\n",
      "44\n",
      "555\n",
      "44\n",
      "3\n",
      "\n",
      "\n"
     ]
    }
   ],
   "source": [
    "## 09\n",
    "n =int(input(\"please enter the number\"))\n",
    "for i in range(n):\n",
    "    for j in range(2,i+1): \n",
    "        print(i+1,end='')\n",
    "    print()\n",
    "for i in range(n-1,0,-1):\n",
    "    n = i\n",
    "    for j in range(3,i+1):\n",
    "        print(n,end='')\n",
    "    print()"
   ]
  },
  {
   "cell_type": "code",
   "execution_count": 228,
   "id": "ab031b0c",
   "metadata": {},
   "outputs": [
    {
     "name": "stdout",
     "output_type": "stream",
     "text": [
      "please enter the number5\n",
      "*****1*****\n",
      "****2*2****\n",
      "***3*3*3***\n",
      "**4*4*4*4**\n",
      "*5*5*5*5*5*\n"
     ]
    }
   ],
   "source": [
    "##10\n",
    "n =int(input(\"please enter the number\"))\n",
    "for i in range(n):\n",
    "    for j in range(i,n):\n",
    "        print('*', end='')\n",
    "    for j in range(i+1):\n",
    "        if j == 0: \n",
    "            print(i+1,end='')\n",
    "        else:\n",
    "            print('*',end='')\n",
    "            print(i+1,end='')\n",
    "    for j in range(i,n):\n",
    "        print('*', end='')\n",
    "    print()"
   ]
  },
  {
   "cell_type": "code",
   "execution_count": 245,
   "id": "c8942b69",
   "metadata": {},
   "outputs": [
    {
     "name": "stdout",
     "output_type": "stream",
     "text": [
      "please enter the number5\n",
      "1 * 2 \n",
      "2 * 3 * 4 \n",
      "3 * 4 * 5 * 6 \n",
      "4 * 5 * 6 * 7 * 8 \n",
      "10 * 9 * 8 * 7 * 6 \n",
      "8 * 7 * 6 * 5 \n",
      "6 * 5 * 4 \n",
      "4 * 3 \n",
      "2 \n"
     ]
    }
   ],
   "source": [
    "n =int(input(\"please enter the number\"))\n",
    "for i in range(1,n):\n",
    "    for j in range(i+1):\n",
    "        if j == 0: \n",
    "            print(i+j,end=' ')\n",
    "        else:\n",
    "            print('*',end=' ')\n",
    "            print(i+j,end=' ')\n",
    "    print()\n",
    "for i in range(n,0,-1):\n",
    "    for j in range(i,0,-1):\n",
    "        if j == i:\n",
    "            print(j+i,end=' ')\n",
    "        else:\n",
    "            print('*',end=' ')\n",
    "            print(j+i,end=' ')\n",
    "    print()"
   ]
  },
  {
   "cell_type": "code",
   "execution_count": 263,
   "id": "85a3825b",
   "metadata": {},
   "outputs": [
    {
     "name": "stdout",
     "output_type": "stream",
     "text": [
      "please enter the number5\n",
      "* 10 * 9 * 8 * 7 * 6 \n",
      "* 8 * 7 * 6 * 5 \n",
      "* 6 * 5 * 4 \n",
      "* 4 * 3 \n",
      "* 2 \n"
     ]
    }
   ],
   "source": [
    "n =int(input(\"please enter the number\"))\n",
    "for i in range(n,0,-1):\n",
    "    for j in range(i,0,-1):\n",
    "        if j == 0: \n",
    "            print(i+j,end=' ')\n",
    "        else:\n",
    "            print('*',end=' ')\n",
    "            print(i+j,end=' ')\n",
    "    print()"
   ]
  },
  {
   "cell_type": "code",
   "execution_count": null,
   "id": "0d7906ad",
   "metadata": {},
   "outputs": [],
   "source": []
  }
 ],
 "metadata": {
  "kernelspec": {
   "display_name": "Python 3 (ipykernel)",
   "language": "python",
   "name": "python3"
  },
  "language_info": {
   "codemirror_mode": {
    "name": "ipython",
    "version": 3
   },
   "file_extension": ".py",
   "mimetype": "text/x-python",
   "name": "python",
   "nbconvert_exporter": "python",
   "pygments_lexer": "ipython3",
   "version": "3.9.12"
  }
 },
 "nbformat": 4,
 "nbformat_minor": 5
}
