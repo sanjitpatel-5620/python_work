{
 "cells": [
  {
   "cell_type": "markdown",
   "id": "84609a03",
   "metadata": {},
   "source": [
    "34 Write a Python program to print all Strong numbers between 1 to n."
   ]
  },
  {
   "cell_type": "code",
   "execution_count": null,
   "id": "15050947",
   "metadata": {},
   "outputs": [],
   "source": []
  },
  {
   "cell_type": "code",
   "execution_count": null,
   "id": "8f9d0fe0",
   "metadata": {},
   "outputs": [],
   "source": [
    "35. Write a Python program to print Fibonacci series up to n terms."
   ]
  },
  {
   "cell_type": "code",
   "execution_count": 3,
   "id": "10fc38cb",
   "metadata": {},
   "outputs": [
    {
     "name": "stdout",
     "output_type": "stream",
     "text": [
      "enter the number: 5\n",
      "1\n",
      "2\n",
      "3\n",
      "[0, 1, 1, 2, 3]\n",
      "3\n"
     ]
    }
   ],
   "source": [
    "fibo= [0, 1]\n",
    "n = int(input(\"enter the number: \"))34 Write a Python program to print all Strong numbers between 1 to n.\n",
    "for i in range(1,n-1):\n",
    "    fibo.append(fibo[i]+fibo[i-1])\n",
    "    print(i)\n",
    "\n",
    "print(fibo)\n",
    "print(fibo[n-1])"
   ]
  },
  {
   "cell_type": "markdown",
   "id": "8867a78a",
   "metadata": {},
   "source": [
    "36. Write a Python program to find one's complement of a binary number."
   ]
  },
  {
   "cell_type": "code",
   "execution_count": 4,
   "id": "d568654f",
   "metadata": {},
   "outputs": [
    {
     "name": "stdout",
     "output_type": "stream",
     "text": [
      "enter the binary number: 1010\n",
      "1st compliment of binary number 0101 \n"
     ]
    }
   ],
   "source": [
    "n = int(input(\"enter the binary number: \"))\n",
    "out = \" \"\n",
    "while(n):\n",
    "    a = n % 10\n",
    "    if a == 1:\n",
    "        out = out + \"0\"\n",
    "    else:\n",
    "        out = out + \"1\"\n",
    "    n = int(n/10)\n",
    "print(\"1st compliment of binary number\", out[::-1])"
   ]
  },
  {
   "cell_type": "markdown",
   "id": "04370217",
   "metadata": {},
   "source": [
    "37. Write a Python program to find two's complement of a binary number."
   ]
  },
  {
   "cell_type": "code",
   "execution_count": 13,
   "id": "1f8f2396",
   "metadata": {},
   "outputs": [
    {
     "name": "stdout",
     "output_type": "stream",
     "text": [
      "Enter binary number:1010\n",
      "2's compliment is -  0110\n"
     ]
    }
   ],
   "source": [
    "string=input(\"Enter binary number:\")\n",
    "n = len(string)\n",
    "i = n - 1\n",
    "while(i >= 0):\n",
    "    if (string[i] == '1'):\n",
    "        break\n",
    "    i -= 1\n",
    "\n",
    "# Continue traversal after the position of first '1'\n",
    "b = i - 1\n",
    "while(b >= 0):\n",
    "    if (string[b] == '1'):\n",
    "        string = list(string)\n",
    "        string[b] = '0'\n",
    "        string = ''.join(string)\n",
    "    else:\n",
    "        string = list(string)\n",
    "        string[b] = '1'\n",
    "        string = ''.join(string)\n",
    "    b -= 1\n",
    "print(\"2's compliment is - \",string)"
   ]
  },
  {
   "cell_type": "markdown",
   "id": "73e952e5",
   "metadata": {},
   "source": [
    "38. Write a Python program to convert Binary to Octal number system."
   ]
  },
  {
   "cell_type": "code",
   "execution_count": 26,
   "id": "218959d8",
   "metadata": {},
   "outputs": [
    {
     "name": "stdout",
     "output_type": "stream",
     "text": [
      "Enter a binary NO:1010\n",
      "10\n",
      "12\n"
     ]
    }
   ],
   "source": [
    "n=int(input(\"Enter a binary NO:\"))\n",
    "decimal=0\n",
    "b=0\n",
    "while n!=0:\n",
    "    r=n%10\n",
    "    decimal=decimal+(r * (2**b))\n",
    "    n=n//10\n",
    "    b += 1\n",
    "print(decimal)\n",
    "octal=0\n",
    "i=1\n",
    "while decimal!=0:\n",
    "    octal=octal+(decimal%8)*i\n",
    "    decimal=decimal//8\n",
    "    i=i*10\n",
    "print(octal)"
   ]
  },
  {
   "cell_type": "markdown",
   "id": "9f89a010",
   "metadata": {},
   "source": [
    "39. Write a Python program to convert Binary to Decimal number system."
   ]
  },
  {
   "cell_type": "code",
   "execution_count": 25,
   "id": "1f580025",
   "metadata": {},
   "outputs": [
    {
     "name": "stdout",
     "output_type": "stream",
     "text": [
      "Enter a binary NO:1010\n",
      "10\n"
     ]
    }
   ],
   "source": [
    "n=int(input(\"Enter a binary NO:\"))\n",
    "\n",
    "decimal=0\n",
    "b=0\n",
    "while n!=0:\n",
    "    r=n%10\n",
    "    decimal=decimal+(r * (2**b))\n",
    "    n=n//10\n",
    "    b += 1\n",
    "print(decimal)"
   ]
  },
  {
   "cell_type": "markdown",
   "id": "ab8e9774",
   "metadata": {},
   "source": [
    "40. Write a Python program to convert Binary to Hexadecimal number system."
   ]
  },
  {
   "cell_type": "code",
   "execution_count": 31,
   "id": "293e2e50",
   "metadata": {},
   "outputs": [
    {
     "name": "stdout",
     "output_type": "stream",
     "text": [
      "Enter a binary NO:1010101\n",
      "85\n",
      "55\n"
     ]
    }
   ],
   "source": [
    "n=int(input(\"Enter a binary NO:\"))\n",
    "decimal=0\n",
    "b=0\n",
    "while n!=0:\n",
    "    r=n%10\n",
    "    decimal=decimal+(r * (2**b))\n",
    "    n=n//10\n",
    "    b += 1\n",
    "print(decimal)\n",
    "octal=0\n",
    "j = 1\n",
    "while decimal!=0:\n",
    "    hexa_decimal = hexa_decimal+(decimal%16)*j\n",
    "    decimal=decimal//16\n",
    "    j=j*10\n",
    "print(hexa_decimal)"
   ]
  },
  {
   "cell_type": "markdown",
   "id": "a33bf6ba",
   "metadata": {},
   "source": [
    "41. Write a Python program to convert Octal to Binary number system."
   ]
  },
  {
   "cell_type": "code",
   "execution_count": 35,
   "id": "87dc1225",
   "metadata": {},
   "outputs": [
    {
     "name": "stdout",
     "output_type": "stream",
     "text": [
      "Enter a binary NO:101011\n",
      "33289\n",
      "1000001000001001\n"
     ]
    }
   ],
   "source": [
    "n=int(input(\"Enter a binary NO:\"))\n",
    "decimal=0\n",
    "b=0\n",
    "while n!=0:\n",
    "    r=n%10\n",
    "    decimal=decimal+(r * (8**b))\n",
    "    n=n//10\n",
    "    b += 1\n",
    "print(decimal)\n",
    "binary = 0\n",
    "a = 0\n",
    "while decimal!=0:\n",
    "    r=decimal%2\n",
    "    binary=binary+(r * (10**a))\n",
    "    decimal=decimal//2\n",
    "    a += 1\n",
    "print(binary)"
   ]
  },
  {
   "cell_type": "markdown",
   "id": "12851f42",
   "metadata": {},
   "source": [
    "42. Write a Python program to convert Octal to Decimal number system."
   ]
  },
  {
   "cell_type": "code",
   "execution_count": null,
   "id": "d029a4ab",
   "metadata": {},
   "outputs": [],
   "source": [
    "n=int(input(\"Enter a binary NO:\"))\n",
    "decimal=0\n",
    "b=0\n",
    "while n!=0:\n",
    "    r=n%10\n",
    "    decimal=decimal+(r * (8**b))\n",
    "    n=n//10\n",
    "    b += 1\n",
    "print(decimal)"
   ]
  },
  {
   "cell_type": "markdown",
   "id": "76970b99",
   "metadata": {},
   "source": [
    "43. Write a Python program to convert Octal to Hexadecimal number system."
   ]
  },
  {
   "cell_type": "code",
   "execution_count": 37,
   "id": "a30dfe1f",
   "metadata": {},
   "outputs": [
    {
     "name": "stdout",
     "output_type": "stream",
     "text": [
      "Enter a binary NO:10101\n",
      "4161\n",
      "1041\n"
     ]
    }
   ],
   "source": [
    "n=int(input(\"Enter a binary NO:\"))\n",
    "decimal=0\n",
    "b=0\n",
    "while n!=0:\n",
    "    r=n%10\n",
    "    decimal=decimal+(r * (8**b))\n",
    "    n=n//10\n",
    "    b += 1\n",
    "print(decimal)\n",
    "hexa_decimal = 0\n",
    "a = 0\n",
    "while decimal!=0:\n",
    "    r=decimal%16\n",
    "    hexa_decimal=hexa_decimal+(r * (10**a))\n",
    "    decimal=decimal//16\n",
    "    a += 1\n",
    "print(hexa_decimal)"
   ]
  },
  {
   "cell_type": "markdown",
   "id": "e0dc2527",
   "metadata": {},
   "source": [
    "44. Write a Python program to convert Decimal to Binary number system."
   ]
  },
  {
   "cell_type": "code",
   "execution_count": 39,
   "id": "0f45725c",
   "metadata": {},
   "outputs": [
    {
     "name": "stdout",
     "output_type": "stream",
     "text": [
      "Enter a binary NO:15\n",
      "1111\n"
     ]
    }
   ],
   "source": [
    "decimal=int(input(\"Enter a binary NO:\"))\n",
    "binary = 0\n",
    "a = 0\n",
    "while decimal!=0:\n",
    "    r=decimal%2\n",
    "    binary=binary+(r * (10**a))\n",
    "    decimal=decimal//2\n",
    "    a += 1\n",
    "print(binary)"
   ]
  },
  {
   "cell_type": "markdown",
   "id": "032bf1ab",
   "metadata": {},
   "source": [
    "45. Write a Python program to convert Decimal to Octal number system."
   ]
  },
  {
   "cell_type": "code",
   "execution_count": 42,
   "id": "94263d77",
   "metadata": {},
   "outputs": [
    {
     "name": "stdout",
     "output_type": "stream",
     "text": [
      "Enter a binary NO:15\n",
      "17\n"
     ]
    }
   ],
   "source": [
    "decimal=int(input(\"Enter a binary NO:\"))\n",
    "octal = 0\n",
    "a = 0\n",
    "while decimal!=0:\n",
    "    r=decimal%8\n",
    "    octal=octal+(r * (10**a))\n",
    "    decimal=decimal//8\n",
    "    a += 1\n",
    "print(octal)"
   ]
  },
  {
   "cell_type": "markdown",
   "id": "0ce495c9",
   "metadata": {},
   "source": [
    "46. Write a Python program to convert Decimal to Hexadecimal number system."
   ]
  },
  {
   "cell_type": "code",
   "execution_count": 45,
   "id": "6220999d",
   "metadata": {},
   "outputs": [
    {
     "name": "stdout",
     "output_type": "stream",
     "text": [
      "Enter a binary NO:101\n",
      "65\n",
      "41\n"
     ]
    }
   ],
   "source": [
    "n=int(input(\"Enter a binary NO:\"))\n",
    "decimal=0\n",
    "b=0\n",
    "while n!=0:\n",
    "    r=n%10\n",
    "    decimal=decimal+(r * (8**b))\n",
    "    n=n//10\n",
    "    b += 1\n",
    "print(decimal)\n",
    "hexa_decimal = 0\n",
    "a = 0\n",
    "while decimal!=0:\n",
    "    r=decimal%16\n",
    "    hexa_decimal=hexa_decimal+(r * (10**a))\n",
    "    decimal=decimal//16\n",
    "    a += 1\n",
    "print(hexa_decimal)"
   ]
  },
  {
   "cell_type": "markdown",
   "id": "01ae59be",
   "metadata": {},
   "source": [
    "47. Write a Python program to convert Hexadecimal to Binary number system."
   ]
  },
  {
   "cell_type": "code",
   "execution_count": 47,
   "id": "726940ea",
   "metadata": {},
   "outputs": [
    {
     "name": "stdout",
     "output_type": "stream",
     "text": [
      "Enter a binary NO:17\n",
      "23\n",
      "10111\n"
     ]
    }
   ],
   "source": [
    "n=int(input(\"Enter a binary NO:\"))\n",
    "decimal=0\n",
    "b=0\n",
    "while n!=0:\n",
    "    r=n%10\n",
    "    decimal=decimal+(r * (16**b))\n",
    "    n=n//10\n",
    "    b += 1\n",
    "print(decimal)\n",
    "binary = 0\n",
    "a = 0\n",
    "while decimal!=0:\n",
    "    r=decimal%2\n",
    "    binary=binary+(r * (10**a))\n",
    "    decimal=decimal//2\n",
    "    a += 1\n",
    "print(binary)"
   ]
  },
  {
   "cell_type": "markdown",
   "id": "374bcf5b",
   "metadata": {},
   "source": [
    "48. Write a Python program to convert Hexadecimal to Octal number system."
   ]
  },
  {
   "cell_type": "code",
   "execution_count": 48,
   "id": "17044b15",
   "metadata": {},
   "outputs": [
    {
     "name": "stdout",
     "output_type": "stream",
     "text": [
      "Enter a binary NO:17\n",
      "23\n",
      "27\n"
     ]
    }
   ],
   "source": [
    "n=int(input(\"Enter a binary NO:\"))\n",
    "decimal=0\n",
    "b=0\n",
    "while n!=0:\n",
    "    r=n%10\n",
    "    decimal=decimal+(r * (16**b))\n",
    "    n=n//10\n",
    "    b += 1\n",
    "print(decimal)\n",
    "octal = 0\n",
    "a = 0\n",
    "while decimal!=0:\n",
    "    r=decimal%8\n",
    "    octal=octal+(r * (10**a))\n",
    "    decimal=decimal//8\n",
    "    a += 1\n",
    "print(octal)"
   ]
  },
  {
   "cell_type": "markdown",
   "id": "5830be78",
   "metadata": {},
   "source": [
    "49. Write a Python program to convert Hexadecimal to Decimal number system."
   ]
  },
  {
   "cell_type": "code",
   "execution_count": 49,
   "id": "6ed16fe3",
   "metadata": {},
   "outputs": [
    {
     "name": "stdout",
     "output_type": "stream",
     "text": [
      "Enter a binary NO:12\n",
      "18\n"
     ]
    }
   ],
   "source": [
    "n=int(input(\"Enter a binary NO:\"))\n",
    "decimal=0\n",
    "b=0\n",
    "while n!=0:\n",
    "    r=n%10\n",
    "    decimal=decimal+(r * (16**b))\n",
    "    n=n//10\n",
    "    b += 1\n",
    "print(decimal)"
   ]
  },
  {
   "cell_type": "markdown",
   "id": "7ecc2f2e",
   "metadata": {},
   "source": [
    "50. Write a Python program to print Pascal triangle 0 up to n rows."
   ]
  },
  {
   "cell_type": "code",
   "execution_count": null,
   "id": "f66bb141",
   "metadata": {},
   "outputs": [],
   "source": []
  }
 ],
 "metadata": {
  "kernelspec": {
   "display_name": "Python 3 (ipykernel)",
   "language": "python",
   "name": "python3"
  },
  "language_info": {
   "codemirror_mode": {
    "name": "ipython",
    "version": 3
   },
   "file_extension": ".py",
   "mimetype": "text/x-python",
   "name": "python",
   "nbconvert_exporter": "python",
   "pygments_lexer": "ipython3",
   "version": "3.9.12"
  }
 },
 "nbformat": 4,
 "nbformat_minor": 5
}
