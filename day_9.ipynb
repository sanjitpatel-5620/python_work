{
 "cells": [
  {
   "cell_type": "code",
   "execution_count": 383,
   "id": "fba71042",
   "metadata": {},
   "outputs": [
    {
     "name": "stdout",
     "output_type": "stream",
     "text": [
      "enter the number: 5\n",
      "*****\n",
      "*  *\n",
      "* *\n",
      "**\n",
      "*\n"
     ]
    }
   ],
   "source": [
    "n =int(input('enter the number: '))\n",
    "for i in range(n,0,-1):\n",
    "    for j in range(i,0,-1):\n",
    "#         print('*', end='')\n",
    "        if i==j or j==1 or i==n:\n",
    "            print('*', end='')\n",
    "        else:\n",
    "            print(\"\", end=' ')\n",
    "    print()"
   ]
  },
  {
   "cell_type": "code",
   "execution_count": 399,
   "id": "07a8cb8c",
   "metadata": {},
   "outputs": [
    {
     "name": "stdout",
     "output_type": "stream",
     "text": [
      "enter the raw number: 5\n",
      "          * \n",
      "        *   * \n",
      "      *       * \n",
      "    *           * \n",
      "  * * * * * * * * * \n"
     ]
    }
   ],
   "source": [
    "n =int(input('enter the raw number: '))\n",
    "for i in range(n):\n",
    "    for j in range(i,n):\n",
    "        print(' ',end=' ')\n",
    "    for j in range(i):\n",
    "        if i == n-1 or j==0:\n",
    "            print('*',end=' ')\n",
    "        else:\n",
    "            print(' ',end=' ' )\n",
    "    for j in range(i+1):\n",
    "#         print(i,j,end=',')\n",
    "        if i == n-1 or j == i:\n",
    "            print('*', end=' ')\n",
    "        else:\n",
    "            print(' ',end=' ')\n",
    "    print()"
   ]
  },
  {
   "cell_type": "code",
   "execution_count": 417,
   "id": "053a47ee",
   "metadata": {},
   "outputs": [
    {
     "name": "stdout",
     "output_type": "stream",
     "text": [
      "enter the raw numbr 5\n",
      "* * * * * * * * * * \n",
      "* * * *     * * * * \n",
      "* * *         * * * \n",
      "* *             * * \n",
      "*                 * \n",
      "* *             * * \n",
      "* * *         * * * \n",
      "* * * *     * * * * \n",
      "* * * * * * * * * * \n"
     ]
    }
   ],
   "source": [
    "n = int(input(\"enter the raw numbr \"))\n",
    "for i in range(n,0,-1):\n",
    "    for j in range(i):\n",
    "#         print(i,j ,end=',')\n",
    "        print('*',end=' ')\n",
    "    for j in range(2*(n-i)):\n",
    "#         print(i,j,end=',')\n",
    "        print(' ',end=' ')\n",
    "    for j in range(i):\n",
    "#         print(i,j,end=',')\n",
    "        print('*',end=' ')\n",
    "    \n",
    "    print()\n",
    "for i in range(1,n):\n",
    "    for j in range(i+1):\n",
    "#         print(i,j,end=',')\n",
    "        print('*',end=' ')\n",
    "    for j in range(2*(n-i-1)):\n",
    "#         print(i,j,end=',')\n",
    "        print(' ',end=' ')\n",
    "    for j in range(i+1):\n",
    "        print('*',end=' ')\n",
    "    \n",
    "    print()\n",
    "      \n",
    "    "
   ]
  },
  {
   "cell_type": "code",
   "execution_count": 100,
   "id": "fa3bf416",
   "metadata": {},
   "outputs": [
    {
     "name": "stdout",
     "output_type": "stream",
     "text": [
      "enter the raw number 5\n",
      "*                 * \n",
      "* *             * * \n",
      "* * *         * * * \n",
      "* * * *     * * * * \n",
      "* * * * * * * * * * \n",
      "* * * * * * * * * * \n",
      "* * * *     * * * * \n",
      "* * *         * * * \n",
      "* *             * * \n",
      "*                 * \n"
     ]
    }
   ],
   "source": [
    "n = int(input(\"enter the raw number \"))\n",
    "for i in range(n):\n",
    "    for j in range(i+1):\n",
    "        print('*',end=' ')\n",
    "    for j in range(2*(n-i-1)):\n",
    "        print(' ',end=' ')\n",
    "    for j in range(i+1):\n",
    "        print('*',end=' ')\n",
    "    print()\n",
    "for i in range(n,0,-1):\n",
    "    for j in range(i):\n",
    "        print('*',end=' ')\n",
    "    for j in range(2*(n-i)):\n",
    "        print(' ',end=' ')\n",
    "    for j in range(i):\n",
    "        print('*',end=' ')\n",
    "    print()"
   ]
  },
  {
   "cell_type": "code",
   "execution_count": 214,
   "id": "47460460",
   "metadata": {},
   "outputs": [
    {
     "name": "stdout",
     "output_type": "stream",
     "text": [
      "* \n",
      "  * \n",
      "    * \n",
      "      * \n",
      "* * * * * \n",
      "      *  \n",
      "    *  \n",
      "  *  \n",
      "*  \n",
      "\n"
     ]
    }
   ],
   "source": [
    "n = 5\n",
    "for i in range(n):\n",
    "    for j in range(i+1):\n",
    "        if i==0 or j ==i or i==n-1:\n",
    "            print('*', end=' ')\n",
    "        else:\n",
    "            print('',end='  ')\n",
    "    print()\n",
    "for i in range(n):\n",
    "    for j in range(i+1,n):\n",
    "        if j==n-1:\n",
    "            print('*', end='  ')\n",
    "        else:\n",
    "            print(' ',end=' ')\n",
    "    print()"
   ]
  },
  {
   "cell_type": "code",
   "execution_count": 227,
   "id": "0e0c83bb",
   "metadata": {},
   "outputs": [
    {
     "name": "stdout",
     "output_type": "stream",
     "text": [
      "      *  \n",
      "    *  \n",
      "  *  \n",
      "*  \n",
      "\n",
      "\n",
      "* \n",
      "  * \n",
      "    * \n",
      "      * \n",
      "        * \n"
     ]
    }
   ],
   "source": [
    "n = 5\n",
    "for i in range(n+1):\n",
    "    for j in range(i+1,n):\n",
    "        if j==n-1 :\n",
    "            print('*', end='  ')\n",
    "        else:\n",
    "            print(' ',end=' ')\n",
    "    print()\n",
    "for i in range(n):\n",
    "    for j in range(i+1):\n",
    "        if i==0 or j ==i:\n",
    "            print('*', end=' ')\n",
    "        else:\n",
    "            print('',end='  ')\n",
    "    print()"
   ]
  },
  {
   "cell_type": "code",
   "execution_count": 289,
   "id": "8fe4c7dd",
   "metadata": {},
   "outputs": [
    {
     "name": "stdout",
     "output_type": "stream",
     "text": [
      "enter the raw number : 5\n",
      "    *\n",
      "   ***\n",
      "  * * *\n",
      " *  *  *\n",
      "*********\n",
      " *  *  *\n",
      "  * * *\n",
      "   ***\n",
      "    *\n"
     ]
    }
   ],
   "source": [
    "n =int(input('enter the raw number : '))\n",
    "for i in range(n-1):\n",
    "    for j in range(n-i-1):\n",
    "        print(' ', end='')\n",
    "    for j in range(i):\n",
    "        if j==0:\n",
    "            print('*', end='')\n",
    "        else:\n",
    "            print(\"\", end=' ')\n",
    "    for j in range(i+1):\n",
    "        if j==0 or j==i:\n",
    "            print('*', end='')\n",
    "        else:\n",
    "            print(\"\", end=' ')\n",
    "    print()\n",
    "for i in range(n,0,-1):\n",
    "    for j in range(n-i):\n",
    "        print(' ', end='')\n",
    "    for j in range(i,1,-1):\n",
    "        if i==n or j==1 or j==i:\n",
    "            print('*', end='')\n",
    "        else:\n",
    "            print(\"\",end=' ')\n",
    "    for j in range(i,0,-1):\n",
    "        if i==n or j==1 or j==i:\n",
    "            print('*', end='')\n",
    "        else:\n",
    "            print(\"\", end=' ')\n",
    "    print()"
   ]
  },
  {
   "cell_type": "code",
   "execution_count": 285,
   "id": "3a5fd5fa",
   "metadata": {},
   "outputs": [
    {
     "name": "stdout",
     "output_type": "stream",
     "text": [
      "          * \n",
      "        *   \n",
      "      *     \n",
      "    *       \n",
      "  * * * * * \n",
      "* \n",
      "  * \n",
      "    * \n",
      "      * \n",
      "        * \n"
     ]
    }
   ],
   "source": [
    "n= 5\n",
    "for i in range(n):\n",
    "    for j in range(i,n):\n",
    "        print(' ', end=' ')\n",
    "    for j in range(i+1):\n",
    "        if j == 0 or i==n-1:\n",
    "             print('*', end =' ')\n",
    "        else:\n",
    "            print(' ', end = ' ')\n",
    "    print()\n",
    "for i in range(n):\n",
    "    for j in range(i+1):\n",
    "        if i==0 or j ==i:\n",
    "            print('*', end=' ')\n",
    "        else:\n",
    "            print('',end='  ')\n",
    "    print()"
   ]
  },
  {
   "cell_type": "code",
   "execution_count": 369,
   "id": "b36955f6",
   "metadata": {},
   "outputs": [
    {
     "name": "stdout",
     "output_type": "stream",
     "text": [
      "0 1 2 3 4 5 6 7 8 9 "
     ]
    }
   ],
   "source": [
    "for i in range(10):\n",
    "    print(i, end=' ')"
   ]
  },
  {
   "cell_type": "code",
   "execution_count": 296,
   "id": "c0096ca3",
   "metadata": {},
   "outputs": [
    {
     "name": "stdout",
     "output_type": "stream",
     "text": [
      "1 \n",
      "1 2 \n",
      "1 2 3 \n",
      "1 2 3 4 \n",
      "1 2 3 4 5 \n"
     ]
    }
   ],
   "source": [
    "n= 5\n",
    "for i in range(1, n + 1):\n",
    "    for j in range(1, i + 1):\n",
    "        print(j, end=' ')\n",
    "    print('')"
   ]
  },
  {
   "cell_type": "code",
   "execution_count": 323,
   "id": "b5e9bb56",
   "metadata": {},
   "outputs": [
    {
     "name": "stdout",
     "output_type": "stream",
     "text": [
      "1 2 3 4 5 \n",
      "1 2 3 4 \n",
      "1 2 3 \n",
      "1 2 \n",
      "1 \n"
     ]
    }
   ],
   "source": [
    "n = 5\n",
    "for i in range(5,0,-1):\n",
    "    for j in range(1,i+1):\n",
    "        print(j, end=' ')\n",
    "    print()"
   ]
  },
  {
   "cell_type": "code",
   "execution_count": 320,
   "id": "446852fc",
   "metadata": {},
   "outputs": [
    {
     "name": "stdout",
     "output_type": "stream",
     "text": [
      "1 2 3 4 5 \n",
      "2 2 3 4 5 \n",
      "3 3 3 4 5 \n",
      "4 4 4 4 5 \n",
      "5 5 5 5 5 \n"
     ]
    }
   ],
   "source": [
    "n = 5\n",
    "for i in range(1,n+1):\n",
    "    for j in range(1,n+1):\n",
    "        if j <= i:\n",
    "            print(i, end=' ')\n",
    "        else:\n",
    "            print(j, end=' ')\n",
    "    print()"
   ]
  },
  {
   "cell_type": "code",
   "execution_count": 413,
   "id": "f2d1ad7c",
   "metadata": {},
   "outputs": [
    {
     "name": "stdout",
     "output_type": "stream",
     "text": [
      "1 \n",
      "2 3 \n",
      "4 5 6 \n",
      "7 8 9 10 \n",
      "11 12 13 14 15 \n"
     ]
    }
   ],
   "source": [
    "sum = 1\n",
    "n = 5\n",
    "\n",
    "for i in range(n):\n",
    "    for j in range(i+1):\n",
    "        print(sum, end=' ')\n",
    "        sum += 1\n",
    "    print()\n",
    "    "
   ]
  },
  {
   "cell_type": "code",
   "execution_count": 332,
   "id": "040e3c9e",
   "metadata": {},
   "outputs": [
    {
     "name": "stdout",
     "output_type": "stream",
     "text": [
      "1 \n",
      "1 2 \n",
      "1   3 \n",
      "1     4 \n",
      "1 2 3 4 5 \n"
     ]
    }
   ],
   "source": [
    "n= 5\n",
    "for i in range(1, n + 1):\n",
    "    for j in range(1, i + 1):\n",
    "        if j == 1 or i == j or i ==n :\n",
    "            print(j,end=' ')\n",
    "        else:\n",
    "            print(' ', end=' ')\n",
    "    print('')"
   ]
  },
  {
   "cell_type": "code",
   "execution_count": 368,
   "id": "0fe8d718",
   "metadata": {
    "scrolled": true
   },
   "outputs": [
    {
     "name": "stdout",
     "output_type": "stream",
     "text": [
      "enter the raw number : 5\n",
      "5 4 3 2 1 \n",
      "4     1 \n",
      "3   1 \n",
      "2 1 \n",
      "1 \n"
     ]
    }
   ],
   "source": [
    "n =int(input('enter the raw number : '))\n",
    "for i in range(n,0,-1):\n",
    "    for j in range(i,0,-1):\n",
    "        if i==n or j==1 or j==i:\n",
    "            print(j, end=' ')\n",
    "        else:\n",
    "            print(' ', end=' ')\n",
    "    print()"
   ]
  },
  {
   "cell_type": "code",
   "execution_count": null,
   "id": "27bb7495",
   "metadata": {},
   "outputs": [],
   "source": []
  }
 ],
 "metadata": {
  "kernelspec": {
   "display_name": "Python 3 (ipykernel)",
   "language": "python",
   "name": "python3"
  },
  "language_info": {
   "codemirror_mode": {
    "name": "ipython",
    "version": 3
   },
   "file_extension": ".py",
   "mimetype": "text/x-python",
   "name": "python",
   "nbconvert_exporter": "python",
   "pygments_lexer": "ipython3",
   "version": "3.9.12"
  }
 },
 "nbformat": 4,
 "nbformat_minor": 5
}
