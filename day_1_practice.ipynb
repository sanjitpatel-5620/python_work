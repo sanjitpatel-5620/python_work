{
 "cells": [
  {
   "cell_type": "markdown",
   "id": "baa214d4",
   "metadata": {},
   "source": [
    "Q1. Write a program to accept percentage from the user and display the grade according to the following criteria:\n",
    "\n",
    "         Marks                                    Grade \n",
    "         > 90                                        A\n",
    "         > 80 and <= 90                              B\n",
    "         >= 60 and <= 80                             C\n",
    "         below 60                                    D\n"
   ]
  },
  {
   "cell_type": "code",
   "execution_count": 3,
   "id": "3c18fff4",
   "metadata": {},
   "outputs": [
    {
     "name": "stdout",
     "output_type": "stream",
     "text": [
      "Enter the marks: 60\n",
      "congratulation u got : c\n"
     ]
    }
   ],
   "source": [
    "mark = int(input(\"Enter the marks: \"))\n",
    "if mark > 90:\n",
    "    print(\"congarulation u got: A \")\n",
    "if mark > 80 and mark <= 90:\n",
    "    print(\"congratulation u got : B\")\n",
    "if mark >= 60 and mark <= 80:\n",
    "    print(\"congratulation u got : c\")\n",
    "if mark < 60:\n",
    "    print(\"congratulation u got : d\")\n",
    "    "
   ]
  },
  {
   "cell_type": "markdown",
   "id": "3d2f909d",
   "metadata": {},
   "source": [
    "Q2. Write a program to accept the cost price of a bike and display the road tax to be paid according to the following criteria :\n",
    "    \n",
    "        Cost  price (in Rs)                                       Tax\n",
    "        > 100000                                                  15 %\n",
    "        > 50000 and <= 100000                                     10%\n",
    "        <= 50000                                                  5%\n",
    "       "
   ]
  },
  {
   "cell_type": "code",
   "execution_count": 5,
   "id": "3d5720f6",
   "metadata": {},
   "outputs": [
    {
     "name": "stdout",
     "output_type": "stream",
     "text": [
      "Enter the price: 60000\n",
      "paying tax 10%\n"
     ]
    }
   ],
   "source": [
    "cost_prices = int(input(\"Enter the price: \"))\n",
    "if cost_prices > 100000:\n",
    "    print(\"paying tax 15 %\")\n",
    "if cost_prices > 50000 and cost_prices <= 100000:\n",
    "    print(\"paying tax 10%\")\n",
    "if cost_prices <= 50000:\n",
    "    print(\"paying tax 5%\")\n",
    "    "
   ]
  },
  {
   "cell_type": "markdown",
   "id": "86282978",
   "metadata": {},
   "source": [
    "3.Write a program to check whether an years is leap year or not."
   ]
  },
  {
   "cell_type": "code",
   "execution_count": 13,
   "id": "872f8b5b",
   "metadata": {},
   "outputs": [
    {
     "name": "stdout",
     "output_type": "stream",
     "text": [
      "Enter the year2023\n",
      "2023 is not a leap year\n"
     ]
    }
   ],
   "source": [
    "year = int(input(\"Enter the year\"))\n",
    "if (year % 400 == 0) and (year % 100 == 0):\n",
    "    print(f\" {year} is a leap year\")\n",
    "elif (year % 4 ==0) and (year % 100 != 0):\n",
    "    print(f\"{year} is a leap year\")\n",
    "else:\n",
    "    print(f\"{year} is not a leap year\")"
   ]
  },
  {
   "cell_type": "markdown",
   "id": "6b6759e5",
   "metadata": {},
   "source": [
    "7.A company decided to give bonus of 5% to employee if his/her year of service is more than 5 years.\n",
    "Ask user for their salary and year of service and print the net bonus amount."
   ]
  },
  {
   "cell_type": "code",
   "execution_count": 14,
   "id": "11d146a1",
   "metadata": {},
   "outputs": [
    {
     "name": "stdout",
     "output_type": "stream",
     "text": [
      "enter salary300000\n",
      "enter year of service you have given to the company3\n",
      "no bonus\n"
     ]
    }
   ],
   "source": [
    "salary=int(input(\"enter salary\"))\n",
    "yos=int(input(\"enter year of service you have given to the company\"))\n",
    "if yos>5:\n",
    "    print (\"bonus is\",0.05*salary)\n",
    "else:\n",
    "    print (\"no bonus\")\n",
    "    "
   ]
  },
  {
   "cell_type": "markdown",
   "id": "4e8c59c1",
   "metadata": {},
   "source": [
    "5.Write a program to accept a number from 1 to 12 and display name of the month and days in that month like 1 for January and number of days 31 and so on "
   ]
  },
  {
   "cell_type": "code",
   "execution_count": null,
   "id": "87c0b0d2",
   "metadata": {},
   "outputs": [],
   "source": [
    "x = int(input(\"enter the number\"))\n",
    "if (x==1):\n",
    "    print (f\"{x} Jan \")\n",
    "if (x==2):\n",
    "    print(f\"{x} Feb\")\n",
    "if (x==3):\n",
    "    print(\"March\")\n",
    "if (x==4):\n",
    "    print(\"April\")\n",
    "if (x==5):\n",
    "    print(\"May\")\n",
    "if (x==6):\n",
    "    print(\"June\")\n",
    "if (x==7):\n",
    "    print(\"July\")\n",
    "if (x==8):\n",
    "    print(\"August\")\n",
    "if(x==9):\n",
    "    print(\"September\")\n",
    "if(x==10):\n",
    "    print(\"October\")\n",
    "if(x==11):\n",
    "    print(\"November\")\n",
    "if(x==12):\n",
    "    print(\"December\")\n",
    "if(x<1 or x>12):\n",
    "    print(\"Invalid input\")\n",
    "\n",
    " "
   ]
  },
  {
   "cell_type": "markdown",
   "id": "e07e0d9f",
   "metadata": {},
   "source": [
    "Q4. Write a program to accept a number from 1 to 7 and display the name of the day like 1 for Sunday , 2 for Monday and so on."
   ]
  },
  {
   "cell_type": "code",
   "execution_count": 22,
   "id": "a835c18e",
   "metadata": {},
   "outputs": [
    {
     "name": "stdout",
     "output_type": "stream",
     "text": [
      "Enter weekday day number (1-7) : 7\n",
      "7 saturday\n"
     ]
    }
   ],
   "source": [
    "weekday = int(input(\"Enter weekday day number (1-7) : \"))\n",
    "\n",
    "if weekday == 1:\n",
    "    print(f\"{weekday} sunday\");\n",
    "\n",
    "elif weekday == 2:\n",
    "    print(f\"{weekday} Monday\")\n",
    "\n",
    "elif(weekday == 3):\n",
    "    print(f\"{weekday} Tuesday\")\n",
    "\n",
    "elif(weekday == 4):\n",
    "    print(f\"{weekday} Wednesday\")\n",
    "\n",
    "elif(weekday == 5) :\n",
    "    print(f\"{weekday} Thursday\")\n",
    "\n",
    "elif(weekday == 6) :\n",
    "    print(f\"{weekday} Friday\")\n",
    "\n",
    "elif (weekday == 7) :\n",
    "    print(f\"{weekday} saturday\")\n",
    "\n",
    "else :\n",
    "    print(\"Please enter weekday number between 1-7.\")"
   ]
  },
  {
   "cell_type": "markdown",
   "id": "cbb2ecfc",
   "metadata": {},
   "source": [
    "Q6. Accept any city from the user and display monument of that city.\n",
    "                  City                                 Monument\n",
    "                  Delhi                               Red Fort\n",
    "                  Agra                                Taj Mahal\n",
    "                  Jaipur                              Jal Mahal"
   ]
  },
  {
   "cell_type": "code",
   "execution_count": 29,
   "id": "216a878b",
   "metadata": {},
   "outputs": [
    {
     "name": "stdout",
     "output_type": "stream",
     "text": [
      "Enter the city: Jaipur\n",
      "The monument of that city is Jal Mahal.\n"
     ]
    }
   ],
   "source": [
    "city = str(input('Enter the city: '))\n",
    "if(city=='Delhi'):\n",
    "    print('The monument of that city is Red Fort.')\n",
    "    \n",
    "elif(city=='Agra'):\n",
    "    print('The monument of that city is Taj Mahal.')\n",
    "    \n",
    "elif(city=='Jaipur'):\n",
    "    print('The monument of that city is Jal Mahal.')\n",
    "    \n",
    "else:\n",
    "    print('There is no special monument of that city.')"
   ]
  },
  {
   "cell_type": "markdown",
   "id": "d2e74d0d",
   "metadata": {},
   "source": [
    "8.Take input of age of 3 people by user and determine oldest and youngest among them.\n",
    "\n"
   ]
  },
  {
   "cell_type": "code",
   "execution_count": 28,
   "id": "b7e414b3",
   "metadata": {},
   "outputs": [
    {
     "name": "stdout",
     "output_type": "stream",
     "text": [
      "enter age1: 25\n",
      "enter age2: 63\n",
      "enter age3: 20\n",
      "person2 is oldest\n",
      "person3 is youngest\n"
     ]
    }
   ],
   "source": [
    "person1=int(input('enter age1: '))\n",
    "person2=int(input('enter age2: '))\n",
    "person3=int(input('enter age3: '))\n",
    "if person1>person2 and person1>person3:\n",
    "    print('person1 is oldest')\n",
    "elif person2>person1 and person2>person3:\n",
    "    print('person2 is oldest')\n",
    "else:\n",
    "    print('person3 is oldest')\n",
    "if person1<person2 and person1<person3:\n",
    "    print('person1 is youngest')\n",
    "elif person2<person1 and person2<person3:\n",
    "    print('person2 is youngest')\n",
    "else:\n",
    "     print('person3 is youngest')"
   ]
  },
  {
   "cell_type": "markdown",
   "id": "acca7f4a",
   "metadata": {},
   "source": [
    "9) Write a program to display the last digit of a number."
   ]
  },
  {
   "cell_type": "code",
   "execution_count": 33,
   "id": "22df2325",
   "metadata": {},
   "outputs": [
    {
     "name": "stdout",
     "output_type": "stream",
     "text": [
      "enter the number124\n",
      "4\n"
     ]
    }
   ],
   "source": [
    "a = int(input(\"enter the number\"))\n",
    "b = str(a)\n",
    "print(b[-1])"
   ]
  },
  {
   "cell_type": "markdown",
   "id": "d4ccaa83",
   "metadata": {},
   "source": [
    "10) Write a program to check whether the last digit of a number( entered by user ) is \n",
    "divisible by 3 or not."
   ]
  },
  {
   "cell_type": "code",
   "execution_count": null,
   "id": "ac1a701d",
   "metadata": {},
   "outputs": [],
   "source": []
  },
  {
   "cell_type": "markdown",
   "id": "ea8f8934",
   "metadata": {},
   "source": [
    "11) Check the enter number is odd or even ?"
   ]
  },
  {
   "cell_type": "code",
   "execution_count": 37,
   "id": "a82fa87d",
   "metadata": {},
   "outputs": [
    {
     "name": "stdout",
     "output_type": "stream",
     "text": [
      "enter the number5\n",
      "number is odd\n"
     ]
    }
   ],
   "source": [
    "a = int(input(\"enter the number\"))\n",
    "if (a%2) == 0:\n",
    "    print(\"number is even\")\n",
    "else:\n",
    "    print(\"number is odd\")"
   ]
  },
  {
   "cell_type": "markdown",
   "id": "c5f7b677",
   "metadata": {},
   "source": [
    "\n",
    "12) Write a program to check whether a person is eligible for voting or not.(voting age >=18)"
   ]
  },
  {
   "cell_type": "code",
   "execution_count": 38,
   "id": "45ee3818",
   "metadata": {},
   "outputs": [
    {
     "name": "stdout",
     "output_type": "stream",
     "text": [
      "enter the age :25\n",
      "person is eligible for voting\n"
     ]
    }
   ],
   "source": [
    "age = int(input(\"enter the age :\"))\n",
    "if age >= 18:\n",
    "    print(\"person is eligible for voting\")\n",
    "else:\n",
    "    print(\"person is not eligible for voting\")"
   ]
  },
  {
   "cell_type": "markdown",
   "id": "81bc29a5",
   "metadata": {},
   "source": [
    "13) Write a program to whether a number (accepted from user) is divisible by 2 and 3 both.\n"
   ]
  },
  {
   "cell_type": "code",
   "execution_count": 39,
   "id": "236e8bf6",
   "metadata": {},
   "outputs": [
    {
     "name": "stdout",
     "output_type": "stream",
     "text": [
      "enter the number12\n",
      "number is divisible by 2 and 3 both\n"
     ]
    }
   ],
   "source": [
    "a = int(input(\"enter the number\"))\n",
    "if (a % 2) == 0 or (a % 3):\n",
    "    print(\"number is divisible by 2 and 3 both\")"
   ]
  },
  {
   "cell_type": "markdown",
   "id": "f7c168ce",
   "metadata": {},
   "source": [
    "14) Write a program to find the largest number out of three numbers excepted from user"
   ]
  },
  {
   "cell_type": "code",
   "execution_count": 43,
   "id": "1e22235e",
   "metadata": {},
   "outputs": [
    {
     "name": "stdout",
     "output_type": "stream",
     "text": [
      "Enter first number  : 5\n",
      "Enter second number : 12\n",
      "Enter third number  : 6\n",
      "12 is the largest of three numbers.\n"
     ]
    }
   ],
   "source": [
    "a = int(input('Enter first number a: '))\n",
    "b = int(input('Enter second number b: '))\n",
    "c = int(input('Enter third number c: '))\n",
    "\n",
    "largest = 0\n",
    "\n",
    "if a > b and a > c :\n",
    "    largest = a\n",
    "elif b > c :\n",
    "    largest = b\n",
    "else :\n",
    "    largest = c\n",
    "\n",
    "print(largest, \"is the largest of three numbers\")"
   ]
  },
  {
   "cell_type": "markdown",
   "id": "546d2580",
   "metadata": {},
   "source": [
    "15)  Accept the following from the user and calculate the percentage of class attended:\n",
    "a.     Total number of working days\n",
    "b.     Total number of days for absent\n",
    "    After calculating percentage show that, If the percentage is less than 75, than student will not be able to sit in exam."
   ]
  },
  {
   "cell_type": "code",
   "execution_count": 47,
   "id": "4e609ed1",
   "metadata": {},
   "outputs": [
    {
     "name": "stdout",
     "output_type": "stream",
     "text": [
      "enter the working_days30\n",
      "enter the absent_day 6\n",
      "student will be able to sit in exam\n"
     ]
    }
   ],
   "source": [
    "working_days = int(input(\"enter the working_days\"))\n",
    "absent_day = int(input(\"enter the absent_day \"))\n",
    "\n",
    "percentage = (absent_day * 100) / working_days\n",
    "if percentage >75:\n",
    "    print(\"student will not be able to sit in exam\")\n",
    "else:\n",
    "    print(\"student will be able to sit in exam\")"
   ]
  },
  {
   "cell_type": "markdown",
   "id": "4dca6272",
   "metadata": {},
   "source": [
    "16) Accept the percentage from the user and display the  grade according to the following criteria:\n",
    "Below 25 —- D\n",
    "25 to 45 —- C\n",
    "45 to 50 —- B\n",
    "50 to 60 –– B+\n",
    "60 to 80 — A\n",
    "Above 80 –- A+"
   ]
  },
  {
   "cell_type": "code",
   "execution_count": 68,
   "id": "6e9159eb",
   "metadata": {},
   "outputs": [
    {
     "name": "stdout",
     "output_type": "stream",
     "text": [
      "Enter the marks: 25\n",
      "congratulation u got : C\n"
     ]
    }
   ],
   "source": [
    "percentage = int(input(\"Enter the marks: \"))\n",
    "if percentage > 80:\n",
    "    print(\"congarulation u got: A+ \")\n",
    "if percentage > 60 and percentage <= 80:\n",
    "    print(\"congratulation u got : A\")\n",
    "if percentage >= 50 and percentage <= 60:\n",
    "    print(\"congratulation u got : B+\")\n",
    "if percentage >= 45 and percentage <= 50:\n",
    "    print(\"congratulation u got : B\")\n",
    "if percentage >= 25 and percentage <= 45:\n",
    "    print(\"congratulation u got : C\")\n",
    "if percentage < 25:\n",
    "    print(\"congartulation u got : D\")"
   ]
  },
  {
   "cell_type": "markdown",
   "id": "12d71849",
   "metadata": {},
   "source": [
    "17) Accept three numbers from the user and display the second largest number."
   ]
  },
  {
   "cell_type": "code",
   "execution_count": 45,
   "id": "ed010aa5",
   "metadata": {},
   "outputs": [
    {
     "name": "stdout",
     "output_type": "stream",
     "text": [
      "Enter first number a:4\n",
      "Enter second number b:6\n",
      "Enter third number c:10\n",
      "The second largest number is 6\n"
     ]
    }
   ],
   "source": [
    "\n",
    "a = int(input(\"Enter first number a:\"))\n",
    "b = int(input(\"Enter second number b:\"))\n",
    "c = int(input(\"Enter third number c:\"))\n",
    " \n",
    "if a > b and a > c:\n",
    "  if b>c:\n",
    "    print(\"The second largest number is\",b)\n",
    "  else:\n",
    "    print(\"The largest number is\",c)\n",
    "elif b > a and b >c:\n",
    "  if a > c:\n",
    "    print(\"The second largest number is\", a)\n",
    "  else:\n",
    "    print(\"The second largest number is\", c)\n",
    "else:\n",
    "  if a > b:\n",
    "    print(\"The second largest number is\",a)\n",
    "  else:\n",
    "    print(\"The second largest number is\", b)"
   ]
  },
  {
   "cell_type": "code",
   "execution_count": null,
   "id": "ad592447",
   "metadata": {},
   "outputs": [],
   "source": [
    "18) Accept three sides of triangle and check whether the triangle is possible or not.\n",
    "(triangle is possible only when sum of any two sides is greater than 3rd side)"
   ]
  },
  {
   "cell_type": "code",
   "execution_count": 59,
   "id": "a6957200",
   "metadata": {},
   "outputs": [
    {
     "name": "stdout",
     "output_type": "stream",
     "text": [
      "Enter first number a:5\n",
      "Enter second number b:6\n",
      "Enter third number c:10\n",
      "triangle is possible\n"
     ]
    }
   ],
   "source": [
    "a = int(input(\"Enter first number a:\"))\n",
    "b = int(input(\"Enter second number b:\"))\n",
    "c = int(input(\"Enter third number c:\"))\n",
    "if (a+b) > c:\n",
    "    print(\"triangle is possible\")\n",
    "elif (b+c) > a:\n",
    "    print(\"triangle is possible\")\n",
    "elif (a+c) > b:\n",
    "    print(\"triangle is possible\")\n",
    "else:\n",
    "    print(\"triangle is not possible\")\n",
    "    "
   ]
  },
  {
   "cell_type": "markdown",
   "id": "6ba4e6f7",
   "metadata": {},
   "source": [
    "19) Accept the marks of English, Math and Science, Social Studies Subject and display the stream allotted according to following\n",
    "1) All Subjects more than 80 marks —       Science Stream\n",
    "2) English >80 and Math, Science above 50 –Commerce Stream\n",
    "3) English > 80 and Social studies > 80    —   Humanities"
   ]
  },
  {
   "cell_type": "code",
   "execution_count": null,
   "id": "452dbb26",
   "metadata": {},
   "outputs": [],
   "source": []
  },
  {
   "cell_type": "markdown",
   "id": "317cd73c",
   "metadata": {},
   "source": [
    "20) Whether the triangle will be an obtuse-angle, or a right-angle or an acute-angle triangle."
   ]
  },
  {
   "cell_type": "code",
   "execution_count": 64,
   "id": "15a74f56",
   "metadata": {},
   "outputs": [
    {
     "name": "stdout",
     "output_type": "stream",
     "text": [
      "enter the degre of aengle 180\n",
      "obtuse-angle\n"
     ]
    }
   ],
   "source": [
    "degree = int(input(\"enter the degre of aengle \"))\n",
    "if degree< 90:\n",
    "    print(\"acute-angle triangle\")\n",
    "elif degree == 90:\n",
    "    print(\"right-angle\")\n",
    "else:\n",
    "    print(\"obtuse-angle\")"
   ]
  },
  {
   "cell_type": "markdown",
   "id": "243e62d6",
   "metadata": {},
   "source": [
    "21) In this program, we input a number check if the number is positive or negative or zero and display an appropriate message."
   ]
  },
  {
   "cell_type": "code",
   "execution_count": 63,
   "id": "9305a382",
   "metadata": {},
   "outputs": [
    {
     "name": "stdout",
     "output_type": "stream",
     "text": [
      "enter the number0\n",
      "number is appropriate message\n"
     ]
    }
   ],
   "source": [
    "number = int(input(\"enter the number\"))\n",
    "if number > 0:\n",
    "    print(\"number is positve\")\n",
    "elif number < 0:\n",
    "    print(\"number is negatvie\")\n",
    "else:\n",
    "    print(\"number is zero\")"
   ]
  },
  {
   "cell_type": "code",
   "execution_count": null,
   "id": "54f4bac4",
   "metadata": {},
   "outputs": [],
   "source": []
  },
  {
   "cell_type": "code",
   "execution_count": null,
   "id": "dcf5dac3",
   "metadata": {},
   "outputs": [],
   "source": []
  }
 ],
 "metadata": {
  "kernelspec": {
   "display_name": "Python 3 (ipykernel)",
   "language": "python",
   "name": "python3"
  },
  "language_info": {
   "codemirror_mode": {
    "name": "ipython",
    "version": 3
   },
   "file_extension": ".py",
   "mimetype": "text/x-python",
   "name": "python",
   "nbconvert_exporter": "python",
   "pygments_lexer": "ipython3",
   "version": "3.9.12"
  }
 },
 "nbformat": 4,
 "nbformat_minor": 5
}
