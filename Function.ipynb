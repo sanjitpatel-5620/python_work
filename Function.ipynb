{
 "cells": [
  {
   "cell_type": "markdown",
   "id": "644b3565",
   "metadata": {},
   "source": [
    "Function:\n",
    "    function is a block of code which only runs when it is called.\n",
    "    you can pass data,kown as parameters,into a function\n",
    "    function can return the data as result.\n",
    "    \n",
    "TWO TYPES OF FUNCTION:\n",
    "                        1. built in function   \n",
    "                        2. user defined function\n",
    "                        "
   ]
  },
  {
   "cell_type": "markdown",
   "id": "dac4afd4",
   "metadata": {},
   "source": [
    "1. built in function"
   ]
  },
  {
   "cell_type": "code",
   "execution_count": 7,
   "id": "2f45f03d",
   "metadata": {},
   "outputs": [
    {
     "data": {
      "text/plain": [
       "8"
      ]
     },
     "execution_count": 7,
     "metadata": {},
     "output_type": "execute_result"
    }
   ],
   "source": [
    "abs(-8) #returns the absolute value of a number"
   ]
  },
  {
   "cell_type": "code",
   "execution_count": 24,
   "id": "abc2a09c",
   "metadata": {},
   "outputs": [
    {
     "data": {
      "text/plain": [
       "\"'\\\\U00010308'\""
      ]
     },
     "execution_count": 24,
     "metadata": {},
     "output_type": "execute_result"
    }
   ],
   "source": [
    "ascii('𐌈') # return ascii value"
   ]
  },
  {
   "cell_type": "code",
   "execution_count": 26,
   "id": "465198fd",
   "metadata": {},
   "outputs": [
    {
     "data": {
      "text/plain": [
       "66312"
      ]
     },
     "execution_count": 26,
     "metadata": {},
     "output_type": "execute_result"
    }
   ],
   "source": [
    "ord('𐌈') #returns an integer that represents the Unicode point for a given Unicode character"
   ]
  },
  {
   "cell_type": "code",
   "execution_count": 27,
   "id": "08318409",
   "metadata": {},
   "outputs": [
    {
     "data": {
      "text/plain": [
       "'𐌈'"
      ]
     },
     "execution_count": 27,
     "metadata": {},
     "output_type": "execute_result"
    }
   ],
   "source": [
    "chr(66312) #Built In function returns the character in python for an ASCII value."
   ]
  },
  {
   "cell_type": "code",
   "execution_count": 28,
   "id": "ccb6262c",
   "metadata": {},
   "outputs": [
    {
     "data": {
      "text/plain": [
       "True"
      ]
     },
     "execution_count": 28,
     "metadata": {},
     "output_type": "execute_result"
    }
   ],
   "source": [
    "bool(0.5)"
   ]
  },
  {
   "cell_type": "code",
   "execution_count": 29,
   "id": "53f820ec",
   "metadata": {},
   "outputs": [
    {
     "data": {
      "text/plain": [
       "False"
      ]
     },
     "execution_count": 29,
     "metadata": {},
     "output_type": "execute_result"
    }
   ],
   "source": [
    "bool(0)  #return true false value"
   ]
  },
  {
   "cell_type": "code",
   "execution_count": 44,
   "id": "ed6ca408",
   "metadata": {},
   "outputs": [
    {
     "data": {
      "text/plain": [
       "False"
      ]
     },
     "execution_count": 44,
     "metadata": {},
     "output_type": "execute_result"
    }
   ],
   "source": [
    "# bool(\"\")\n",
    "# bool([])\n",
    "# bool({})\n",
    "bool(())"
   ]
  },
  {
   "cell_type": "code",
   "execution_count": 45,
   "id": "48a30e60",
   "metadata": {},
   "outputs": [
    {
     "data": {
      "text/plain": [
       "1867484906768"
      ]
     },
     "execution_count": 45,
     "metadata": {},
     "output_type": "execute_result"
    }
   ],
   "source": [
    "a = 12234\n",
    "id(a)  # return the memmory adress id "
   ]
  },
  {
   "cell_type": "code",
   "execution_count": 49,
   "id": "cbd361bd",
   "metadata": {},
   "outputs": [
    {
     "data": {
      "text/plain": [
       "8"
      ]
     },
     "execution_count": 49,
     "metadata": {},
     "output_type": "execute_result"
    }
   ],
   "source": [
    "# pow(x,y)\n",
    "x = 2 \n",
    "y = 3\n",
    "pow(x,y) #takes two arguments- say, x and y. It then returns the value of x to the power of y."
   ]
  },
  {
   "cell_type": "markdown",
   "id": "6baf6e5f",
   "metadata": {},
   "source": [
    "## user defined function\n",
    "   function is defined using the def keyword\n",
    "   after defined name of function\n",
    "   give name after give the paranthesis to give inside the parentheses in arguments\n",
    "   \n",
    "   1.if u call the function which is return the value and arguments which you pass in a function\n",
    "   evrey time u need the function you can call the function name which give to the output\n",
    "  "
   ]
  },
  {
   "cell_type": "code",
   "execution_count": 55,
   "id": "889797f7",
   "metadata": {},
   "outputs": [
    {
     "data": {
      "text/plain": [
       "'sanjit'"
      ]
     },
     "execution_count": 55,
     "metadata": {},
     "output_type": "execute_result"
    }
   ],
   "source": [
    "def welcometomyfunction(fname):\n",
    "#     print(fname)\n",
    "    return fname\n",
    "    \n",
    "welcometomyfunction('sanjit')"
   ]
  },
  {
   "cell_type": "code",
   "execution_count": 57,
   "id": "845ef2b4",
   "metadata": {},
   "outputs": [
    {
     "data": {
      "text/plain": [
       "3"
      ]
     },
     "execution_count": 57,
     "metadata": {},
     "output_type": "execute_result"
    }
   ],
   "source": [
    "def sum_(a,b):\n",
    "    return a+b\n",
    "sum_(1,2)"
   ]
  },
  {
   "cell_type": "code",
   "execution_count": null,
   "id": "41e86138",
   "metadata": {},
   "outputs": [],
   "source": [
    "      1\n",
    "    1   2\n",
    "  3   4   5\n",
    "7   8   9   10"
   ]
  },
  {
   "cell_type": "code",
   "execution_count": 7,
   "id": "6b16a4a1",
   "metadata": {},
   "outputs": [
    {
     "name": "stdout",
     "output_type": "stream",
     "text": [
      "enter the raw number4\n",
      "   1\n",
      "  1 2 \n",
      " 3 4 5 \n",
      "7 8 9 10 \n"
     ]
    }
   ],
   "source": [
    "n = int(input(\"enter the raw number\"))\n",
    "a=1\n",
    "for i in range(n):\n",
    "    for j in range(n-i-1):\n",
    "        print(' ', end='')\n",
    "    if i==0:\n",
    "        print(i+1)\n",
    "    else:\n",
    "        for j in range(i+1):\n",
    "            if a == 6:\n",
    "                a+=1\n",
    "                print(a,end=' ')\n",
    "            else:\n",
    "                print(a,end=' ')\n",
    "            a+=1 \n",
    "        print()"
   ]
  },
  {
   "cell_type": "markdown",
   "id": "4ec2f80d",
   "metadata": {},
   "source": [
    "29 20 14 10\n",
    "9  6  4\n",
    "3  2\n",
    "1"
   ]
  },
  {
   "cell_type": "code",
   "execution_count": 150,
   "id": "66118f17",
   "metadata": {},
   "outputs": [
    {
     "name": "stdout",
     "output_type": "stream",
     "text": [
      "29 20 14 10 \n",
      "9  6  4  \n",
      "3  2  \n",
      "1  \n"
     ]
    }
   ],
   "source": [
    "n = 5\n",
    "for i in range(1):\n",
    "    for j in range(n,i+1,-1):\n",
    "        if j == 5:\n",
    "            print(j*5+4,end=\" \")\n",
    "        elif j==4 or j ==2:\n",
    "            print(j*5,end=' ')\n",
    "        elif j == 3:\n",
    "            print(j*3+5,end=' ')\n",
    "        else:\n",
    "            print(j,end=' ')\n",
    "    print()\n",
    "for i in range(1):\n",
    "    for j in range(4,i+1,-1):\n",
    "        if j == 4:\n",
    "            print(j+4+1,end=\"  \")\n",
    "        elif j==3 or j ==2:\n",
    "            print(j*2,end='  ')\n",
    "        else:\n",
    "            print(j,end=' ')\n",
    "    print()\n",
    "for i in range(1):\n",
    "    for j in range(3,i+1,-1):\n",
    "            print(j,end='  ')\n",
    "    print()\n",
    "for i in range(1):\n",
    "    for j in range(2,i+1,-1):\n",
    "            print(j-1,end='  ')\n",
    "    print()"
   ]
  },
  {
   "cell_type": "code",
   "execution_count": null,
   "id": "7d94e5ec",
   "metadata": {},
   "outputs": [],
   "source": []
  }
 ],
 "metadata": {
  "kernelspec": {
   "display_name": "Python 3 (ipykernel)",
   "language": "python",
   "name": "python3"
  },
  "language_info": {
   "codemirror_mode": {
    "name": "ipython",
    "version": 3
   },
   "file_extension": ".py",
   "mimetype": "text/x-python",
   "name": "python",
   "nbconvert_exporter": "python",
   "pygments_lexer": "ipython3",
   "version": "3.9.12"
  }
 },
 "nbformat": 4,
 "nbformat_minor": 5
}
