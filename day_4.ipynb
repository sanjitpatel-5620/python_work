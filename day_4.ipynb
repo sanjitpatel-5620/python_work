{
 "cells": [
  {
   "cell_type": "markdown",
   "id": "a60ec338",
   "metadata": {},
   "source": [
    "1). Write a program to display the last digit of a number."
   ]
  },
  {
   "cell_type": "code",
   "execution_count": null,
   "id": "01dffc67",
   "metadata": {},
   "outputs": [],
   "source": [
    "a = int(input(\"enter the number\"))\n",
    "b = a % 10\n",
    "print(\"last digit \",b)"
   ]
  },
  {
   "cell_type": "markdown",
   "id": "94b6563c",
   "metadata": {},
   "source": [
    "2).Write a Python program to count number of digits in a number."
   ]
  },
  {
   "cell_type": "code",
   "execution_count": null,
   "id": "623066ed",
   "metadata": {},
   "outputs": [],
   "source": [
    "n= int(input(\"entert the number more than one\"))\n",
    "count = 0\n",
    "\n",
    "while n != 0:\n",
    "    n //= 10\n",
    "    count += 1\n",
    "\n",
    "print(\"Number of digits: \" ,(count))"
   ]
  },
  {
   "cell_type": "markdown",
   "id": "8838e0a9",
   "metadata": {},
   "source": [
    "3). Write a Python program to find first and last digit of a number."
   ]
  },
  {
   "cell_type": "code",
   "execution_count": null,
   "id": "3bbca7cf",
   "metadata": {},
   "outputs": [],
   "source": [
    "n = int(input(\"enter the number: \"))\n",
    "b = n % 10\n",
    "while n >= 10: \n",
    "    n = n / 10\n",
    "   \n",
    "print(\"first digit of number\",int(n))\n",
    "print(\"last digit\", b)"
   ]
  },
  {
   "cell_type": "markdown",
   "id": "058c4337",
   "metadata": {},
   "source": [
    "4). Write a Python program to find sum of first and last digit of a number."
   ]
  },
  {
   "cell_type": "code",
   "execution_count": null,
   "id": "39f319e7",
   "metadata": {},
   "outputs": [],
   "source": [
    "n = int(input(\"enter the number: \"))\n",
    "b = n % 10\n",
    "while n >= 10: \n",
    "    n = n / 10\n",
    "   \n",
    "print(\"first digit of number\",int(n))\n",
    "print(\"last digit\", b)\n",
    "print(\"sum of first and last digit of a number.\", int(i) + b)"
   ]
  },
  {
   "cell_type": "markdown",
   "id": "1ace337b",
   "metadata": {},
   "source": [
    "5).Write a Python program to swap first and last digits of a number."
   ]
  },
  {
   "cell_type": "code",
   "execution_count": null,
   "id": "41bda727",
   "metadata": {},
   "outputs": [],
   "source": [
    "n = int(input(\"enter the number: \"))\n",
    "res = []\n",
    "while n>0:\n",
    "    out = n % 10\n",
    "    res.append(out)\n",
    "    n = n//10\n",
    "new = res[::-1]\n",
    "tem = new[-0]\n",
    "new[0] = new[-1]\n",
    "new[-1]=tem\n",
    "for i in new:\n",
    "    print(i, end = \"\")"
   ]
  },
  {
   "cell_type": "markdown",
   "id": "56f9192d",
   "metadata": {},
   "source": [
    "6)Write a Python program to calculate sum of digits of a number."
   ]
  },
  {
   "cell_type": "code",
   "execution_count": 9,
   "id": "a77d6738",
   "metadata": {},
   "outputs": [
    {
     "name": "stdout",
     "output_type": "stream",
     "text": [
      "enter the number: 1234\n",
      "10\n"
     ]
    }
   ],
   "source": [
    "n = int(input(\"enter the number: \"))\n",
    "sum = 0\n",
    "\n",
    "while n!=0:\n",
    "    digit = int(n%10)\n",
    "    sum += digit\n",
    "    n = n/10\n",
    "\n",
    "print(sum)\n",
    "    "
   ]
  },
  {
   "cell_type": "code",
   "execution_count": null,
   "id": "597a30f3",
   "metadata": {},
   "outputs": [],
   "source": [
    "7). Write a Python program to calculate product of digits of a number."
   ]
  },
  {
   "cell_type": "code",
   "execution_count": 11,
   "id": "ad148082",
   "metadata": {},
   "outputs": [
    {
     "name": "stdout",
     "output_type": "stream",
     "text": [
      "enter the number: 12345\n",
      "120\n"
     ]
    }
   ],
   "source": [
    "n = int(input(\"enter the number: \"))\n",
    "product = 1\n",
    "while (n != 0):\n",
    "    product = product * (n % 10)\n",
    "    n = n // 10\n",
    "print(product)\n"
   ]
  },
  {
   "cell_type": "markdown",
   "id": "90ff4c86",
   "metadata": {},
   "source": [
    "8). Write a Python program to enter a number and print its reverse."
   ]
  },
  {
   "cell_type": "code",
   "execution_count": 12,
   "id": "15a02ceb",
   "metadata": {},
   "outputs": [
    {
     "name": "stdout",
     "output_type": "stream",
     "text": [
      "enter the number: 12345\n",
      "reverse number : 54321\n"
     ]
    }
   ],
   "source": [
    "n = int(input(\"enter the number: \"))\n",
    "rev_num = 0\n",
    "while n != 0:\n",
    "    digit = n % 10\n",
    "    rev_num = rev_num *10 + digit\n",
    "    n //= 10\n",
    "    \n",
    "print(\"reverse number :\",  str(rev_num))"
   ]
  },
  {
   "cell_type": "markdown",
   "id": "30e12f71",
   "metadata": {},
   "source": [
    "9). Write a Python program to check whether a number is palindrome or not."
   ]
  },
  {
   "cell_type": "code",
   "execution_count": 14,
   "id": "df4e0b64",
   "metadata": {},
   "outputs": [
    {
     "name": "stdout",
     "output_type": "stream",
     "text": [
      "enter the number: 1221\n",
      "given number not a palidome\n"
     ]
    }
   ],
   "source": [
    "n = int(input(\"enter the number: \"))\n",
    "rev_num = 0\n",
    "while n != 0:\n",
    "    digit = n % 10\n",
    "    rev_num = rev_num *10 + digit\n",
    "    n //= 10\n",
    "    \n",
    "if n == int(rev_num):\n",
    "    print(\"given number is palidrom\")\n",
    "else:\n",
    "    print(\"given number not a palidome\")"
   ]
  },
  {
   "cell_type": "code",
   "execution_count": null,
   "id": "8da4edd3",
   "metadata": {},
   "outputs": [],
   "source": [
    "10). Write a Python program to print Fibonacci series up to n terms."
   ]
  },
  {
   "cell_type": "code",
   "execution_count": 15,
   "id": "e7bf94f1",
   "metadata": {},
   "outputs": [
    {
     "name": "stdout",
     "output_type": "stream",
     "text": [
      "How many terms 15\n",
      "Fibonacci sequence:\n",
      "0\n",
      "1\n",
      "1\n",
      "2\n",
      "3\n",
      "5\n",
      "8\n",
      "13\n",
      "21\n",
      "34\n",
      "55\n",
      "89\n",
      "144\n",
      "233\n",
      "377\n"
     ]
    }
   ],
   "source": [
    "n = int(input(\"How many terms \"))\n",
    "n1, n2 = 0, 1\n",
    "count = 0\n",
    "if n <= 0:\n",
    "   print(\"Please enter a positive integer\")\n",
    "elif n == 1:\n",
    "   print(\"Fibonacci sequence upto\",n,\":\")\n",
    "   print(n1)\n",
    "\n",
    "else:\n",
    "   print(\"Fibonacci sequence:\")\n",
    "   while count < n:\n",
    "       print(n1)\n",
    "       nth = n1 + n2\n",
    "       n1 = n2\n",
    "       n2 = nth\n",
    "       count += 1"
   ]
  },
  {
   "cell_type": "markdown",
   "id": "cf3f2d2f",
   "metadata": {},
   "source": [
    "11).Write a Python program to check whether a number is Armstrong number or not."
   ]
  },
  {
   "cell_type": "code",
   "execution_count": 16,
   "id": "afbe4d9f",
   "metadata": {},
   "outputs": [
    {
     "name": "stdout",
     "output_type": "stream",
     "text": [
      "Enter a number: 153\n",
      "Original number is:  153\n",
      "153 is Armstrong number!!\n"
     ]
    }
   ],
   "source": [
    "n = input(\"Enter a number: \")\n",
    "original = int(n)\n",
    "n_len = len(n)\n",
    "sum = 0\n",
    "print(\"Original number is: \",original)\n",
    "for i in n:\n",
    "    power = int(i) ** len(n)\n",
    "    sum = sum + power\n",
    "if sum  == original:\n",
    "    print(original,\"is Armstrong number!!\")\n",
    "else:\n",
    "    print(original, \"is not Armstrong number!!\")"
   ]
  },
  {
   "cell_type": "markdown",
   "id": "21213f3d",
   "metadata": {},
   "source": [
    "12).Write a Python program to print all Armstrong numbers between 1 to n."
   ]
  },
  {
   "cell_type": "code",
   "execution_count": 22,
   "id": "677d94dd",
   "metadata": {},
   "outputs": [
    {
     "name": "stdout",
     "output_type": "stream",
     "text": [
      "enter the number: 100\n",
      "1 2 3 4 5 6 7 8 9 25 36 "
     ]
    }
   ],
   "source": [
    "n = int(input(\"enter the number: \"))\n",
    "for i in range(n):\n",
    "    num=i\n",
    "    result=0\n",
    "    number=len(str(i))\n",
    "    while i!=0:\n",
    "        digit = i%10\n",
    "        results = result+digit**number\n",
    "        i = i//10\n",
    "        if num == results:\n",
    "            print(num, end= ' ')\n",
    "        "
   ]
  },
  {
   "cell_type": "markdown",
   "id": "7e1df73c",
   "metadata": {},
   "source": [
    "# ternary operator"
   ]
  },
  {
   "cell_type": "code",
   "execution_count": null,
   "id": "3dc39ef6",
   "metadata": {},
   "outputs": [],
   "source": [
    "Q1. Write a program to accept percentage from the user and display the grade according to the following criteria:\n",
    "\n",
    "     Marks                                    Grade \n",
    "     > 90                                        A\n",
    "     > 80 and <= 90                              B\n",
    "     >= 60 and <= 80                             C\n",
    "     below 60                                    D"
   ]
  },
  {
   "cell_type": "code",
   "execution_count": null,
   "id": "a9b2d03d",
   "metadata": {},
   "outputs": [],
   "source": [
    "mark = int(input(\"Enter the marks: \")) \n",
    "print(\"congarulation u got: A \" if mark > 90 else \"congratulation u got : B\" \n",
    "      if mark > 80 and mark <= 90 else \"congratulation u got : c\" \n",
    "      if mark >= 60 and mark <= 80 else \"congratulation u got : d\")"
   ]
  },
  {
   "cell_type": "markdown",
   "id": "59dcd0be",
   "metadata": {},
   "source": [
    "Q2. Write a program to accept the cost price of a bike and display the road tax to be paid according to the following criteria :\n",
    "\n",
    "    Cost  price (in Rs)                                       Tax\n",
    "    > 100000                                                  15 %\n",
    "    > 50000 and <= 100000                                     10%\n",
    "    <= 50000                                                  5%"
   ]
  },
  {
   "cell_type": "code",
   "execution_count": null,
   "id": "e51db07e",
   "metadata": {},
   "outputs": [],
   "source": [
    "cost_prices = int(input(\"Enter the price: \"))\n",
    "print(\"paying tax 15 %\" if cost_prices > 100000 else \"paying tax 10%\"\n",
    "      if cost_prices > 50000 and cost_prices <= 100000 else \"paying tax 5%\")"
   ]
  },
  {
   "cell_type": "markdown",
   "id": "a3c87311",
   "metadata": {},
   "source": [
    "3.Write a program to check whether an years is leap year or not."
   ]
  },
  {
   "cell_type": "code",
   "execution_count": 32,
   "id": "879e2d61",
   "metadata": {},
   "outputs": [
    {
     "name": "stdout",
     "output_type": "stream",
     "text": [
      "Enter the year2002\n",
      "year is not leap year\n"
     ]
    }
   ],
   "source": [
    "year = int(input(\"Enter the year\"))\n",
    "print(\"year is leap year\" if (year % 400 == 0) and (year % 100 == 0) else\"year is leap year\"\n",
    "     if (year % 4 ==0) and (year % 100 != 0) else \"year is not leap year\")"
   ]
  },
  {
   "cell_type": "markdown",
   "id": "408bbd93",
   "metadata": {},
   "source": [
    " 4.Find the Larger number among 2 using ternary operator in python"
   ]
  },
  {
   "cell_type": "code",
   "execution_count": 33,
   "id": "86363da6",
   "metadata": {},
   "outputs": [
    {
     "name": "stdout",
     "output_type": "stream",
     "text": [
      "5 is greater\n"
     ]
    }
   ],
   "source": [
    "a= 5\n",
    "b= 4\n",
    "print(a,\"is greater\") if (a>b) else print(b,\"is Greater\")"
   ]
  },
  {
   "cell_type": "code",
   "execution_count": 35,
   "id": "4012dcc1",
   "metadata": {},
   "outputs": [
    {
     "name": "stdout",
     "output_type": "stream",
     "text": [
      "8\n"
     ]
    }
   ],
   "source": [
    "a =8\n",
    "b =9\n",
    "print((lambda: b, lambda: a)[a < b]())"
   ]
  },
  {
   "cell_type": "code",
   "execution_count": 37,
   "id": "38260556",
   "metadata": {},
   "outputs": [
    {
     "data": {
      "text/plain": [
       "True"
      ]
     },
     "execution_count": 37,
     "metadata": {},
     "output_type": "execute_result"
    }
   ],
   "source": [
    "(lambda a,b,c:a>b or a>c )(4,6,1)"
   ]
  },
  {
   "cell_type": "code",
   "execution_count": 41,
   "id": "994d7d0d",
   "metadata": {},
   "outputs": [
    {
     "data": {
      "text/plain": [
       "15"
      ]
     },
     "execution_count": 41,
     "metadata": {},
     "output_type": "execute_result"
    }
   ],
   "source": [
    "(lambda a : a + 10)(5)\n"
   ]
  },
  {
   "cell_type": "code",
   "execution_count": 42,
   "id": "9e0b5119",
   "metadata": {},
   "outputs": [
    {
     "data": {
      "text/plain": [
       "42"
      ]
     },
     "execution_count": 42,
     "metadata": {},
     "output_type": "execute_result"
    }
   ],
   "source": [
    "(lambda a, b : a * b)(6,7)\n"
   ]
  },
  {
   "cell_type": "code",
   "execution_count": 44,
   "id": "fc833586",
   "metadata": {},
   "outputs": [
    {
     "data": {
      "text/plain": [
       "8"
      ]
     },
     "execution_count": 44,
     "metadata": {},
     "output_type": "execute_result"
    }
   ],
   "source": [
    "(lambda a, b, c : a + b + c)(1,5,2)\n"
   ]
  },
  {
   "cell_type": "markdown",
   "id": "79bd8885",
   "metadata": {},
   "source": [
    "## Short Circuiting "
   ]
  },
  {
   "cell_type": "code",
   "execution_count": 49,
   "id": "9b2e280d",
   "metadata": {},
   "outputs": [
    {
     "ename": "ZeroDivisionError",
     "evalue": "division by zero",
     "output_type": "error",
     "traceback": [
      "\u001b[1;31m---------------------------------------------------------------------------\u001b[0m",
      "\u001b[1;31mZeroDivisionError\u001b[0m                         Traceback (most recent call last)",
      "Input \u001b[1;32mIn [49]\u001b[0m, in \u001b[0;36m<cell line: 1>\u001b[1;34m()\u001b[0m\n\u001b[1;32m----> 1\u001b[0m \u001b[38;5;28;01mif\u001b[39;00m \u001b[38;5;28;01mTrue\u001b[39;00m \u001b[38;5;129;01mand\u001b[39;00m \u001b[43ma\u001b[49m\u001b[38;5;241;43m/\u001b[39;49m\u001b[38;5;241;43m0\u001b[39;49m:\n\u001b[0;32m      2\u001b[0m     \u001b[38;5;28mprint\u001b[39m(\u001b[38;5;124m\"\u001b[39m\u001b[38;5;124mhello\u001b[39m\u001b[38;5;124m\"\u001b[39m)\n\u001b[0;32m      3\u001b[0m \u001b[38;5;28;01melse\u001b[39;00m:\n",
      "\u001b[1;31mZeroDivisionError\u001b[0m: division by zero"
     ]
    }
   ],
   "source": [
    "if True and a/0:\n",
    "    print(\"hello\")\n",
    "else:\n",
    "    print(\"by\")"
   ]
  },
  {
   "cell_type": "code",
   "execution_count": 50,
   "id": "fea2e653",
   "metadata": {},
   "outputs": [
    {
     "name": "stdout",
     "output_type": "stream",
     "text": [
      "hello\n"
     ]
    }
   ],
   "source": [
    "if True or a/0:\n",
    "    print(\"hello\")\n",
    "else:\n",
    "    print(\"by\")"
   ]
  },
  {
   "cell_type": "code",
   "execution_count": 51,
   "id": "f6a688a1",
   "metadata": {},
   "outputs": [
    {
     "name": "stdout",
     "output_type": "stream",
     "text": [
      "hello\n"
     ]
    }
   ],
   "source": [
    "if True and a/5:\n",
    "    print(\"hello\")\n",
    "else:\n",
    "    print(\"by\")"
   ]
  },
  {
   "cell_type": "code",
   "execution_count": 52,
   "id": "33192e8d",
   "metadata": {},
   "outputs": [
    {
     "name": "stdout",
     "output_type": "stream",
     "text": [
      "by\n"
     ]
    }
   ],
   "source": [
    "if False and a/5:\n",
    "    print(\"hello\")\n",
    "else:\n",
    "    print(\"by\")"
   ]
  },
  {
   "cell_type": "code",
   "execution_count": 53,
   "id": "186ec0c7",
   "metadata": {},
   "outputs": [
    {
     "name": "stdout",
     "output_type": "stream",
     "text": [
      "by\n"
     ]
    }
   ],
   "source": [
    "if False and a/0:\n",
    "    print(\"hello\")\n",
    "else:\n",
    "    print(\"by\")"
   ]
  },
  {
   "cell_type": "code",
   "execution_count": 54,
   "id": "ff00baca",
   "metadata": {},
   "outputs": [
    {
     "ename": "ZeroDivisionError",
     "evalue": "division by zero",
     "output_type": "error",
     "traceback": [
      "\u001b[1;31m---------------------------------------------------------------------------\u001b[0m",
      "\u001b[1;31mZeroDivisionError\u001b[0m                         Traceback (most recent call last)",
      "Input \u001b[1;32mIn [54]\u001b[0m, in \u001b[0;36m<cell line: 1>\u001b[1;34m()\u001b[0m\n\u001b[1;32m----> 1\u001b[0m \u001b[38;5;28;01mif\u001b[39;00m \u001b[38;5;28;01mFalse\u001b[39;00m \u001b[38;5;129;01mor\u001b[39;00m \u001b[43ma\u001b[49m\u001b[38;5;241;43m/\u001b[39;49m\u001b[38;5;241;43m0\u001b[39;49m:\n\u001b[0;32m      2\u001b[0m     \u001b[38;5;28mprint\u001b[39m(\u001b[38;5;124m\"\u001b[39m\u001b[38;5;124mhello\u001b[39m\u001b[38;5;124m\"\u001b[39m)\n\u001b[0;32m      3\u001b[0m \u001b[38;5;28;01melse\u001b[39;00m:\n",
      "\u001b[1;31mZeroDivisionError\u001b[0m: division by zero"
     ]
    }
   ],
   "source": [
    "if False or a/0:\n",
    "    print(\"hello\")\n",
    "else:\n",
    "    print(\"by\")"
   ]
  },
  {
   "cell_type": "code",
   "execution_count": null,
   "id": "8d0db2de",
   "metadata": {},
   "outputs": [],
   "source": []
  }
 ],
 "metadata": {
  "kernelspec": {
   "display_name": "Python 3 (ipykernel)",
   "language": "python",
   "name": "python3"
  },
  "language_info": {
   "codemirror_mode": {
    "name": "ipython",
    "version": 3
   },
   "file_extension": ".py",
   "mimetype": "text/x-python",
   "name": "python",
   "nbconvert_exporter": "python",
   "pygments_lexer": "ipython3",
   "version": "3.9.12"
  }
 },
 "nbformat": 4,
 "nbformat_minor": 5
}
