{
 "cells": [
  {
   "cell_type": "code",
   "execution_count": 6,
   "id": "3c7691d2",
   "metadata": {},
   "outputs": [
    {
     "name": "stdout",
     "output_type": "stream",
     "text": [
      "hello my name is  sanjit\n"
     ]
    }
   ],
   "source": [
    "def greet():\n",
    "    print(\"hello\",end=' ')\n",
    "    print(\"my name is \",end=' ')\n",
    "    print(\"sanjit\")\n",
    "greet()"
   ]
  },
  {
   "cell_type": "code",
   "execution_count": 8,
   "id": "f106a02d",
   "metadata": {},
   "outputs": [
    {
     "name": "stdout",
     "output_type": "stream",
     "text": [
      "hello my name is  sanjit\n",
      "hello my name is  sanjit\n",
      "hello my name is  sanjit\n"
     ]
    }
   ],
   "source": [
    "def greet():\n",
    "    print(\"hello\",end=' ')\n",
    "    print(\"my name is \",end=' ')\n",
    "    print(\"sanjit\")\n",
    "greet()\n",
    "greet()\n",
    "greet()"
   ]
  },
  {
   "cell_type": "code",
   "execution_count": 10,
   "id": "3e102a29",
   "metadata": {},
   "outputs": [
    {
     "name": "stdout",
     "output_type": "stream",
     "text": [
      "5\n"
     ]
    }
   ],
   "source": [
    "def add(a,b):\n",
    "    print(a+b)\n",
    "add(3,2)"
   ]
  },
  {
   "cell_type": "code",
   "execution_count": 13,
   "id": "fa572e85",
   "metadata": {},
   "outputs": [
    {
     "name": "stdout",
     "output_type": "stream",
     "text": [
      "13\n",
      "11\n",
      "11\n"
     ]
    }
   ],
   "source": [
    "add(6,7)\n",
    "add(5,6)\n",
    "add(3,8)"
   ]
  },
  {
   "cell_type": "markdown",
   "id": "e903932b",
   "metadata": {},
   "source": [
    "To let a function return a value, use the return statement:\n"
   ]
  },
  {
   "cell_type": "code",
   "execution_count": 16,
   "id": "96c8d212",
   "metadata": {},
   "outputs": [
    {
     "data": {
      "text/plain": [
       "1"
      ]
     },
     "execution_count": 16,
     "metadata": {},
     "output_type": "execute_result"
    }
   ],
   "source": [
    "def subs(a,b):\n",
    "    return (a-b)\n",
    "subs(3,2)"
   ]
  },
  {
   "cell_type": "code",
   "execution_count": 17,
   "id": "a5ab8180",
   "metadata": {},
   "outputs": [
    {
     "data": {
      "text/plain": [
       "2"
      ]
     },
     "execution_count": 17,
     "metadata": {},
     "output_type": "execute_result"
    }
   ],
   "source": [
    "subs(5,3)"
   ]
  },
  {
   "cell_type": "code",
   "execution_count": 25,
   "id": "d45b42bb",
   "metadata": {},
   "outputs": [
    {
     "data": {
      "text/plain": [
       "(3, -1)"
      ]
     },
     "execution_count": 25,
     "metadata": {},
     "output_type": "execute_result"
    }
   ],
   "source": [
    "def add_sub(a,b):\n",
    "    x = a+b\n",
    "    y = a-b\n",
    "    return x, y\n",
    "add_sub(1,2)"
   ]
  },
  {
   "cell_type": "code",
   "execution_count": 28,
   "id": "8e3a4fe2",
   "metadata": {},
   "outputs": [
    {
     "name": "stdout",
     "output_type": "stream",
     "text": [
      "(3, -1)\n"
     ]
    }
   ],
   "source": [
    "def add_sub(a,b):\n",
    "    x = a+b\n",
    "    y = a-b\n",
    "    return x, y\n",
    "final = add_sub(1,2)\n",
    "print(final)"
   ]
  },
  {
   "cell_type": "code",
   "execution_count": 30,
   "id": "724f5671",
   "metadata": {},
   "outputs": [
    {
     "name": "stdout",
     "output_type": "stream",
     "text": [
      "3\n",
      "-1\n"
     ]
    }
   ],
   "source": [
    "def add_sub(a,b):\n",
    "    x = a+b\n",
    "    y = a-b\n",
    "    return x, y\n",
    "add_, sub_ = add_sub(1,2)\n",
    "print(add_)\n",
    "print(sub_)"
   ]
  },
  {
   "cell_type": "code",
   "execution_count": 37,
   "id": "327c179b",
   "metadata": {},
   "outputs": [
    {
     "name": "stdout",
     "output_type": "stream",
     "text": [
      "enter the number 5\n",
      "0 1 2 3 4 5 "
     ]
    }
   ],
   "source": [
    "def natural_number(n):\n",
    "    i = 0\n",
    "    while i <= n: \n",
    "        print(i, end = \" \")\n",
    "        i+= 1\n",
    "n = int(input(\"enter the number \"))\n",
    "natural_number(n)"
   ]
  },
  {
   "cell_type": "code",
   "execution_count": 40,
   "id": "929aeb07",
   "metadata": {},
   "outputs": [
    {
     "name": "stdout",
     "output_type": "stream",
     "text": [
      "4\n",
      "0 1 2 3 4 "
     ]
    }
   ],
   "source": [
    "def nautural_number(n):\n",
    "    for i in range(n+1):\n",
    "        print(i,end=' ')\n",
    "n = int(input())\n",
    "nautural_number(n)"
   ]
  },
  {
   "cell_type": "code",
   "execution_count": 42,
   "id": "cb294ac3",
   "metadata": {},
   "outputs": [
    {
     "name": "stdout",
     "output_type": "stream",
     "text": [
      "A B C D E F G H I J K L M N O P Q R S T U V W X Y Z "
     ]
    }
   ],
   "source": [
    "def ascii():\n",
    "    i = 65\n",
    "    while i < 91:\n",
    "        print(chr(i),end=\" \")\n",
    "        i += 1\n",
    "ascii()"
   ]
  },
  {
   "cell_type": "code",
   "execution_count": 44,
   "id": "43d01aac",
   "metadata": {},
   "outputs": [
    {
     "name": "stdout",
     "output_type": "stream",
     "text": [
      "enter the number 5\n",
      "15\n"
     ]
    }
   ],
   "source": [
    "def sum_(n):\n",
    "    out = 0\n",
    "    for i in range(n+1):\n",
    "        out = out + i\n",
    "    print(out)\n",
    "n = int(input(\"enter the number \"))\n",
    "sum_(n)\n",
    "    "
   ]
  },
  {
   "cell_type": "code",
   "execution_count": 47,
   "id": "6f4ccbb1",
   "metadata": {},
   "outputs": [
    {
     "name": "stdout",
     "output_type": "stream",
     "text": [
      "10\n"
     ]
    }
   ],
   "source": [
    "def function(a, b):\n",
    "    return a \n",
    "\n",
    "\n",
    "print(function(10, 20))                 # (10, 20) output inside the tuple, for single value then 10"
   ]
  },
  {
   "cell_type": "code",
   "execution_count": 49,
   "id": "9bb640da",
   "metadata": {},
   "outputs": [
    {
     "data": {
      "text/plain": [
       "12"
      ]
     },
     "execution_count": 49,
     "metadata": {},
     "output_type": "execute_result"
    }
   ],
   "source": [
    "\"\"\" using positional only arguments \"\"\"\n",
    "def add_(a, b, /):\n",
    "    c = a + b\n",
    "    return c\n",
    "add_(5, 7)"
   ]
  },
  {
   "cell_type": "code",
   "execution_count": 50,
   "id": "a880ef94",
   "metadata": {},
   "outputs": [
    {
     "data": {
      "text/plain": [
       "12"
      ]
     },
     "execution_count": 50,
     "metadata": {},
     "output_type": "execute_result"
    }
   ],
   "source": [
    "\"\"\"using keyword only arguments\"\"\"\n",
    "def add_(*, a, b):\n",
    "    c = a + b\n",
    "    return c\n",
    "add_(a=5, b=7)\n"
   ]
  },
  {
   "cell_type": "code",
   "execution_count": 48,
   "id": "f8a4f4bf",
   "metadata": {},
   "outputs": [
    {
     "data": {
      "text/plain": [
       "12"
      ]
     },
     "execution_count": 48,
     "metadata": {},
     "output_type": "execute_result"
    }
   ],
   "source": [
    "\"\"\" using both keyword & positional \"\"\"\n",
    "def add_(a, /, *, b):\n",
    "    c = a + b\n",
    "    return c\n",
    "add_(5, b=7)"
   ]
  },
  {
   "cell_type": "markdown",
   "id": "adadc326",
   "metadata": {},
   "source": [
    "\"\"\"WAP to return even number from 0 to 50 in a list \"\"\""
   ]
  },
  {
   "cell_type": "code",
   "execution_count": 72,
   "id": "355c8122",
   "metadata": {},
   "outputs": [
    {
     "data": {
      "text/plain": [
       "[0, 2, 4, 6, 8, 10, 12, 14, 16, 18, 20, 22, 24, 26, 28, 30]"
      ]
     },
     "execution_count": 72,
     "metadata": {},
     "output_type": "execute_result"
    }
   ],
   "source": [
    "def even_(n):\n",
    "    res = []\n",
    "    for i in range(n+1):\n",
    "        if i % 2 == 0:\n",
    "            res.append(i)\n",
    "    return res\n",
    "even_(30)"
   ]
  },
  {
   "cell_type": "markdown",
   "id": "8ca29adf",
   "metadata": {},
   "source": [
    "\"\"\" WAP to add three number but third value as a default parameters \"\"\""
   ]
  },
  {
   "cell_type": "code",
   "execution_count": 67,
   "id": "9eb7c643",
   "metadata": {},
   "outputs": [
    {
     "name": "stdout",
     "output_type": "stream",
     "text": [
      "30\n",
      "60\n"
     ]
    }
   ],
   "source": [
    "def add_(a, b, c=0):\n",
    "    return a + b + c\n",
    "\n",
    "\n",
    "print(add_(10, 20))             # 30\n",
    "print(add_(10, 20, 30))         # 60"
   ]
  },
  {
   "cell_type": "markdown",
   "id": "a7dbfadd",
   "metadata": {},
   "source": [
    "\"\"\" WAP that returns number of positional argument & number of keyword arguments \"\"\"\n"
   ]
  },
  {
   "cell_type": "code",
   "execution_count": 68,
   "id": "02b67ab4",
   "metadata": {},
   "outputs": [
    {
     "name": "stdout",
     "output_type": "stream",
     "text": [
      "(3, 2)\n"
     ]
    }
   ],
   "source": [
    "def count_(*args, **kwargs):\n",
    "    return len(args), len(kwargs)\n",
    "\n",
    "\n",
    "print(count_(1, 2, 3.5, a=5, b=10))"
   ]
  },
  {
   "cell_type": "markdown",
   "id": "141a85e3",
   "metadata": {},
   "source": [
    "#  Recursion"
   ]
  },
  {
   "cell_type": "code",
   "execution_count": null,
   "id": "20dc6196",
   "metadata": {},
   "outputs": [],
   "source": [
    " Function calling itself until the condition is being satisfied.\n",
    " used to avoid loops in some cases\n",
    " by using getrecursionlimit() => we find the recursion limit"
   ]
  },
  {
   "cell_type": "code",
   "execution_count": 86,
   "id": "b245ada2",
   "metadata": {},
   "outputs": [
    {
     "name": "stdout",
     "output_type": "stream",
     "text": [
      "3000\n"
     ]
    }
   ],
   "source": [
    "# Method 1:\n",
    "import sys\n",
    "sys.getrecursionlimit()                     # nothing to display\n",
    "print(sys.getrecursionlimit())              # 3000"
   ]
  },
  {
   "cell_type": "code",
   "execution_count": 3,
   "id": "6e3701b5",
   "metadata": {},
   "outputs": [
    {
     "name": "stdout",
     "output_type": "stream",
     "text": [
      "3000\n"
     ]
    }
   ],
   "source": [
    "from sys import getrecursionlimit\n",
    "getrecursionlimit()                           # nothing to display\n",
    "print(getrecursionlimit())                    # 1000"
   ]
  },
  {
   "cell_type": "code",
   "execution_count": 6,
   "id": "97389c40",
   "metadata": {},
   "outputs": [
    {
     "name": "stdout",
     "output_type": "stream",
     "text": [
      "None\n",
      "2000\n"
     ]
    }
   ],
   "source": [
    "import sys\n",
    "sys.setrecursionlimit(500)                     # Nothing to display\n",
    "print(sys.setrecursionlimit(2000))              # None\n",
    "getrecursionlimit()                             # Nothing to display\n",
    "print(getrecursionlimit())                      # 2000"
   ]
  },
  {
   "cell_type": "code",
   "execution_count": 94,
   "id": "d12bf27e",
   "metadata": {},
   "outputs": [
    {
     "name": "stdout",
     "output_type": "stream",
     "text": [
      "1 2 3 4 5 6 7 8 9 10 "
     ]
    }
   ],
   "source": [
    "\"\"\"WA Recursive program to print number from 1 to 10 \"\"\"\n",
    "\n",
    "def count_(start, end):\n",
    "    if start <= end:\n",
    "        print(start, end=\" \")\n",
    "        return count_(start + 1, end)\n",
    "\n",
    "count_(1, 10)\n"
   ]
  },
  {
   "cell_type": "code",
   "execution_count": 93,
   "id": "52489c3c",
   "metadata": {},
   "outputs": [
    {
     "name": "stdout",
     "output_type": "stream",
     "text": [
      "10 9 8 7 6 5 4 3 2 1 "
     ]
    }
   ],
   "source": [
    "\"\"\" WA Recursive program to print number from 10 to 1 \"\"\"\n",
    "\n",
    "def rev_count(start, end):\n",
    "    if start >= end:\n",
    "        print(start, end=\" \")\n",
    "        return rev_count(start-1, end)\n",
    "\n",
    "\n",
    "rev_count(10, 1)"
   ]
  },
  {
   "cell_type": "code",
   "execution_count": 1,
   "id": "e4def2b9",
   "metadata": {},
   "outputs": [
    {
     "ename": "SyntaxError",
     "evalue": "invalid syntax (218923855.py, line 3)",
     "output_type": "error",
     "traceback": [
      "\u001b[1;36m  Input \u001b[1;32mIn [1]\u001b[1;36m\u001b[0m\n\u001b[1;33m    greet(.)\u001b[0m\n\u001b[1;37m          ^\u001b[0m\n\u001b[1;31mSyntaxError\u001b[0m\u001b[1;31m:\u001b[0m invalid syntax\n"
     ]
    }
   ],
   "source": [
    "def greet():\n",
    "    print(\"sanjit\")\n",
    "    greet()\n",
    "greet()"
   ]
  },
  {
   "cell_type": "markdown",
   "id": "f75af1b1",
   "metadata": {},
   "source": [
    "# Module"
   ]
  },
  {
   "cell_type": "code",
   "execution_count": null,
   "id": "202d6631",
   "metadata": {},
   "outputs": [],
   "source": [
    "1] File : smallest entity which store data is called File\n",
    ">>> it has a name and extention like ppt,pdf,gpj,jpge,mp3,mp4\n",
    "\n",
    "2] Folder : collection of files ( DIrectory )\n",
    "    "
   ]
  },
  {
   "cell_type": "code",
   "execution_count": null,
   "id": "816c2906",
   "metadata": {},
   "outputs": [],
   "source": [
    "PYTHON :\n",
    "    any file that has .py as its extension called python module[ file_name.py >>> python module] .py extension\n",
    "    \n",
    "    collection of file    >>>  Directory\n",
    "    collection of Module  >>>  Directory\n",
    "    collection of module  >>>  dir.... ,Package\n",
    "    \n",
    "    collection of module |\n",
    "            +            | >>>>> Package\n",
    "      _ _ init_ _ .py    |  "
   ]
  },
  {
   "cell_type": "code",
   "execution_count": null,
   "id": "75688ecd",
   "metadata": {},
   "outputs": [],
   "source": [
    "t is used  when we need to import some modules from different package.\n",
    "use the keyword to use module :   import file_name\n",
    "if u use all method function and class use to :  from file_name import *\n"
   ]
  }
 ],
 "metadata": {
  "kernelspec": {
   "display_name": "Python 3 (ipykernel)",
   "language": "python",
   "name": "python3"
  },
  "language_info": {
   "codemirror_mode": {
    "name": "ipython",
    "version": 3
   },
   "file_extension": ".py",
   "mimetype": "text/x-python",
   "name": "python",
   "nbconvert_exporter": "python",
   "pygments_lexer": "ipython3",
   "version": "3.9.12"
  }
 },
 "nbformat": 4,
 "nbformat_minor": 5
}
